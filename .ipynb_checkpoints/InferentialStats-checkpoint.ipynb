{
 "cells": [
  {
   "cell_type": "markdown",
   "metadata": {},
   "source": [
    "# Inferential Stats Exploration"
   ]
  },
  {
   "cell_type": "code",
   "execution_count": 53,
   "metadata": {},
   "outputs": [
    {
     "name": "stdout",
     "output_type": "stream",
     "text": [
      "Populating the interactive namespace from numpy and matplotlib\n"
     ]
    },
    {
     "name": "stderr",
     "output_type": "stream",
     "text": [
      "/home/lara/anaconda2/lib/python2.7/site-packages/IPython/core/magics/pylab.py:161: UserWarning: pylab import has clobbered these variables: ['axis', 'mod']\n",
      "`%matplotlib` prevents importing * from pylab and numpy\n",
      "  \"\\n`%matplotlib` prevents importing * from pylab and numpy\"\n"
     ]
    }
   ],
   "source": [
    "import pandas as pd\n",
    "import numpy as np\n",
    "import matplotlib.pyplot as plt\n",
    "import bokeh.plotting as bkp\n",
    "from mpl_toolkits.axes_grid1 import make_axes_locatable\n",
    "import scipy\n",
    "from scipy import stats\n",
    "import statsmodels\n",
    "import statsmodels.stats.weightstats\n",
    "import seaborn as sns\n",
    "\n",
    "%pylab inline\n",
    "\n",
    "#wrangled data imported into a pandas dataframe\n",
    "df = pd.read_csv('~/Documents/Repository/Capstone-1_WorldBank_GenderData/wrangled_data.csv')"
   ]
  },
  {
   "cell_type": "code",
   "execution_count": 54,
   "metadata": {},
   "outputs": [
    {
     "data": {
      "text/plain": [
       "NormaltestResult(statistic=294.1448406922247, pvalue=1.3404771135878002e-64)"
      ]
     },
     "execution_count": 54,
     "metadata": {},
     "output_type": "execute_result"
    }
   ],
   "source": [
    "#test to verify that the distribution of Life Expectancy is normal\n",
    "life = df['Life expectancy at birth, total (years)'].dropna()\n",
    "scipy.stats.normaltest(life, axis=0)"
   ]
  },
  {
   "cell_type": "code",
   "execution_count": 55,
   "metadata": {},
   "outputs": [
    {
     "data": {
      "text/plain": [
       "246"
      ]
     },
     "execution_count": 55,
     "metadata": {},
     "output_type": "execute_result"
    }
   ],
   "source": [
    "df['Life expectancy at birth, total (years)'].isnull().sum()"
   ]
  },
  {
   "cell_type": "code",
   "execution_count": 56,
   "metadata": {},
   "outputs": [
    {
     "data": {
      "text/plain": [
       "NormaltestResult(statistic=264.95699668268827, pvalue=2.9195720645692804e-58)"
      ]
     },
     "execution_count": 56,
     "metadata": {},
     "output_type": "execute_result"
    }
   ],
   "source": [
    "#test to verify that the distribution of Contraceptive prevalence is normal\n",
    "scipy.stats.normaltest(df['Contraceptive prevalence, any methods (% of women ages 15-49)'], axis=0, nan_policy='omit')"
   ]
  },
  {
   "cell_type": "code",
   "execution_count": 57,
   "metadata": {},
   "outputs": [
    {
     "data": {
      "text/plain": [
       "3306"
      ]
     },
     "execution_count": 57,
     "metadata": {},
     "output_type": "execute_result"
    }
   ],
   "source": [
    "df['Contraceptive prevalence, any methods (% of women ages 15-49)'].isnull().sum()"
   ]
  },
  {
   "cell_type": "code",
   "execution_count": 61,
   "metadata": {},
   "outputs": [],
   "source": [
    "corr = pd.DataFrame()\n",
    "corr['country'] = df['Country.Name']\n",
    "corr['life'] = df['Life expectancy at birth, total (years)']\n",
    "corr['bc'] = df['Contraceptive prevalence, any methods (% of women ages 15-49)']\n",
    "corr['teen'] = df['Adolescent fertility rate (births per 1,000 women ages 15-19)']\n",
    "corr['matdeath'] = df['Maternal mortality ratio (modeled estimate, per 100,000 live births)']\n",
    "corr['eduspend'] = df['Public spending on education, total (% of GDP)']"
   ]
  },
  {
   "cell_type": "code",
   "execution_count": null,
   "metadata": {
    "collapsed": true
   },
   "outputs": [],
   "source": []
  },
  {
   "cell_type": "code",
   "execution_count": 62,
   "metadata": {},
   "outputs": [],
   "source": [
    "#clean = corr.dropna(subset= ['life','bc'])\n",
    "clnlife = corr[np.isfinite(corr['life'])]"
   ]
  },
  {
   "cell_type": "code",
   "execution_count": null,
   "metadata": {
    "collapsed": true
   },
   "outputs": [],
   "source": []
  },
  {
   "cell_type": "code",
   "execution_count": 60,
   "metadata": {},
   "outputs": [
    {
     "ename": "AttributeError",
     "evalue": "'Series' object has no attribute 'bc'",
     "output_type": "error",
     "traceback": [
      "\u001b[0;31m---------------------------------------------------------------------------\u001b[0m",
      "\u001b[0;31mAttributeError\u001b[0m                            Traceback (most recent call last)",
      "\u001b[0;32m<ipython-input-60-ae603a70144b>\u001b[0m in \u001b[0;36m<module>\u001b[0;34m()\u001b[0m\n\u001b[0;32m----> 1\u001b[0;31m \u001b[0mscipy\u001b[0m\u001b[0;34m.\u001b[0m\u001b[0mstats\u001b[0m\u001b[0;34m.\u001b[0m\u001b[0mpearsonr\u001b[0m\u001b[0;34m(\u001b[0m\u001b[0mclean\u001b[0m\u001b[0;34m.\u001b[0m\u001b[0mbc\u001b[0m\u001b[0;34m,\u001b[0m\u001b[0mclean\u001b[0m\u001b[0;34m.\u001b[0m\u001b[0mlife\u001b[0m\u001b[0;34m)\u001b[0m\u001b[0;34m\u001b[0m\u001b[0m\n\u001b[0m",
      "\u001b[0;32m/home/lara/anaconda2/lib/python2.7/site-packages/pandas/core/generic.pyc\u001b[0m in \u001b[0;36m__getattr__\u001b[0;34m(self, name)\u001b[0m\n\u001b[1;32m   2968\u001b[0m             \u001b[0;32mif\u001b[0m \u001b[0mname\u001b[0m \u001b[0;32min\u001b[0m \u001b[0mself\u001b[0m\u001b[0;34m.\u001b[0m\u001b[0m_info_axis\u001b[0m\u001b[0;34m:\u001b[0m\u001b[0;34m\u001b[0m\u001b[0m\n\u001b[1;32m   2969\u001b[0m                 \u001b[0;32mreturn\u001b[0m \u001b[0mself\u001b[0m\u001b[0;34m[\u001b[0m\u001b[0mname\u001b[0m\u001b[0;34m]\u001b[0m\u001b[0;34m\u001b[0m\u001b[0m\n\u001b[0;32m-> 2970\u001b[0;31m             \u001b[0;32mreturn\u001b[0m \u001b[0mobject\u001b[0m\u001b[0;34m.\u001b[0m\u001b[0m__getattribute__\u001b[0m\u001b[0;34m(\u001b[0m\u001b[0mself\u001b[0m\u001b[0;34m,\u001b[0m \u001b[0mname\u001b[0m\u001b[0;34m)\u001b[0m\u001b[0;34m\u001b[0m\u001b[0m\n\u001b[0m\u001b[1;32m   2971\u001b[0m \u001b[0;34m\u001b[0m\u001b[0m\n\u001b[1;32m   2972\u001b[0m     \u001b[0;32mdef\u001b[0m \u001b[0m__setattr__\u001b[0m\u001b[0;34m(\u001b[0m\u001b[0mself\u001b[0m\u001b[0;34m,\u001b[0m \u001b[0mname\u001b[0m\u001b[0;34m,\u001b[0m \u001b[0mvalue\u001b[0m\u001b[0;34m)\u001b[0m\u001b[0;34m:\u001b[0m\u001b[0;34m\u001b[0m\u001b[0m\n",
      "\u001b[0;31mAttributeError\u001b[0m: 'Series' object has no attribute 'bc'"
     ]
    }
   ],
   "source": [
    "scipy.stats.pearsonr(clean.bc,clean.life)"
   ]
  },
  {
   "cell_type": "code",
   "execution_count": null,
   "metadata": {
    "collapsed": true
   },
   "outputs": [],
   "source": []
  },
  {
   "cell_type": "code",
   "execution_count": null,
   "metadata": {},
   "outputs": [],
   "source": [
    "# visualize the relationship between independent variables and Life Expectancy using scatterplots\n",
    "fig, axs = plt.subplots(1, 4, sharey=True)\n",
    "df.plot(kind='scatter', x='Contraceptive prevalence, any methods (% of women ages 15-49)', y='Life expectancy at birth, total (years)', ax=axs[0], figsize=(20, 8))\n",
    "df.plot(kind='scatter', x='Adolescent fertility rate (births per 1,000 women ages 15-19)', y='Life expectancy at birth, total (years)', ax=axs[1])\n",
    "df.plot(kind='scatter', x='Maternal mortality ratio (modeled estimate, per 100,000 live births)', y='Life expectancy at birth, total (years)', ax=axs[2])\n",
    "df.plot(kind='scatter', x='Public spending on education, total (% of GDP)', y='Life expectancy at birth, total (years)', ax=axs[3])\n"
   ]
  },
  {
   "cell_type": "code",
   "execution_count": null,
   "metadata": {
    "collapsed": true
   },
   "outputs": [],
   "source": []
  },
  {
   "cell_type": "code",
   "execution_count": null,
   "metadata": {},
   "outputs": [],
   "source": [
    "import statsmodels.formula.api as smf\n",
    "\n",
    "# create a fitted model in one line\n",
    "contra = smf.ols(formula='life ~ bc', data=corr).fit()\n",
    "# print the coefficients\n",
    "contra.params"
   ]
  },
  {
   "cell_type": "code",
   "execution_count": null,
   "metadata": {
    "scrolled": true
   },
   "outputs": [],
   "source": [
    "adole = smf.ols(formula='life ~ teen', data=corr).fit()\n",
    "adole.params"
   ]
  },
  {
   "cell_type": "code",
   "execution_count": null,
   "metadata": {},
   "outputs": [],
   "source": [
    "momdead = smf.ols(formula='life ~ matdeath', data=corr).fit()\n",
    "momdead.params"
   ]
  },
  {
   "cell_type": "code",
   "execution_count": null,
   "metadata": {},
   "outputs": [],
   "source": [
    "edu = smf.ols(formula='life ~ eduspend', data=corr).fit()\n",
    "edu.params"
   ]
  },
  {
   "cell_type": "code",
   "execution_count": null,
   "metadata": {},
   "outputs": [],
   "source": [
    "mod = smf.ols(formula='life ~ bc + teen + matdeath + eduspend', data=corr)\n",
    "res = mod.fit()\n",
    "res.summary()"
   ]
  },
  {
   "cell_type": "code",
   "execution_count": null,
   "metadata": {
    "collapsed": true
   },
   "outputs": [],
   "source": []
  },
  {
   "cell_type": "code",
   "execution_count": null,
   "metadata": {
    "collapsed": true
   },
   "outputs": [],
   "source": []
  },
  {
   "cell_type": "code",
   "execution_count": null,
   "metadata": {},
   "outputs": [],
   "source": []
  },
  {
   "cell_type": "code",
   "execution_count": null,
   "metadata": {},
   "outputs": [],
   "source": [
    "#maternal death vs literacy rate\n",
    "death, axis = plt.subplots(1, 4, sharey=True)\n",
    "df.plot(kind='scatter', x='Literacy rate, adult female (% of females ages 15 and above)', y='Maternal mortality ratio (modeled estimate, per 100,000 live births)', ax=axis[0], figsize=(20, 8))\n",
    "df.plot(kind='scatter', x='Literacy rate, adult male (% of males ages 15 and above)', y='Maternal mortality ratio (modeled estimate, per 100,000 live births)', ax=axis[1])\n",
    "df.plot(kind='scatter', x='Literacy rate, youth female (% of females ages 15-24)', y='Maternal mortality ratio (modeled estimate, per 100,000 live births)', ax =axis[2])\n",
    "df.plot(kind='scatter', x='Literacy rate, youth male (% of males ages 15-24)', y='Maternal mortality ratio (modeled estimate, per 100,000 live births)', ax=axis[3])\n",
    "axis[0].set_xlim([0, 100])\n",
    "axis[0].set_ylim([0, 1000])\n",
    "axis[1].set_xlim([0, 100])\n",
    "axis[1].set_ylim([0, 1000])\n",
    "axis[2].set_xlim([0, 100])\n",
    "axis[2].set_ylim([0, 1000])\n",
    "axis[3].set_xlim([0, 100])\n",
    "axis[3].set_ylim([0, 1000])"
   ]
  },
  {
   "cell_type": "code",
   "execution_count": null,
   "metadata": {
    "collapsed": true
   },
   "outputs": [],
   "source": []
  },
  {
   "cell_type": "code",
   "execution_count": null,
   "metadata": {},
   "outputs": [],
   "source": [
    "corr['litfemale'] = df['Literacy rate, adult female (% of females ages 15 and above)']\n",
    "corr['litmale'] = df['Literacy rate, adult male (% of males ages 15 and above)']\n",
    "corr['youthfemale'] = df['Literacy rate, youth female (% of females ages 15-24)']\n",
    "corr['youthmale'] = df['Literacy rate, youth male (% of males ages 15-24)']\n",
    "\n",
    "femlit = smf.ols(formula='litfemale ~ matdeath', data=corr).fit()\n",
    "femlit.params"
   ]
  },
  {
   "cell_type": "code",
   "execution_count": null,
   "metadata": {},
   "outputs": [],
   "source": [
    "mlit = smf.ols(formula='litmale ~ matdeath', data=corr).fit()\n",
    "mlit.params"
   ]
  },
  {
   "cell_type": "code",
   "execution_count": null,
   "metadata": {},
   "outputs": [],
   "source": [
    "yfemlit = smf.ols(formula='youthfemale ~ matdeath', data=corr).fit()\n",
    "yfemlit.params"
   ]
  },
  {
   "cell_type": "code",
   "execution_count": null,
   "metadata": {},
   "outputs": [],
   "source": [
    "ymlit = smf.ols(formula='youthmale ~ matdeath', data=corr).fit()\n",
    "ymlit.params"
   ]
  },
  {
   "cell_type": "code",
   "execution_count": null,
   "metadata": {
    "collapsed": true
   },
   "outputs": [],
   "source": []
  },
  {
   "cell_type": "code",
   "execution_count": null,
   "metadata": {
    "collapsed": true
   },
   "outputs": [],
   "source": []
  },
  {
   "cell_type": "code",
   "execution_count": null,
   "metadata": {},
   "outputs": [],
   "source": [
    "# Scatter plots of Adolescent Fertility vs Contraceptive use and Public Education Spending\n",
    "fig, axs = plt.subplots(1, 2, sharey=True)\n",
    "df.plot(kind='scatter', x='Contraceptive prevalence, any methods (% of women ages 15-49)', y='Adolescent fertility rate (births per 1,000 women ages 15-19)', ax=axs[0], figsize=(20, 8))\n",
    "df.plot(kind='scatter', x='Public spending on education, total (% of GDP)', y='Adolescent fertility rate (births per 1,000 women ages 15-19)', ax=axs[1])"
   ]
  },
  {
   "cell_type": "code",
   "execution_count": null,
   "metadata": {},
   "outputs": [],
   "source": [
    "#Adolescent Fertility dependence on Contraceptive Prevalence\n",
    "teenbc = smf.ols(formula='teen ~ bc', data=corr).fit()\n",
    "teenbc.params"
   ]
  },
  {
   "cell_type": "code",
   "execution_count": null,
   "metadata": {},
   "outputs": [],
   "source": [
    "#Adolescent Fertility dependence on Public Education Spending\n",
    "teenedu = smf.ols(formula='teen ~ eduspend', data=corr).fit()\n",
    "teenedu.params"
   ]
  },
  {
   "cell_type": "code",
   "execution_count": null,
   "metadata": {},
   "outputs": [],
   "source": [
    "teenfert = smf.ols(formula='teen ~ bc + eduspend', data=corr)\n",
    "line = teenfert.fit()\n",
    "line.summary()"
   ]
  },
  {
   "cell_type": "code",
   "execution_count": null,
   "metadata": {
    "collapsed": true
   },
   "outputs": [],
   "source": []
  },
  {
   "cell_type": "code",
   "execution_count": null,
   "metadata": {
    "collapsed": true
   },
   "outputs": [],
   "source": []
  },
  {
   "cell_type": "code",
   "execution_count": null,
   "metadata": {},
   "outputs": [],
   "source": [
    "# visualize the relationship between Maternal Mortality vs Public Education Spending, Contraceptive use, and Adolescent Fertility using scatterplots\n",
    "fig, axs = plt.subplots(1, 3, sharey=True)\n",
    "df.plot(kind='scatter', x='Public spending on education, total (% of GDP)', y='Maternal mortality ratio (modeled estimate, per 100,000 live births)', ax=axs[0], figsize=(20, 8))\n",
    "df.plot(kind='scatter', x='Contraceptive prevalence, any methods (% of women ages 15-49)', y='Maternal mortality ratio (modeled estimate, per 100,000 live births)', ax=axs[1])\n",
    "df.plot(kind='scatter', x='Adolescent fertility rate (births per 1,000 women ages 15-19)', y='Maternal mortality ratio (modeled estimate, per 100,000 live births)', ax=axs[2])"
   ]
  },
  {
   "cell_type": "code",
   "execution_count": null,
   "metadata": {},
   "outputs": [],
   "source": []
  },
  {
   "cell_type": "code",
   "execution_count": null,
   "metadata": {
    "collapsed": true
   },
   "outputs": [],
   "source": []
  },
  {
   "cell_type": "code",
   "execution_count": null,
   "metadata": {},
   "outputs": [],
   "source": [
    "# visualize the relationship between  using scatterplots\n",
    "Ed_BC = df.plot(kind='scatter', x='Public spending on education, total (% of GDP)', y='Contraceptive prevalence, any methods (% of women ages 15-49)', ax=axs[2])\n",
    "Ed_BC"
   ]
  },
  {
   "cell_type": "code",
   "execution_count": null,
   "metadata": {
    "collapsed": true
   },
   "outputs": [],
   "source": []
  },
  {
   "cell_type": "code",
   "execution_count": null,
   "metadata": {
    "collapsed": true
   },
   "outputs": [],
   "source": []
  },
  {
   "cell_type": "code",
   "execution_count": null,
   "metadata": {},
   "outputs": [],
   "source": [
    "'''corr = pd.DataFrame()\n",
    "corr['country'] = df['Country.Name']\n",
    "corr['life'] = df['Life expectancy at birth, total (years)']\n",
    "corr['bc'] = df['Contraceptive prevalence, any methods (% of women ages 15-49)']\n",
    "corr['teen'] = df['Adolescent fertility rate (births per 1,000 women ages 15-19)']\n",
    "corr['matdeath'] = df['Maternal mortality ratio (modeled estimate, per 100,000 live births)']\n",
    "corr['eduspend'] = df['Public spending on education, total (% of GDP)']\n",
    "'''\n"
   ]
  },
  {
   "cell_type": "code",
   "execution_count": null,
   "metadata": {},
   "outputs": [],
   "source": []
  },
  {
   "cell_type": "code",
   "execution_count": null,
   "metadata": {
    "collapsed": true
   },
   "outputs": [],
   "source": []
  },
  {
   "cell_type": "code",
   "execution_count": null,
   "metadata": {
    "collapsed": true
   },
   "outputs": [],
   "source": []
  }
 ],
 "metadata": {
  "kernelspec": {
   "display_name": "Python 2",
   "language": "python",
   "name": "python2"
  },
  "language_info": {
   "codemirror_mode": {
    "name": "ipython",
    "version": 2
   },
   "file_extension": ".py",
   "mimetype": "text/x-python",
   "name": "python",
   "nbconvert_exporter": "python",
   "pygments_lexer": "ipython2",
   "version": "2.7.13"
  }
 },
 "nbformat": 4,
 "nbformat_minor": 2
}
