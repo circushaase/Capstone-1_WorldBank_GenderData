{
 "cells": [
  {
   "cell_type": "code",
   "execution_count": 1,
   "metadata": {
    "collapsed": true
   },
   "outputs": [],
   "source": [
    "import pandas as pd\n",
    "import numpy as np\n",
    "from scipy import stats\n",
    "import scipy\n",
    "focus= pd.read_csv('~/Documents/Repository/Capstone-1_WorldBank_GenderData/focus.csv')"
   ]
  },
  {
   "cell_type": "code",
   "execution_count": 13,
   "metadata": {},
   "outputs": [
    {
     "data": {
      "text/plain": [
       "NormaltestResult(statistic=11.967032622933143, pvalue=0.0025199497668011049)"
      ]
     },
     "execution_count": 13,
     "metadata": {},
     "output_type": "execute_result"
    }
   ],
   "source": [
    "#test to verify that the variable distribution is normal\n",
    "scipy.stats.normaltest(focus['wifehealth'].dropna(), axis=0)"
   ]
  },
  {
   "cell_type": "code",
   "execution_count": null,
   "metadata": {
    "collapsed": true
   },
   "outputs": [],
   "source": [
    "#test to verify that the variable distribution is normal\n",
    "scipy.stats.normaltest(focus['hushealth'].dropna(), axis=0)"
   ]
  },
  {
   "cell_type": "code",
   "execution_count": null,
   "metadata": {
    "collapsed": true
   },
   "outputs": [],
   "source": [
    "#create small df with only \n",
    "wifehushealth = focus.dropna(subset= ['wifehealth','hushealth'])"
   ]
  },
  {
   "cell_type": "code",
   "execution_count": null,
   "metadata": {
    "collapsed": true
   },
   "outputs": [],
   "source": [
    "#Pearson's R Statistic\n",
    "scipy.stats.pearsonr(wifehushealth.wifehealth,wifehushealth.hushealth)"
   ]
  },
  {
   "cell_type": "markdown",
   "metadata": {},
   "source": [
    "### Wife as Health Decision Maker and Husband as Health decision maker are negatively correlated"
   ]
  },
  {
   "cell_type": "code",
   "execution_count": null,
   "metadata": {
    "collapsed": true
   },
   "outputs": [],
   "source": [
    "#test to verify that the variable distribution is normal\n",
    "scipy.stats.normaltest(focus['bothhealth'].dropna(), axis=0)"
   ]
  },
  {
   "cell_type": "code",
   "execution_count": null,
   "metadata": {
    "collapsed": true
   },
   "outputs": [],
   "source": [
    "#create small df with only \n",
    "wifebothhealth = focus.dropna(subset= ['wifehealth','bothhealth'])"
   ]
  },
  {
   "cell_type": "code",
   "execution_count": null,
   "metadata": {
    "collapsed": true
   },
   "outputs": [],
   "source": [
    "#Pearson's R Statistic\n",
    "scipy.stats.pearsonr(wifebothhealth.wifehealth,wifebothhealth.bothhealth)"
   ]
  },
  {
   "cell_type": "markdown",
   "metadata": {},
   "source": [
    "### Wife as Health Decision Maker does not have a strong correlation with Both Wife and Husband as the decision makers"
   ]
  },
  {
   "cell_type": "code",
   "execution_count": null,
   "metadata": {
    "collapsed": true
   },
   "outputs": [],
   "source": [
    "#create small df with only \n",
    "husbothhealth = focus.dropna(subset= ['hushealth','bothhealth'])"
   ]
  },
  {
   "cell_type": "code",
   "execution_count": null,
   "metadata": {
    "collapsed": true
   },
   "outputs": [],
   "source": [
    "#Pearson's R Statistic\n",
    "scipy.stats.pearsonr(husbothhealth.hushealth,husbothhealth.bothhealth)"
   ]
  },
  {
   "cell_type": "markdown",
   "metadata": {},
   "source": [
    "### Husband as the Decision makers seems to be negatively correlated with Both wife and husband being "
   ]
  },
  {
   "cell_type": "code",
   "execution_count": null,
   "metadata": {
    "collapsed": true
   },
   "outputs": [],
   "source": [
    "#create small df with only \n",
    "bchushealth = focus.dropna(subset= ['hushealth','bc'])"
   ]
  },
  {
   "cell_type": "code",
   "execution_count": null,
   "metadata": {
    "collapsed": true
   },
   "outputs": [],
   "source": [
    "#Pearson's R Statistic\n",
    "scipy.stats.pearsonr(bchushealth.hushealth,bchushealth.bc)"
   ]
  },
  {
   "cell_type": "markdown",
   "metadata": {},
   "source": [
    "### Husband as the decision maker is more strongly (negatively) correlated with Birth Control use"
   ]
  },
  {
   "cell_type": "code",
   "execution_count": null,
   "metadata": {
    "collapsed": true
   },
   "outputs": [],
   "source": [
    "#create small df with only \n",
    "bcwifehealth = focus.dropna(subset= ['wifehealth','bc'])"
   ]
  },
  {
   "cell_type": "code",
   "execution_count": null,
   "metadata": {
    "collapsed": true
   },
   "outputs": [],
   "source": [
    "#Pearson's R Statistic\n",
    "scipy.stats.pearsonr(bcwifehealth.wifehealth,bcwifehealth.bc)"
   ]
  },
  {
   "cell_type": "code",
   "execution_count": null,
   "metadata": {
    "collapsed": true
   },
   "outputs": [],
   "source": []
  },
  {
   "cell_type": "code",
   "execution_count": null,
   "metadata": {
    "collapsed": true
   },
   "outputs": [],
   "source": [
    "#create small df with only \n",
    "husmatdeath = focus.dropna(subset= ['hushealth','matdeath'])"
   ]
  },
  {
   "cell_type": "code",
   "execution_count": null,
   "metadata": {
    "collapsed": true
   },
   "outputs": [],
   "source": [
    "#Pearson's R Statistic\n",
    "scipy.stats.pearsonr(husmatdeath.hushealth,husmatdeath.matdeath)"
   ]
  },
  {
   "cell_type": "markdown",
   "metadata": {},
   "source": [
    "### Appears to be some correlation between Maternal Death and Husband as Health Decision maker"
   ]
  },
  {
   "cell_type": "code",
   "execution_count": null,
   "metadata": {
    "collapsed": true
   },
   "outputs": [],
   "source": [
    "#create small df with only \n",
    "wifematdeath = focus.dropna(subset= ['wifehealth','matdeath'])"
   ]
  },
  {
   "cell_type": "code",
   "execution_count": null,
   "metadata": {
    "collapsed": true
   },
   "outputs": [],
   "source": [
    "#Pearson's R Statistic\n",
    "scipy.stats.pearsonr(wifematdeath.wifehealth,wifematdeath.matdeath)"
   ]
  },
  {
   "cell_type": "markdown",
   "metadata": {},
   "source": [
    "Slightly less strong of a correlation"
   ]
  },
  {
   "cell_type": "markdown",
   "metadata": {},
   "source": [
    "# All Variables are normally distributed"
   ]
  },
  {
   "cell_type": "code",
   "execution_count": null,
   "metadata": {
    "collapsed": true
   },
   "outputs": [],
   "source": [
    "#test to verify that the variable distribution is normal\n",
    "scipy.stats.normaltest(focus['eduspend'].dropna(), axis=0)"
   ]
  },
  {
   "cell_type": "code",
   "execution_count": null,
   "metadata": {
    "collapsed": true
   },
   "outputs": [],
   "source": [
    "#test to verify that the variable distribution is normal\n",
    "scipy.stats.normaltest(focus['noschool'].dropna(), axis=0)"
   ]
  },
  {
   "cell_type": "code",
   "execution_count": null,
   "metadata": {
    "collapsed": true
   },
   "outputs": [],
   "source": [
    "#test to verify that the variable distribution is normal\n",
    "scipy.stats.normaltest(focus['malenoschool'].dropna(), axis=0)"
   ]
  },
  {
   "cell_type": "code",
   "execution_count": null,
   "metadata": {
    "collapsed": true
   },
   "outputs": [],
   "source": [
    "#test to verify that the variable distribution is normal\n",
    "scipy.stats.normaltest(focus['malesomeschool'].dropna(), axis=0)"
   ]
  },
  {
   "cell_type": "code",
   "execution_count": null,
   "metadata": {
    "collapsed": true
   },
   "outputs": [],
   "source": [
    "#test to verify that the variable distribution is normal\n",
    "scipy.stats.normaltest(focus['malelit'].dropna(), axis=0)"
   ]
  },
  {
   "cell_type": "code",
   "execution_count": null,
   "metadata": {
    "collapsed": true
   },
   "outputs": [],
   "source": [
    "#test to verify that the variable distribution is normal\n",
    "scipy.stats.normaltest(focus['femalelit'].dropna(), axis=0)"
   ]
  },
  {
   "cell_type": "code",
   "execution_count": null,
   "metadata": {
    "collapsed": true
   },
   "outputs": [],
   "source": [
    "#test to verify that the variable distribution is normal\n",
    "scipy.stats.normaltest(focus['bach'].dropna(), axis=0)"
   ]
  },
  {
   "cell_type": "code",
   "execution_count": null,
   "metadata": {
    "collapsed": true
   },
   "outputs": [],
   "source": [
    "#test to verify that the variable distribution is normal\n",
    "scipy.stats.normaltest(focus['fembach'].dropna(), axis=0)"
   ]
  },
  {
   "cell_type": "code",
   "execution_count": null,
   "metadata": {
    "collapsed": true
   },
   "outputs": [],
   "source": [
    "#test to verify that the variable distribution is normal\n",
    "scipy.stats.normaltest(focus['abuse'].dropna(), axis=0)"
   ]
  },
  {
   "cell_type": "code",
   "execution_count": null,
   "metadata": {
    "collapsed": true
   },
   "outputs": [],
   "source": [
    "#test to verify that the variable distribution is normal\n",
    "scipy.stats.normaltest(focus['legis'].dropna(), axis=0)"
   ]
  },
  {
   "cell_type": "code",
   "execution_count": null,
   "metadata": {
    "collapsed": true
   },
   "outputs": [],
   "source": [
    "#test to verify that the variable distribution is normal\n",
    "scipy.stats.normaltest(focus['gdp'].dropna(), axis=0)"
   ]
  },
  {
   "cell_type": "code",
   "execution_count": null,
   "metadata": {
    "collapsed": true
   },
   "outputs": [],
   "source": [
    "#test to verify that the variable distribution is normal\n",
    "scipy.stats.normaltest(focus['healthspend'].dropna(), axis=0)"
   ]
  },
  {
   "cell_type": "code",
   "execution_count": null,
   "metadata": {
    "collapsed": true
   },
   "outputs": [],
   "source": []
  },
  {
   "cell_type": "markdown",
   "metadata": {},
   "source": [
    "# Education variables"
   ]
  },
  {
   "cell_type": "markdown",
   "metadata": {},
   "source": [
    "### Small neg correlation between spending and rate of no education"
   ]
  },
  {
   "cell_type": "code",
   "execution_count": 17,
   "metadata": {
    "collapsed": true
   },
   "outputs": [],
   "source": [
    "#create small df with only \n",
    "smalldf = focus.dropna(subset= ['eduspend','noschool'])"
   ]
  },
  {
   "cell_type": "code",
   "execution_count": 18,
   "metadata": {},
   "outputs": [
    {
     "data": {
      "text/plain": [
       "(-0.17112712755808449, 0.0013748549638932443)"
      ]
     },
     "execution_count": 18,
     "metadata": {},
     "output_type": "execute_result"
    }
   ],
   "source": [
    "#Pearson's R Statistic\n",
    "scipy.stats.pearsonr(smalldf.eduspend, smalldf.noschool)"
   ]
  },
  {
   "cell_type": "markdown",
   "metadata": {},
   "source": [
    "## Pick either 'no school' or 'male no school'"
   ]
  },
  {
   "cell_type": "code",
   "execution_count": null,
   "metadata": {
    "collapsed": true
   },
   "outputs": [],
   "source": [
    "#create small df with only \n",
    "no = focus.dropna(subset= ['malenoschool','noschool'])"
   ]
  },
  {
   "cell_type": "code",
   "execution_count": null,
   "metadata": {
    "collapsed": true
   },
   "outputs": [],
   "source": [
    "#Pearson's R Statistic\n",
    "scipy.stats.pearsonr(no.malenoschool, no.noschool)"
   ]
  },
  {
   "cell_type": "code",
   "execution_count": 15,
   "metadata": {
    "collapsed": true
   },
   "outputs": [],
   "source": [
    "#create small df with only \n",
    "smalldf = focus.dropna(subset= ['eduspend','malenoschool'])"
   ]
  },
  {
   "cell_type": "code",
   "execution_count": 16,
   "metadata": {},
   "outputs": [
    {
     "data": {
      "text/plain": [
       "(-0.11594582836594974, 0.030824901437262756)"
      ]
     },
     "execution_count": 16,
     "metadata": {},
     "output_type": "execute_result"
    }
   ],
   "source": [
    "#Pearson's R Statistic\n",
    "scipy.stats.pearsonr(smalldf.eduspend, smalldf.malenoschool)"
   ]
  },
  {
   "cell_type": "code",
   "execution_count": 2,
   "metadata": {
    "collapsed": true
   },
   "outputs": [],
   "source": [
    "#create small df with only \n",
    "noabuse = focus.dropna(subset= ['abuse','noschool'])"
   ]
  },
  {
   "cell_type": "code",
   "execution_count": 3,
   "metadata": {},
   "outputs": [
    {
     "data": {
      "text/plain": [
       "(0.66241305984388299, 0.00016705660992929168)"
      ]
     },
     "execution_count": 3,
     "metadata": {},
     "output_type": "execute_result"
    }
   ],
   "source": [
    "#Pearson's R Statistic\n",
    "scipy.stats.pearsonr(noabuse.abuse, noabuse.noschool)"
   ]
  },
  {
   "cell_type": "code",
   "execution_count": 5,
   "metadata": {
    "collapsed": true
   },
   "outputs": [],
   "source": [
    "#create small df with only \n",
    "maleabuse = focus.dropna(subset= ['abuse','malenoschool'])"
   ]
  },
  {
   "cell_type": "code",
   "execution_count": 6,
   "metadata": {},
   "outputs": [
    {
     "data": {
      "text/plain": [
       "(0.52390891235775972, 0.0050340473229299508)"
      ]
     },
     "execution_count": 6,
     "metadata": {},
     "output_type": "execute_result"
    }
   ],
   "source": [
    "#Pearson's R Statistic\n",
    "scipy.stats.pearsonr(maleabuse.abuse, maleabuse.malenoschool)"
   ]
  },
  {
   "cell_type": "markdown",
   "metadata": {},
   "source": []
  }
 ],
 "metadata": {
  "kernelspec": {
   "display_name": "Python 2",
   "language": "python",
   "name": "python2"
  },
  "language_info": {
   "codemirror_mode": {
    "name": "ipython",
    "version": 2
   },
   "file_extension": ".py",
   "mimetype": "text/x-python",
   "name": "python",
   "nbconvert_exporter": "python",
   "pygments_lexer": "ipython2",
   "version": "2.7.13"
  }
 },
 "nbformat": 4,
 "nbformat_minor": 2
}
