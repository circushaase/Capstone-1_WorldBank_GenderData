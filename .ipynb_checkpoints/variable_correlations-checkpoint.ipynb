{
 "cells": [
  {
   "cell_type": "markdown",
   "metadata": {},
   "source": [
    "# Variable Correlations\n",
    "### Assess correlation coefficients between variables of interest in order to look at relationships and to identify multicollinearity"
   ]
  },
  {
   "cell_type": "code",
   "execution_count": 1,
   "metadata": {
    "collapsed": true
   },
   "outputs": [],
   "source": [
    "import pandas as pd\n",
    "import numpy as np\n",
    "from scipy import stats\n",
    "import scipy\n",
    "df = pd.read_csv('~/Documents/Repository/Capstone-1_WorldBank_GenderData/wrangled_data.csv')"
   ]
  },
  {
   "cell_type": "code",
   "execution_count": 2,
   "metadata": {
    "collapsed": true
   },
   "outputs": [],
   "source": [
    "#create a new df with smaller number of variables to focus on and run correlations on\n",
    "focus = pd.DataFrame()\n",
    "#focus['country'] = df['Country.Name']\n",
    "focus['life'] = df['Life expectancy at birth, total (years)']\n",
    "focus['bc'] = df['Contraceptive prevalence, any methods (% of women ages 15-49)']\n",
    "focus['matdeath'] = df['Maternal mortality ratio (modeled estimate, per 100,000 live births)']\n",
    "focus['teen'] = df['Adolescent fertility rate (births per 1,000 women ages 15-19)']\n",
    "\n",
    "focus['gdp'] = df['GDP per capita (Current US$)']\n",
    "focus['healthspend'] = df['Health expenditure, public (% of GDP)']\n",
    "focus['wifehealth'] = df['Decision maker about a woman\\'s own health care: mainly wife (% of women age 15-49)']\n",
    "focus['hushealth'] = df['Decision maker about a woman\\'s own health care: mainly husband (% of women age 15-49)']\n",
    "focus['bothhealth'] = df['Decision maker about a woman\\'s own health care: wife and husband jointly (% of women age 15-49)']\n",
    "\n",
    "focus['eduspend'] = df['Public spending on education, total (% of GDP)']\n",
    "focus['noschool'] = df['Educational attainment, no schooling, population 25+ years, total (%)']\n",
    "focus['malenoschool'] = df['Educational attainment, no schooling, population 25+ years, male (%)']\n",
    "focus['malesomeschool'] = df['Educational attainment, at least competed lower secondary, population 25+, male (%) (cumulative)']\n",
    "focus['malelit'] = df['Literacy rate, adult male (% of males ages 15 and above)']\n",
    "focus['femalelit'] = df['Literacy rate, adult female (% of females ages 15 and above)']\n",
    "focus['lit'] = df['Literacy rate, youth (ages 15-24), gender parity index (GPI)']\n",
    "focus['bach'] = df['Educational attainment, completed Bachelor\\'s or equivalent, population 25+ years, total (%)']\n",
    "focus['fembach'] = df['Educational attainment, completed Bachelor\\'s or equivalent, population 25+ years, female (%)']\n",
    "\n",
    "focus['abuse'] = df['Proportion of women subjected to physical and/or sexual violence in the last 12 months (% of women age 15-49)']\n",
    "focus['legis'] = df['Female legislators, senior officials and managers (% of total)']\n",
    "\n",
    "#focus[''] = df['']\n",
    "\n",
    "focus.to_csv('focus.csv')"
   ]
  },
  {
   "cell_type": "markdown",
   "metadata": {},
   "source": [
    "# None of the variables are normally distributed:"
   ]
  },
  {
   "cell_type": "code",
   "execution_count": 4,
   "metadata": {},
   "outputs": [
    {
     "data": {
      "text/plain": [
       "NormaltestResult(statistic=11.967032622933143, pvalue=0.0025199497668011049)"
      ]
     },
     "execution_count": 4,
     "metadata": {},
     "output_type": "execute_result"
    }
   ],
   "source": [
    "#test to verify that the variable distribution is normal\n",
    "scipy.stats.normaltest(focus['wifehealth'].dropna(), axis=0)"
   ]
  },
  {
   "cell_type": "code",
   "execution_count": 5,
   "metadata": {},
   "outputs": [
    {
     "data": {
      "text/plain": [
       "NormaltestResult(statistic=12.613914561600758, pvalue=0.0018235734281981482)"
      ]
     },
     "execution_count": 5,
     "metadata": {},
     "output_type": "execute_result"
    }
   ],
   "source": [
    "#test to verify that the variable distribution is normal\n",
    "scipy.stats.normaltest(focus['hushealth'].dropna(), axis=0)"
   ]
  },
  {
   "cell_type": "code",
   "execution_count": 6,
   "metadata": {},
   "outputs": [
    {
     "data": {
      "text/plain": [
       "NormaltestResult(statistic=8.4459857845394009, pvalue=0.014654718810611766)"
      ]
     },
     "execution_count": 6,
     "metadata": {},
     "output_type": "execute_result"
    }
   ],
   "source": [
    "#test to verify that the variable distribution is normal\n",
    "scipy.stats.normaltest(focus['bothhealth'].dropna(), axis=0)"
   ]
  },
  {
   "cell_type": "code",
   "execution_count": 7,
   "metadata": {},
   "outputs": [
    {
     "data": {
      "text/plain": [
       "NormaltestResult(statistic=593.00099930141528, pvalue=1.7039981547686065e-129)"
      ]
     },
     "execution_count": 7,
     "metadata": {},
     "output_type": "execute_result"
    }
   ],
   "source": [
    "#test to verify that the variable distribution is normal\n",
    "scipy.stats.normaltest(focus['eduspend'].dropna(), axis=0)"
   ]
  },
  {
   "cell_type": "code",
   "execution_count": 8,
   "metadata": {},
   "outputs": [
    {
     "data": {
      "text/plain": [
       "NormaltestResult(statistic=352.6668495824452, pvalue=2.6264348843750046e-77)"
      ]
     },
     "execution_count": 8,
     "metadata": {},
     "output_type": "execute_result"
    }
   ],
   "source": [
    "#test to verify that the variable distribution is normal\n",
    "scipy.stats.normaltest(focus['noschool'].dropna(), axis=0)"
   ]
  },
  {
   "cell_type": "code",
   "execution_count": 9,
   "metadata": {},
   "outputs": [
    {
     "data": {
      "text/plain": [
       "NormaltestResult(statistic=408.35078197745082, pvalue=2.1269356624700409e-89)"
      ]
     },
     "execution_count": 9,
     "metadata": {},
     "output_type": "execute_result"
    }
   ],
   "source": [
    "#test to verify that the variable distribution is normal\n",
    "scipy.stats.normaltest(focus['malenoschool'].dropna(), axis=0)"
   ]
  },
  {
   "cell_type": "code",
   "execution_count": 10,
   "metadata": {},
   "outputs": [
    {
     "data": {
      "text/plain": [
       "NormaltestResult(statistic=57.465734343876555, pvalue=3.3225715188416346e-13)"
      ]
     },
     "execution_count": 10,
     "metadata": {},
     "output_type": "execute_result"
    }
   ],
   "source": [
    "#test to verify that the variable distribution is normal\n",
    "scipy.stats.normaltest(focus['malesomeschool'].dropna(), axis=0)"
   ]
  },
  {
   "cell_type": "code",
   "execution_count": 11,
   "metadata": {},
   "outputs": [
    {
     "data": {
      "text/plain": [
       "NormaltestResult(statistic=171.03370355647277, pvalue=7.2527576026695477e-38)"
      ]
     },
     "execution_count": 11,
     "metadata": {},
     "output_type": "execute_result"
    }
   ],
   "source": [
    "#test to verify that the variable distribution is normal\n",
    "scipy.stats.normaltest(focus['malelit'].dropna(), axis=0)"
   ]
  },
  {
   "cell_type": "code",
   "execution_count": 12,
   "metadata": {},
   "outputs": [
    {
     "data": {
      "text/plain": [
       "NormaltestResult(statistic=88.617408087560293, pvalue=5.7144486368490824e-20)"
      ]
     },
     "execution_count": 12,
     "metadata": {},
     "output_type": "execute_result"
    }
   ],
   "source": [
    "#test to verify that the variable distribution is normal\n",
    "scipy.stats.normaltest(focus['femalelit'].dropna(), axis=0)"
   ]
  },
  {
   "cell_type": "code",
   "execution_count": 13,
   "metadata": {},
   "outputs": [
    {
     "data": {
      "text/plain": [
       "NormaltestResult(statistic=31.431876974833109, pvalue=1.4950462809815258e-07)"
      ]
     },
     "execution_count": 13,
     "metadata": {},
     "output_type": "execute_result"
    }
   ],
   "source": [
    "#test to verify that the variable distribution is normal\n",
    "scipy.stats.normaltest(focus['bach'].dropna(), axis=0)"
   ]
  },
  {
   "cell_type": "code",
   "execution_count": 14,
   "metadata": {},
   "outputs": [
    {
     "data": {
      "text/plain": [
       "NormaltestResult(statistic=37.365061806516977, pvalue=7.6962633641236659e-09)"
      ]
     },
     "execution_count": 14,
     "metadata": {},
     "output_type": "execute_result"
    }
   ],
   "source": [
    "#test to verify that the variable distribution is normal\n",
    "scipy.stats.normaltest(focus['fembach'].dropna(), axis=0)"
   ]
  },
  {
   "cell_type": "code",
   "execution_count": 15,
   "metadata": {},
   "outputs": [
    {
     "data": {
      "text/plain": [
       "NormaltestResult(statistic=14.264747119661239, pvalue=0.0007988210858759818)"
      ]
     },
     "execution_count": 15,
     "metadata": {},
     "output_type": "execute_result"
    }
   ],
   "source": [
    "#test to verify that the variable distribution is normal\n",
    "scipy.stats.normaltest(focus['abuse'].dropna(), axis=0)"
   ]
  },
  {
   "cell_type": "code",
   "execution_count": 16,
   "metadata": {},
   "outputs": [
    {
     "data": {
      "text/plain": [
       "NormaltestResult(statistic=23.261710691847409, pvalue=8.8875836931924428e-06)"
      ]
     },
     "execution_count": 16,
     "metadata": {},
     "output_type": "execute_result"
    }
   ],
   "source": [
    "#test to verify that the variable distribution is normal\n",
    "scipy.stats.normaltest(focus['legis'].dropna(), axis=0)"
   ]
  },
  {
   "cell_type": "code",
   "execution_count": 17,
   "metadata": {},
   "outputs": [
    {
     "data": {
      "text/plain": [
       "NormaltestResult(statistic=2460.338407499014, pvalue=0.0)"
      ]
     },
     "execution_count": 17,
     "metadata": {},
     "output_type": "execute_result"
    }
   ],
   "source": [
    "#test to verify that the variable distribution is normal\n",
    "scipy.stats.normaltest(focus['gdp'].dropna(), axis=0)"
   ]
  },
  {
   "cell_type": "code",
   "execution_count": 18,
   "metadata": {},
   "outputs": [
    {
     "data": {
      "text/plain": [
       "NormaltestResult(statistic=1441.4773089236526, pvalue=0.0)"
      ]
     },
     "execution_count": 18,
     "metadata": {},
     "output_type": "execute_result"
    }
   ],
   "source": [
    "#test to verify that the variable distribution is normal\n",
    "scipy.stats.normaltest(focus['healthspend'].dropna(), axis=0)"
   ]
  },
  {
   "cell_type": "markdown",
   "metadata": {
    "collapsed": true
   },
   "source": [
    "## All tests and models need to be non-parametric, because all variables are non-normal"
   ]
  },
  {
   "cell_type": "markdown",
   "metadata": {},
   "source": [
    "### The Spearmen's R test was chosen to calculate correlation coefficients :"
   ]
  },
  {
   "cell_type": "code",
   "execution_count": 3,
   "metadata": {},
   "outputs": [
    {
     "data": {
      "text/plain": [
       "SpearmanrResult(correlation=-0.7246482405235215, pvalue=masked_array(data = 1.15638871362e-102,\n",
       "             mask = False,\n",
       "       fill_value = 1e+20)\n",
       ")"
      ]
     },
     "execution_count": 3,
     "metadata": {},
     "output_type": "execute_result"
    }
   ],
   "source": [
    "bcmat = stats.spearmanr(focus['matdeath'], focus['bc'], nan_policy='omit') \n",
    "bcmat"
   ]
  },
  {
   "cell_type": "code",
   "execution_count": 5,
   "metadata": {},
   "outputs": [
    {
     "data": {
      "text/plain": [
       "SpearmanrResult(correlation=-0.56159413145076997, pvalue=masked_array(data = 1.76484058854e-53,\n",
       "             mask = False,\n",
       "       fill_value = 1e+20)\n",
       ")"
      ]
     },
     "execution_count": 5,
     "metadata": {},
     "output_type": "execute_result"
    }
   ],
   "source": [
    "bcteen = stats.spearmanr(focus['teen'], focus['bc'], nan_policy='omit') \n",
    "bcteen"
   ]
  },
  {
   "cell_type": "code",
   "execution_count": 6,
   "metadata": {},
   "outputs": [
    {
     "data": {
      "text/plain": [
       "SpearmanrResult(correlation=0.77216872977457462, pvalue=masked_array(data = 1.35854238789e-125,\n",
       "             mask = False,\n",
       "       fill_value = 1e+20)\n",
       ")"
      ]
     },
     "execution_count": 6,
     "metadata": {},
     "output_type": "execute_result"
    }
   ],
   "source": [
    "bclife = stats.spearmanr(focus['life'], focus['bc'], nan_policy='omit') \n",
    "bclife"
   ]
  },
  {
   "cell_type": "code",
   "execution_count": 6,
   "metadata": {
    "scrolled": true
   },
   "outputs": [
    {
     "data": {
      "text/plain": [
       "SpearmanrResult(correlation=-2.6860147068888858, pvalue=0.0)"
      ]
     },
     "execution_count": 6,
     "metadata": {},
     "output_type": "execute_result"
    }
   ],
   "source": [
    "teenmat = stats.spearmanr(focus['matdeath'], focus['teen'], nan_policy='omit') \n",
    "teenmat"
   ]
  },
  {
   "cell_type": "markdown",
   "metadata": {},
   "source": [
    "### A correlation of -2.686 doesn't seem legitimate, but it's unclear what's happening here."
   ]
  },
  {
   "cell_type": "code",
   "execution_count": 3,
   "metadata": {
    "scrolled": true
   },
   "outputs": [
    {
     "name": "stderr",
     "output_type": "stream",
     "text": [
      "/home/lara/anaconda2/lib/python2.7/site-packages/scipy/stats/mstats_basic.py:484: RuntimeWarning: overflow encountered in long_scalars\n",
      "  denom = n*(n**2 - 1)/6.\n"
     ]
    },
    {
     "data": {
      "text/plain": [
       "SpearmanrResult(correlation=-297.18655014305057, pvalue=0.0)"
      ]
     },
     "execution_count": 3,
     "metadata": {},
     "output_type": "execute_result"
    }
   ],
   "source": [
    "eduteen = stats.spearmanr(focus['teen'], focus['eduspend'], nan_policy='omit') \n",
    "eduteen"
   ]
  },
  {
   "cell_type": "code",
   "execution_count": 10,
   "metadata": {},
   "outputs": [
    {
     "data": {
      "text/plain": [
       "SpearmanrResult(correlation=0.6100584199391057, pvalue=masked_array(data = 8.87905470481e-65,\n",
       "             mask = False,\n",
       "       fill_value = 1e+20)\n",
       ")"
      ]
     },
     "execution_count": 10,
     "metadata": {},
     "output_type": "execute_result"
    }
   ],
   "source": [
    "gdpbc = stats.spearmanr(focus['bc'], focus['gdp'], nan_policy='omit')\n",
    "gdpbc"
   ]
  },
  {
   "cell_type": "code",
   "execution_count": null,
   "metadata": {
    "collapsed": true
   },
   "outputs": [],
   "source": [
    "\n"
   ]
  },
  {
   "cell_type": "code",
   "execution_count": 33,
   "metadata": {},
   "outputs": [
    {
     "data": {
      "text/plain": [
       "SpearmanrResult(correlation=-0.75600542262969594, pvalue=masked_array(data = 3.92827944538e-25,\n",
       "             mask = False,\n",
       "       fill_value = 1e+20)\n",
       ")"
      ]
     },
     "execution_count": 33,
     "metadata": {},
     "output_type": "execute_result"
    }
   ],
   "source": [
    "# Wife as the decision maker of her healthcare vs husband as the decision maker\n",
    "wifehushealth = stats.spearmanr(focus['wifehealth'], focus['hushealth'], nan_policy='omit')\n",
    "wifehushealth"
   ]
  },
  {
   "cell_type": "code",
   "execution_count": 34,
   "metadata": {},
   "outputs": [
    {
     "data": {
      "text/plain": [
       "SpearmanrResult(correlation=0.020224452146690552, pvalue=masked_array(data = 0.820040357358,\n",
       "             mask = False,\n",
       "       fill_value = 1e+20)\n",
       ")"
      ]
     },
     "execution_count": 34,
     "metadata": {},
     "output_type": "execute_result"
    }
   ],
   "source": [
    "# Wife as the decision maker of her healthcare vs both wife and husband as the decision maker\n",
    "wifebothhealth = stats.spearmanr(focus['wifehealth'], focus['bothhealth'], nan_policy='omit')\n",
    "wifebothhealth"
   ]
  },
  {
   "cell_type": "code",
   "execution_count": 32,
   "metadata": {},
   "outputs": [
    {
     "name": "stdout",
     "output_type": "stream",
     "text": [
      "SpearmanrResult(correlation=-0.53140652951699474, pvalue=masked_array(data = 9.21271543315e-11,\n",
      "             mask = False,\n",
      "       fill_value = 1e+20)\n",
      ")\n"
     ]
    }
   ],
   "source": [
    "# Wife as the decision maker of her healthcare vs both wife and husband as the decision maker\n",
    "husbothhealth = stats.spearmanr(focus['hushealth'], focus['bothhealth'], nan_policy='omit')\n",
    "print(husbothhealth)"
   ]
  },
  {
   "cell_type": "code",
   "execution_count": 35,
   "metadata": {},
   "outputs": [
    {
     "data": {
      "text/plain": [
       "SpearmanrResult(correlation=-0.68294666815742389, pvalue=masked_array(data = 4.87972567157e-19,\n",
       "             mask = False,\n",
       "       fill_value = 1e+20)\n",
       ")"
      ]
     },
     "execution_count": 35,
     "metadata": {},
     "output_type": "execute_result"
    }
   ],
   "source": [
    "# Husband as Decision Maker vs Contraceptive use\n",
    "bchushealth = stats.spearmanr(focus['hushealth'], focus['bc'], nan_policy='omit')\n",
    "bchushealth"
   ]
  },
  {
   "cell_type": "code",
   "execution_count": 36,
   "metadata": {},
   "outputs": [
    {
     "data": {
      "text/plain": [
       "SpearmanrResult(correlation=0.61782340116279078, pvalue=masked_array(data = 6.22185455129e-15,\n",
       "             mask = False,\n",
       "       fill_value = 1e+20)\n",
       ")"
      ]
     },
     "execution_count": 36,
     "metadata": {},
     "output_type": "execute_result"
    }
   ],
   "source": [
    "# Wife as Decision Maker vs Contraceptive use\n",
    "bcwifehealth = stats.spearmanr(focus['wifehealth'], focus['bc'], nan_policy='omit')\n",
    "bcwifehealth"
   ]
  },
  {
   "cell_type": "code",
   "execution_count": 37,
   "metadata": {},
   "outputs": [
    {
     "data": {
      "text/plain": [
       "SpearmanrResult(correlation=0.65024178220035778, pvalue=masked_array(data = 7.50172261073e-17,\n",
       "             mask = False,\n",
       "       fill_value = 1e+20)\n",
       ")"
      ]
     },
     "execution_count": 37,
     "metadata": {},
     "output_type": "execute_result"
    }
   ],
   "source": [
    "# Husband as decision maker vs Maternal Death Rate\n",
    "husmatdeath = stats.spearmanr(focus['hushealth'], focus['matdeath'], nan_policy='omit')\n",
    "husmatdeath"
   ]
  },
  {
   "cell_type": "code",
   "execution_count": 38,
   "metadata": {},
   "outputs": [
    {
     "data": {
      "text/plain": [
       "SpearmanrResult(correlation=-0.47298747763864046, pvalue=masked_array(data = 1.51219600627e-08,\n",
       "             mask = False,\n",
       "       fill_value = 1e+20)\n",
       ")"
      ]
     },
     "execution_count": 38,
     "metadata": {},
     "output_type": "execute_result"
    }
   ],
   "source": [
    "# Wife as decision maker vs Maternal Death Rate\n",
    "wifematdeath = stats.spearmanr(focus['wifehealth'], focus['matdeath'], nan_policy='omit')\n",
    "wifematdeath "
   ]
  },
  {
   "cell_type": "code",
   "execution_count": 16,
   "metadata": {},
   "outputs": [
    {
     "data": {
      "text/plain": [
       "SpearmanrResult(correlation=0.34695444079893445, pvalue=masked_array(data = 4.92284185255e-19,\n",
       "             mask = False,\n",
       "       fill_value = 1e+20)\n",
       ")"
      ]
     },
     "execution_count": 16,
     "metadata": {},
     "output_type": "execute_result"
    }
   ],
   "source": [
    "healbc = stats.spearmanr(focus['healthspend'], focus['bc'], nan_policy='omit')\n",
    "healbc"
   ]
  },
  {
   "cell_type": "markdown",
   "metadata": {},
   "source": [
    "# Education variables"
   ]
  },
  {
   "cell_type": "code",
   "execution_count": 13,
   "metadata": {},
   "outputs": [
    {
     "data": {
      "text/plain": [
       "SpearmanrResult(correlation=0.46737868872700339, pvalue=masked_array(data = 3.41370170327e-06,\n",
       "             mask = False,\n",
       "       fill_value = 1e+20)\n",
       ")"
      ]
     },
     "execution_count": 13,
     "metadata": {},
     "output_type": "execute_result"
    }
   ],
   "source": [
    "fbachbc = stats.spearmanr(focus['fembach'], focus['bc'], nan_policy='omit')\n",
    "fbachbc"
   ]
  },
  {
   "cell_type": "code",
   "execution_count": 14,
   "metadata": {},
   "outputs": [
    {
     "data": {
      "text/plain": [
       "SpearmanrResult(correlation=0.66777068891136837, pvalue=masked_array(data = 7.23523392628e-80,\n",
       "             mask = False,\n",
       "       fill_value = 1e+20)\n",
       ")"
      ]
     },
     "execution_count": 14,
     "metadata": {},
     "output_type": "execute_result"
    }
   ],
   "source": [
    "fbachgdp = stats.spearmanr(focus['fembach'], focus['gdp'], nan_policy='omit')\n",
    "fbachgdp"
   ]
  },
  {
   "cell_type": "code",
   "execution_count": 8,
   "metadata": {},
   "outputs": [
    {
     "data": {
      "text/plain": [
       "SpearmanrResult(correlation=0.29082581079887393, pvalue=masked_array(data = 1.05230277079e-08,\n",
       "             mask = False,\n",
       "       fill_value = 1e+20)\n",
       ")"
      ]
     },
     "execution_count": 8,
     "metadata": {},
     "output_type": "execute_result"
    }
   ],
   "source": [
    "edubc = stats.spearmanr(focus['eduspend'], focus['bc'], nan_policy='omit')\n",
    "edubc"
   ]
  },
  {
   "cell_type": "code",
   "execution_count": 39,
   "metadata": {},
   "outputs": [
    {
     "data": {
      "text/plain": [
       "SpearmanrResult(correlation=-0.24403943020244134, pvalue=masked_array(data = 4.23971463731e-06,\n",
       "             mask = False,\n",
       "       fill_value = 1e+20)\n",
       ")"
      ]
     },
     "execution_count": 39,
     "metadata": {},
     "output_type": "execute_result"
    }
   ],
   "source": [
    "#Education Spending vs Rates of No Schooling\n",
    "edunoschool = stats.spearmanr(focus['eduspend'], focus['noschool'], nan_policy='omit')\n",
    "edunoschool"
   ]
  },
  {
   "cell_type": "markdown",
   "metadata": {},
   "source": [
    "^ Small neg correlation between spending and rate of no education"
   ]
  },
  {
   "cell_type": "code",
   "execution_count": 40,
   "metadata": {},
   "outputs": [
    {
     "data": {
      "text/plain": [
       "SpearmanrResult(correlation=0.9774866688931052, pvalue=masked_array(data = 0.0,\n",
       "             mask = False,\n",
       "       fill_value = 1e+20)\n",
       ")"
      ]
     },
     "execution_count": 40,
     "metadata": {},
     "output_type": "execute_result"
    }
   ],
   "source": [
    "#No School vs Males with No school\n",
    "no = stats.spearmanr(focus['malenoschool'], focus['noschool'], nan_policy='omit')\n",
    "no"
   ]
  },
  {
   "cell_type": "markdown",
   "metadata": {},
   "source": [
    "### Pick either 'no school' or 'male no school' because they are collinear"
   ]
  },
  {
   "cell_type": "code",
   "execution_count": 41,
   "metadata": {},
   "outputs": [
    {
     "data": {
      "text/plain": [
       "SpearmanrResult(correlation=-0.21839384421497177, pvalue=masked_array(data = 4.07502908426e-05,\n",
       "             mask = False,\n",
       "       fill_value = 1e+20)\n",
       ")"
      ]
     },
     "execution_count": 41,
     "metadata": {},
     "output_type": "execute_result"
    }
   ],
   "source": [
    "#Males with No Schooling vs Education Spending\n",
    "nomale = stats.spearmanr(focus['malenoschool'], focus['eduspend'], nan_policy='omit')\n",
    "nomale"
   ]
  },
  {
   "cell_type": "code",
   "execution_count": 42,
   "metadata": {},
   "outputs": [
    {
     "data": {
      "text/plain": [
       "SpearmanrResult(correlation=0.74725274725274726, pvalue=masked_array(data = 7.52021473844e-06,\n",
       "             mask = False,\n",
       "       fill_value = 1e+20)\n",
       ")"
      ]
     },
     "execution_count": 42,
     "metadata": {},
     "output_type": "execute_result"
    }
   ],
   "source": [
    "noabuse = stats.spearmanr(focus['abuse'], focus['noschool'], nan_policy='omit')\n",
    "noabuse "
   ]
  },
  {
   "cell_type": "code",
   "execution_count": 43,
   "metadata": {},
   "outputs": [
    {
     "data": {
      "text/plain": [
       "SpearmanrResult(correlation=0.69719169719169716, pvalue=masked_array(data = 5.31890583684e-05,\n",
       "             mask = False,\n",
       "       fill_value = 1e+20)\n",
       ")"
      ]
     },
     "execution_count": 43,
     "metadata": {},
     "output_type": "execute_result"
    }
   ],
   "source": [
    "noabuse = stats.spearmanr(focus['abuse'], focus['malenoschool'], nan_policy='omit')\n",
    "noabuse "
   ]
  },
  {
   "cell_type": "markdown",
   "metadata": {},
   "source": [
    "### Drop 'MaleNoSchool' as a variable, because it is less correlated to abuse than overall no schooling"
   ]
  },
  {
   "cell_type": "code",
   "execution_count": 61,
   "metadata": {},
   "outputs": [
    {
     "data": {
      "text/plain": [
       "SpearmanrResult(correlation=-0.62696267696267705, pvalue=masked_array(data = 4.28485818031e-05,\n",
       "             mask = False,\n",
       "       fill_value = 1e+20)\n",
       ")"
      ]
     },
     "execution_count": 61,
     "metadata": {},
     "output_type": "execute_result"
    }
   ],
   "source": [
    "maleabuse = stats.spearmanr(focus['malesomeschool'], focus['abuse'], nan_policy='omit') \n",
    "maleabuse"
   ]
  },
  {
   "cell_type": "markdown",
   "metadata": {},
   "source": [
    "### And Male Some Schooling also seems redundant"
   ]
  },
  {
   "cell_type": "code",
   "execution_count": 44,
   "metadata": {},
   "outputs": [
    {
     "data": {
      "text/plain": [
       "SpearmanrResult(correlation=0.9493587433858427, pvalue=masked_array(data = 2.83407233543e-288,\n",
       "             mask = False,\n",
       "       fill_value = 1e+20)\n",
       ")"
      ]
     },
     "execution_count": 44,
     "metadata": {},
     "output_type": "execute_result"
    }
   ],
   "source": [
    "lit = stats.spearmanr(focus['femalelit'], focus['malelit'], nan_policy='omit') \n",
    "lit"
   ]
  },
  {
   "cell_type": "markdown",
   "metadata": {},
   "source": [
    "### Female and male Lit are highly correlated, so maybe just look at overall lit?"
   ]
  },
  {
   "cell_type": "code",
   "execution_count": 45,
   "metadata": {},
   "outputs": [
    {
     "data": {
      "text/plain": [
       "SpearmanrResult(correlation=0.63988673063639934, pvalue=masked_array(data = 3.84576173811e-17,\n",
       "             mask = False,\n",
       "       fill_value = 1e+20)\n",
       ")"
      ]
     },
     "execution_count": 45,
     "metadata": {},
     "output_type": "execute_result"
    }
   ],
   "source": [
    "litbc = stats.spearmanr(focus['lit'], focus['bc'], nan_policy='omit') \n",
    "litbc"
   ]
  },
  {
   "cell_type": "markdown",
   "metadata": {},
   "source": [
    "### Fairly high correlation between Literacy and Contracptive Use"
   ]
  },
  {
   "cell_type": "code",
   "execution_count": 11,
   "metadata": {},
   "outputs": [
    {
     "data": {
      "text/plain": [
       "SpearmanrResult(correlation=0.71221989663951901, pvalue=masked_array(data = 2.65232522327e-27,\n",
       "             mask = False,\n",
       "       fill_value = 1e+20)\n",
       ")"
      ]
     },
     "execution_count": 11,
     "metadata": {},
     "output_type": "execute_result"
    }
   ],
   "source": [
    "mlitbc = stats.spearmanr(focus['malelit'], focus['bc'], nan_policy='omit') \n",
    "mlitbc"
   ]
  },
  {
   "cell_type": "code",
   "execution_count": 12,
   "metadata": {},
   "outputs": [
    {
     "data": {
      "text/plain": [
       "SpearmanrResult(correlation=0.71284248915524828, pvalue=masked_array(data = 2.28187680063e-27,\n",
       "             mask = False,\n",
       "       fill_value = 1e+20)\n",
       ")"
      ]
     },
     "execution_count": 12,
     "metadata": {},
     "output_type": "execute_result"
    }
   ],
   "source": [
    "flitbc = stats.spearmanr(focus['femalelit'], focus['bc'], nan_policy='omit') \n",
    "flitbc"
   ]
  },
  {
   "cell_type": "code",
   "execution_count": 46,
   "metadata": {},
   "outputs": [
    {
     "data": {
      "text/plain": [
       "SpearmanrResult(correlation=-0.48183953559979376, pvalue=masked_array(data = 3.25395966694e-29,\n",
       "             mask = False,\n",
       "       fill_value = 1e+20)\n",
       ")"
      ]
     },
     "execution_count": 46,
     "metadata": {},
     "output_type": "execute_result"
    }
   ],
   "source": [
    "litmat = stats.spearmanr(focus['lit'], focus['matdeath'], nan_policy='omit') \n",
    "litmat"
   ]
  },
  {
   "cell_type": "markdown",
   "metadata": {
    "collapsed": true
   },
   "source": [
    "### Mild negative correlation between Literacy and maternal death"
   ]
  },
  {
   "cell_type": "code",
   "execution_count": 47,
   "metadata": {},
   "outputs": [
    {
     "data": {
      "text/plain": [
       "SpearmanrResult(correlation=0.97338058021505169, pvalue=masked_array(data = 0.0,\n",
       "             mask = False,\n",
       "       fill_value = 1e+20)\n",
       ")"
      ]
     },
     "execution_count": 47,
     "metadata": {},
     "output_type": "execute_result"
    }
   ],
   "source": [
    "bd = stats.spearmanr(focus['bach'], focus['fembach'], nan_policy='omit') \n",
    "bd "
   ]
  },
  {
   "cell_type": "markdown",
   "metadata": {},
   "source": [
    "### General Bachelor's degree achievement and Female Bachelor's degree achievement are collinear, so one must be dropped."
   ]
  },
  {
   "cell_type": "code",
   "execution_count": 48,
   "metadata": {},
   "outputs": [
    {
     "data": {
      "text/plain": [
       "SpearmanrResult(correlation=0.43880726015557481, pvalue=masked_array(data = 1.51672830316e-05,\n",
       "             mask = False,\n",
       "       fill_value = 1e+20)\n",
       ")"
      ]
     },
     "execution_count": 48,
     "metadata": {},
     "output_type": "execute_result"
    }
   ],
   "source": [
    "bbc = stats.spearmanr(focus['bach'], focus['bc'], nan_policy='omit') \n",
    "bbc "
   ]
  },
  {
   "cell_type": "code",
   "execution_count": 49,
   "metadata": {
    "scrolled": false
   },
   "outputs": [
    {
     "data": {
      "text/plain": [
       "SpearmanrResult(correlation=0.46737868872700339, pvalue=masked_array(data = 3.41370170327e-06,\n",
       "             mask = False,\n",
       "       fill_value = 1e+20)\n",
       ")"
      ]
     },
     "execution_count": 49,
     "metadata": {},
     "output_type": "execute_result"
    }
   ],
   "source": [
    "fbbc = stats.spearmanr(focus['fembach'], focus['bc'], nan_policy='omit') \n",
    "fbbc "
   ]
  },
  {
   "cell_type": "markdown",
   "metadata": {},
   "source": [
    "### Female Bachelor's degree achievement is slighlty higher correlated with Contraceptive use than General Bachelor's degree achievement"
   ]
  },
  {
   "cell_type": "code",
   "execution_count": 50,
   "metadata": {},
   "outputs": [
    {
     "data": {
      "text/plain": [
       "SpearmanrResult(correlation=0.20364782193396536, pvalue=masked_array(data = 0.000894519198162,\n",
       "             mask = False,\n",
       "       fill_value = 1e+20)\n",
       ")"
      ]
     },
     "execution_count": 50,
     "metadata": {},
     "output_type": "execute_result"
    }
   ],
   "source": [
    "edu = stats.spearmanr(focus['lit'], focus['bach'], nan_policy='omit') \n",
    "edu"
   ]
  },
  {
   "cell_type": "markdown",
   "metadata": {},
   "source": [
    "### Literacy and Bachelors degree earning are NOT collinear"
   ]
  },
  {
   "cell_type": "code",
   "execution_count": 53,
   "metadata": {},
   "outputs": [
    {
     "data": {
      "text/plain": [
       "SpearmanrResult(correlation=-0.49122099054249357, pvalue=masked_array(data = 1.60301439398e-30,\n",
       "             mask = False,\n",
       "       fill_value = 1e+20)\n",
       ")"
      ]
     },
     "execution_count": 53,
     "metadata": {},
     "output_type": "execute_result"
    }
   ],
   "source": [
    "sch = stats.spearmanr(focus['noschool'], focus['bach'], nan_policy='omit') \n",
    "sch "
   ]
  },
  {
   "cell_type": "markdown",
   "metadata": {},
   "source": [
    "### No School and Bachelor's degree achievement are somewhat negatively correlated (-0.49). Are they collinear?"
   ]
  },
  {
   "cell_type": "code",
   "execution_count": 54,
   "metadata": {},
   "outputs": [
    {
     "data": {
      "text/plain": [
       "SpearmanrResult(correlation=-0.34426381105624304, pvalue=masked_array(data = 6.70087713131e-09,\n",
       "             mask = False,\n",
       "       fill_value = 1e+20)\n",
       ")"
      ]
     },
     "execution_count": 54,
     "metadata": {},
     "output_type": "execute_result"
    }
   ],
   "source": [
    "nolit = stats.spearmanr(focus['lit'], focus['noschool'], nan_policy='omit') \n",
    "nolit "
   ]
  },
  {
   "cell_type": "markdown",
   "metadata": {},
   "source": [
    "### Is -0.34 collinear?"
   ]
  },
  {
   "cell_type": "markdown",
   "metadata": {},
   "source": [
    "### Include Bachelor degree achievement?"
   ]
  },
  {
   "cell_type": "code",
   "execution_count": 55,
   "metadata": {},
   "outputs": [
    {
     "data": {
      "text/plain": [
       "SpearmanrResult(correlation=0.33440006567498548, pvalue=masked_array(data = 2.513857649e-12,\n",
       "             mask = False,\n",
       "       fill_value = 1e+20)\n",
       ")"
      ]
     },
     "execution_count": 55,
     "metadata": {},
     "output_type": "execute_result"
    }
   ],
   "source": [
    "bachspend = stats.spearmanr(focus['bach'], focus['eduspend'], nan_policy='omit') \n",
    "bachspend "
   ]
  },
  {
   "cell_type": "code",
   "execution_count": 56,
   "metadata": {},
   "outputs": [
    {
     "data": {
      "text/plain": [
       "SpearmanrResult(correlation=-0.49122099054249357, pvalue=masked_array(data = 1.60301439398e-30,\n",
       "             mask = False,\n",
       "       fill_value = 1e+20)\n",
       ")"
      ]
     },
     "execution_count": 56,
     "metadata": {},
     "output_type": "execute_result"
    }
   ],
   "source": [
    "nobach = stats.spearmanr(focus['bach'], focus['noschool'], nan_policy='omit') \n",
    "nobach "
   ]
  },
  {
   "cell_type": "code",
   "execution_count": 57,
   "metadata": {},
   "outputs": [
    {
     "data": {
      "text/plain": [
       "SpearmanrResult(correlation=0.43880726015557481, pvalue=masked_array(data = 1.51672830316e-05,\n",
       "             mask = False,\n",
       "       fill_value = 1e+20)\n",
       ")"
      ]
     },
     "execution_count": 57,
     "metadata": {},
     "output_type": "execute_result"
    }
   ],
   "source": [
    "bcbach = stats.spearmanr(focus['bach'], focus['bc'], nan_policy='omit') \n",
    "bcbach "
   ]
  },
  {
   "cell_type": "markdown",
   "metadata": {},
   "source": [
    "## ?"
   ]
  },
  {
   "cell_type": "code",
   "execution_count": 58,
   "metadata": {},
   "outputs": [
    {
     "data": {
      "text/plain": [
       "SpearmanrResult(correlation=0.20309098273074699, pvalue=masked_array(data = 0.000213272738578,\n",
       "             mask = False,\n",
       "       fill_value = 1e+20)\n",
       ")"
      ]
     },
     "execution_count": 58,
     "metadata": {},
     "output_type": "execute_result"
    }
   ],
   "source": [
    "bachlegis = stats.spearmanr(focus['bach'], focus['legis'], nan_policy='omit') \n",
    "bachlegis "
   ]
  },
  {
   "cell_type": "markdown",
   "metadata": {},
   "source": [
    "## Bachelor degree achievement is not highly correlated with Female legislators, managers etc"
   ]
  },
  {
   "cell_type": "code",
   "execution_count": null,
   "metadata": {
    "collapsed": true
   },
   "outputs": [],
   "source": []
  },
  {
   "cell_type": "code",
   "execution_count": 60,
   "metadata": {},
   "outputs": [
    {
     "data": {
      "text/plain": [
       "SpearmanrResult(correlation=-0.46242784992785002, pvalue=masked_array(data = 0.000378756351137,\n",
       "             mask = False,\n",
       "       fill_value = 1e+20)\n",
       ")"
      ]
     },
     "execution_count": 60,
     "metadata": {},
     "output_type": "execute_result"
    }
   ],
   "source": [
    "bcabuse = stats.spearmanr(focus['bc'], focus['abuse'], nan_policy='omit') \n",
    "bcabuse"
   ]
  }
 ],
 "metadata": {
  "kernelspec": {
   "display_name": "Python 2",
   "language": "python",
   "name": "python2"
  },
  "language_info": {
   "codemirror_mode": {
    "name": "ipython",
    "version": 2
   },
   "file_extension": ".py",
   "mimetype": "text/x-python",
   "name": "python",
   "nbconvert_exporter": "python",
   "pygments_lexer": "ipython2",
   "version": "2.7.13"
  }
 },
 "nbformat": 4,
 "nbformat_minor": 2
}
