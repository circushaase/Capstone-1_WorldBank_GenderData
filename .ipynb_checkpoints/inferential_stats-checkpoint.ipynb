{
 "cells": [
  {
   "cell_type": "markdown",
   "metadata": {},
   "source": [
    "# Inferential Stats Exploration"
   ]
  },
  {
   "cell_type": "code",
   "execution_count": 14,
   "metadata": {},
   "outputs": [
    {
     "name": "stdout",
     "output_type": "stream",
     "text": [
      "Populating the interactive namespace from numpy and matplotlib\n"
     ]
    }
   ],
   "source": [
    "import pandas as pd\n",
    "import numpy as np\n",
    "import seaborn as sns\n",
    "from sklearn import preprocessing as pp\n",
    "from sklearn import linear_model as lm\n",
    "%pylab inline\n",
    "\n",
    "#wrangled data imported into a pandas dataframe\n",
    "df = pd.read_csv('~/Documents/Repository/Capstone-1_WorldBank_GenderData/finalvars.csv')"
   ]
  },
  {
   "cell_type": "code",
   "execution_count": 15,
   "metadata": {},
   "outputs": [
    {
     "data": {
      "text/html": [
       "<div>\n",
       "<style>\n",
       "    .dataframe thead tr:only-child th {\n",
       "        text-align: right;\n",
       "    }\n",
       "\n",
       "    .dataframe thead th {\n",
       "        text-align: left;\n",
       "    }\n",
       "\n",
       "    .dataframe tbody tr th {\n",
       "        vertical-align: top;\n",
       "    }\n",
       "</style>\n",
       "<table border=\"1\" class=\"dataframe\">\n",
       "  <thead>\n",
       "    <tr style=\"text-align: right;\">\n",
       "      <th></th>\n",
       "      <th>Unnamed: 0</th>\n",
       "      <th>country</th>\n",
       "      <th>life</th>\n",
       "      <th>bc</th>\n",
       "      <th>matdeath</th>\n",
       "      <th>teen</th>\n",
       "      <th>gdp</th>\n",
       "      <th>healthspend</th>\n",
       "      <th>eduspend</th>\n",
       "    </tr>\n",
       "  </thead>\n",
       "  <tbody>\n",
       "    <tr>\n",
       "      <th>3940</th>\n",
       "      <td>3940</td>\n",
       "      <td>Zimbabwe</td>\n",
       "      <td>49.574659</td>\n",
       "      <td>NaN</td>\n",
       "      <td>446.0</td>\n",
       "      <td>115.0006</td>\n",
       "      <td>674.268695</td>\n",
       "      <td>1.684360</td>\n",
       "      <td>1.97333</td>\n",
       "    </tr>\n",
       "    <tr>\n",
       "      <th>3941</th>\n",
       "      <td>3941</td>\n",
       "      <td>Zimbabwe</td>\n",
       "      <td>51.600366</td>\n",
       "      <td>58.5</td>\n",
       "      <td>409.0</td>\n",
       "      <td>114.1658</td>\n",
       "      <td>768.556409</td>\n",
       "      <td>2.121150</td>\n",
       "      <td>NaN</td>\n",
       "    </tr>\n",
       "    <tr>\n",
       "      <th>3942</th>\n",
       "      <td>3942</td>\n",
       "      <td>Zimbabwe</td>\n",
       "      <td>53.643073</td>\n",
       "      <td>NaN</td>\n",
       "      <td>379.0</td>\n",
       "      <td>113.3310</td>\n",
       "      <td>850.827697</td>\n",
       "      <td>2.771620</td>\n",
       "      <td>NaN</td>\n",
       "    </tr>\n",
       "    <tr>\n",
       "      <th>3943</th>\n",
       "      <td>3943</td>\n",
       "      <td>Zimbabwe</td>\n",
       "      <td>55.633000</td>\n",
       "      <td>NaN</td>\n",
       "      <td>369.0</td>\n",
       "      <td>111.8664</td>\n",
       "      <td>905.500322</td>\n",
       "      <td>2.847450</td>\n",
       "      <td>NaN</td>\n",
       "    </tr>\n",
       "    <tr>\n",
       "      <th>3944</th>\n",
       "      <td>3944</td>\n",
       "      <td>Zimbabwe</td>\n",
       "      <td>57.498317</td>\n",
       "      <td>66.9</td>\n",
       "      <td>401.0</td>\n",
       "      <td>110.4018</td>\n",
       "      <td>931.198185</td>\n",
       "      <td>2.466495</td>\n",
       "      <td>NaN</td>\n",
       "    </tr>\n",
       "  </tbody>\n",
       "</table>\n",
       "</div>"
      ],
      "text/plain": [
       "      Unnamed: 0   country       life    bc  matdeath      teen         gdp  \\\n",
       "3940        3940  Zimbabwe  49.574659   NaN     446.0  115.0006  674.268695   \n",
       "3941        3941  Zimbabwe  51.600366  58.5     409.0  114.1658  768.556409   \n",
       "3942        3942  Zimbabwe  53.643073   NaN     379.0  113.3310  850.827697   \n",
       "3943        3943  Zimbabwe  55.633000   NaN     369.0  111.8664  905.500322   \n",
       "3944        3944  Zimbabwe  57.498317  66.9     401.0  110.4018  931.198185   \n",
       "\n",
       "      healthspend  eduspend  \n",
       "3940     1.684360   1.97333  \n",
       "3941     2.121150       NaN  \n",
       "3942     2.771620       NaN  \n",
       "3943     2.847450       NaN  \n",
       "3944     2.466495       NaN  "
      ]
     },
     "execution_count": 15,
     "metadata": {},
     "output_type": "execute_result"
    }
   ],
   "source": [
    "df.tail()"
   ]
  },
  {
   "cell_type": "code",
   "execution_count": 17,
   "metadata": {},
   "outputs": [],
   "source": [
    "df = df.drop('Unnamed: 0', 1)"
   ]
  },
  {
   "cell_type": "code",
   "execution_count": 20,
   "metadata": {
    "scrolled": true
   },
   "outputs": [
    {
     "data": {
      "image/png": "[encoded data removed]",
      "text/plain": [
       "<matplotlib.figure.Figure at 0xa7e45c0c>"
      ]
     },
     "metadata": {},
     "output_type": "display_data"
    }
   ],
   "source": [
    "#visualized 'heatmap' of correlations between the variables in the focus df\n",
    "corrmat= df.corr ()\n",
    "sns.heatmap(corrmat, vmax=.8, square=True)\n",
    "sns.plt.title('Figure 17. Correlation Heat Map')\n",
    "savefig('heatmap.png')"
   ]
  },
  {
   "cell_type": "code",
   "execution_count": 4,
   "metadata": {},
   "outputs": [
    {
     "data": {
      "text/plain": [
       "Unnamed: 0        0\n",
       "country           0\n",
       "life            246\n",
       "gdp             301\n",
       "teen            345\n",
       "healthspend     422\n",
       "matdeath        510\n",
       "eduspend       1845\n",
       "bc             3306\n",
       "dtype: int64"
      ]
     },
     "execution_count": 4,
     "metadata": {},
     "output_type": "execute_result"
    }
   ],
   "source": [
    "#find which variable(s) has the most missing value \n",
    "#'abuse' was determined to not have enough date points to be useful\n",
    "df.isnull().sum().sort_values()"
   ]
  },
  {
   "cell_type": "code",
   "execution_count": 5,
   "metadata": {},
   "outputs": [
    {
     "name": "stdout",
     "output_type": "stream",
     "text": [
      "bc      629\n",
      "life    629\n",
      "dtype: int64\n",
      "bc          624\n",
      "matdeath    624\n",
      "dtype: int64\n",
      "bc      628\n",
      "teen    628\n",
      "dtype: int64\n",
      "bc     623\n",
      "gdp    623\n",
      "dtype: int64\n",
      "bc             622\n",
      "healthspend    622\n",
      "dtype: int64\n",
      "bc          373\n",
      "eduspend    373\n",
      "dtype: int64\n"
     ]
    }
   ],
   "source": [
    "#To find which variables will result in the highest number of instances when paired with Contraceptive use, do a for loop comparing each variable, one at a time to BC, doing dropna and see what df has the most rows.\n",
    "dv = ['life', 'matdeath', 'teen', 'gdp', 'healthspend', 'eduspend']\n",
    "for var in dv:\n",
    "    compare = pd.DataFrame()\n",
    "    compare['bc'] = df['bc']\n",
    "    compare[var]= df[var]\n",
    "    compare = compare.dropna()\n",
    "    print compare.count()"
   ]
  },
  {
   "cell_type": "code",
   "execution_count": 6,
   "metadata": {},
   "outputs": [
    {
     "name": "stdout",
     "output_type": "stream",
     "text": [
      "bc\n",
      "    Unnamed: 0      life  matdeath      teen       gdp  healthspend  eduspend\n",
      "10    0.000000  0.467943  0.219494  0.450212  0.004822     0.214419  0.276804\n",
      "11    0.000256  0.476183  0.201360  0.422924  0.005378     0.142159  0.241864\n",
      "15    0.001278  0.820981  0.015111  0.079746  0.011247     0.158779  0.175740\n",
      "17    0.001789  0.841356  0.012845  0.079571  0.014194     0.158584  0.156729\n",
      "20    0.002556  0.862745  0.010200  0.077814  0.027509     0.200539  0.171761\n",
      "life\n",
      "    Unnamed: 0        bc  matdeath      teen       gdp  healthspend  eduspend\n",
      "10    0.000000  0.190840  0.219494  0.450212  0.004822     0.214419  0.276804\n",
      "11    0.000256  0.184297  0.201360  0.422924  0.005378     0.142159  0.241864\n",
      "15    0.001278  0.580153  0.015111  0.079746  0.011247     0.158779  0.175740\n",
      "17    0.001789  0.772083  0.012845  0.079571  0.014194     0.158584  0.156729\n",
      "20    0.002556  0.608506  0.010200  0.077814  0.027509     0.200539  0.171761\n",
      "matdeath\n",
      "    Unnamed: 0      life        bc      teen       gdp  healthspend  eduspend\n",
      "10    0.000000  0.467943  0.190840  0.450212  0.004822     0.214419  0.276804\n",
      "11    0.000256  0.476183  0.184297  0.422924  0.005378     0.142159  0.241864\n",
      "15    0.001278  0.820981  0.580153  0.079746  0.011247     0.158779  0.175740\n",
      "17    0.001789  0.841356  0.772083  0.079571  0.014194     0.158584  0.156729\n",
      "20    0.002556  0.862745  0.608506  0.077814  0.027509     0.200539  0.171761\n",
      "teen\n",
      "    Unnamed: 0      life        bc  matdeath       gdp  healthspend  eduspend\n",
      "10    0.000000  0.467943  0.190840  0.219494  0.004822     0.214419  0.276804\n",
      "11    0.000256  0.476183  0.184297  0.201360  0.005378     0.142159  0.241864\n",
      "15    0.001278  0.820981  0.580153  0.015111  0.011247     0.158779  0.175740\n",
      "17    0.001789  0.841356  0.772083  0.012845  0.014194     0.158584  0.156729\n",
      "20    0.002556  0.862745  0.608506  0.010200  0.027509     0.200539  0.171761\n"
     ]
    },
    {
     "data": {
      "text/plain": [
       "0.61366694862849358"
      ]
     },
     "execution_count": 6,
     "metadata": {},
     "output_type": "execute_result"
    }
   ],
   "source": [
    "#change scale of data to range of 0 to 1\n",
    "dropdf= df.copy().dropna()\n",
    "dropdf = dropdf.drop('country', 1)\n",
    "scaler = pp.MinMaxScaler()\n",
    "scale = pd.DataFrame(scaler.fit_transform(dropdf), columns= dropdf.columns, index = dropdf.index)\n",
    "#Set up IV matrix and DV array to test model accuracy\n",
    "dv = ['bc', 'life', 'matdeath', 'teen']\n",
    "for var in dv:\n",
    "    print(var)\n",
    "    y = pd.DataFrame()\n",
    "    y = scale[var]\n",
    "    X = scale.copy()\n",
    "    del X[var]\n",
    "    print(X.head())\n",
    "\n",
    "sgdr = lm.SGDRegressor(n_iter=1000)  # or any sklearn regressor that you like\n",
    "sgdr.fit(X,y)\n",
    "sgdr.score(X, y)"
   ]
  },
  {
   "cell_type": "code",
   "execution_count": 7,
   "metadata": {},
   "outputs": [
    {
     "data": {
      "text/plain": [
       "array([-0.02542528, -0.29852207, -0.09369672,  0.51161121, -0.17529059,\n",
       "        0.08052312, -0.1331853 ])"
      ]
     },
     "execution_count": 7,
     "metadata": {},
     "output_type": "execute_result"
    }
   ],
   "source": [
    "sgdr.coef_"
   ]
  },
  {
   "cell_type": "code",
   "execution_count": 8,
   "metadata": {},
   "outputs": [
    {
     "data": {
      "text/plain": [
       "(368, 7)"
      ]
     },
     "execution_count": 8,
     "metadata": {},
     "output_type": "execute_result"
    }
   ],
   "source": [
    "X.shape"
   ]
  },
  {
   "cell_type": "code",
   "execution_count": 9,
   "metadata": {},
   "outputs": [
    {
     "data": {
      "text/plain": [
       "0.550942847446244"
      ]
     },
     "execution_count": 9,
     "metadata": {},
     "output_type": "execute_result"
    }
   ],
   "source": [
    "#Create small data frame with only Contraceptive Use ('bc') and Life Expectancy ('life'), drop Nan values and run an SGD Regressor model on the two variables\n",
    "bclife = pd.DataFrame()\n",
    "bclife['bc'] = df['bc']\n",
    "bclife['life'] = df['life']\n",
    "bclife = bclife.dropna()\n",
    "blmodel = lm.SGDRegressor(n_iter=100000, eta0=.001)\n",
    "blmodel.fit(bclife[['bc']], bclife.life)\n",
    "blmodel.score(bclife[['bc']], bclife.life)"
   ]
  },
  {
   "cell_type": "markdown",
   "metadata": {
    "collapsed": true
   },
   "source": [
    "### There is a correlation coefficient of 0.55 between Contraceptive Use and Life Expectancy."
   ]
  },
  {
   "cell_type": "code",
   "execution_count": null,
   "metadata": {
    "collapsed": true
   },
   "outputs": [],
   "source": []
  }
 ],
 "metadata": {
  "kernelspec": {
   "display_name": "Python 2",
   "language": "python",
   "name": "python2"
  },
  "language_info": {
   "codemirror_mode": {
    "name": "ipython",
    "version": 2
   },
   "file_extension": ".py",
   "mimetype": "text/x-python",
   "name": "python",
   "nbconvert_exporter": "python",
   "pygments_lexer": "ipython2",
   "version": "2.7.13"
  }
 },
 "nbformat": 4,
 "nbformat_minor": 2
}
