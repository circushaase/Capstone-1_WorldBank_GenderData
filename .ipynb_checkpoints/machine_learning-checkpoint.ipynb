{
 "cells": [
  {
   "cell_type": "code",
   "execution_count": 6,
   "metadata": {},
   "outputs": [],
   "source": [
    "import pandas as pd\n",
    "import numpy as np\n",
    "\n",
    "from sklearn import preprocessing as pp\n",
    "from matplotlib import pyplot\n",
    "%matplotlib inline\n",
    "\n",
    "#reading in data\n",
    "cause = pd.read_csv('/home/lara/Documents/Repository/Capstone-1_WorldBank_GenderData/causes.csv')\n",
    "effect = pd.read_csv('/home/lara/Documents/Repository/Capstone-1_WorldBank_GenderData/effects.csv')\n",
    "\n",
    "#Model assesment tools\n",
    "from sklearn import model_selection\n",
    "from sklearn.model_selection import GridSearchCV\n",
    "from sklearn.model_selection import RandomizedSearchCV\n",
    "from sklearn.model_selection import KFold\n",
    "from sklearn.metrics import mean_squared_error\n",
    "from sklearn.model_selection import train_test_split\n",
    "\n",
    "#Supervised Learning Regressor algorithms\n",
    "from sklearn.linear_model import SGDRegressor\n",
    "from sklearn.gaussian_process import GaussianProcessRegressor\n",
    "from sklearn.tree import DecisionTreeRegressor\n",
    "from sklearn.neighbors import KNeighborsRegressor\n",
    "from sklearn.svm import SVR\n",
    "from sklearn.ensemble import RandomForestRegressor, GradientBoostingRegressor\n"
   ]
  },
  {
   "cell_type": "markdown",
   "metadata": {},
   "source": [
    "## Loop through various models"
   ]
  },
  {
   "cell_type": "code",
   "execution_count": 17,
   "metadata": {
    "collapsed": true
   },
   "outputs": [],
   "source": [
    "models = []\n",
    "models.append(('SGDR', SGDRegressor()))\n",
    "models.append(('GaussianPR', GaussianProcessRegressor()))\n",
    "models.append(('KNN', KNeighborsRegressor()))\n",
    "models.append(('DTree', DecisionTreeRegressor()))\n",
    "models.append(('GradientBR', GradientBoostingRegressor()))\n",
    "models.append(('SVR', SVR()))\n",
    "models.append(('RF', RandomForestRegressor(n_jobs = -1, n_estimators = 100)))"
   ]
  },
  {
   "cell_type": "code",
   "execution_count": 20,
   "metadata": {},
   "outputs": [],
   "source": [
    "#a function to evaluate each model\n",
    "def run_models(x,y):\n",
    "    results = []\n",
    "    names = []\n",
    "\n",
    "    for name, model in models:\n",
    "        kfold = model_selection.KFold(n_splits=10, shuffle = True, random_state=11)\n",
    "        cv_results = model_selection.cross_val_score(model, x, y, cv=kfold, scoring='neg_mean_squared_error')\n",
    "        results.append(cv_results)\n",
    "        names.append(name)\n",
    "        msg = \"%s: %f (%f)\" % (name, cv_results.mean(), cv_results.std())\n",
    "        print(msg)\n",
    "    \n",
    "    #boxplot algorithm comparison\n",
    "    fig = pyplot.figure()\n",
    "    fig.suptitle('Algorithm Comparison')\n",
    "    ax = fig.add_subplot(111)\n",
    "    pyplot.boxplot(results)\n",
    "    ax.set_xticklabels(names)\n",
    "    pyplot.ylim(-3000,0)\n",
    "    pyplot.show()"
   ]
  },
  {
   "cell_type": "markdown",
   "metadata": {},
   "source": [
    "# Functions for each model"
   ]
  },
  {
   "cell_type": "code",
   "execution_count": 4,
   "metadata": {
    "collapsed": true
   },
   "outputs": [],
   "source": [
    "def run_svr(parameters, x, y):\n",
    "    kfold = model_selection.KFold(n_splits=10, shuffle = True, random_state=11)\n",
    "    svr = SVR()\n",
    "    reg = GridSearchCV(svr, parameters, n_jobs =-1, cv = kfold, scoring='neg_mean_squared_error')\n",
    "    reg.fit(x, y)\n",
    "    \n",
    "    print reg.best_estimator_\n",
    "    print reg.best_score_"
   ]
  },
  {
   "cell_type": "code",
   "execution_count": 5,
   "metadata": {
    "collapsed": true
   },
   "outputs": [],
   "source": [
    "def run_knn(parameters, x, y):\n",
    "    kfold = model_selection.KFold(n_splits=10, shuffle = True, random_state=11)\n",
    "    gpr = KNeighborsRegressor()\n",
    "    reg = GridSearchCV(gpr, parameters, n_jobs =-1, cv = kfold, scoring='neg_mean_squared_error')\n",
    "    reg.fit(x, y)\n",
    "    \n",
    "    print reg.best_estimator_\n",
    "    print reg.best_score_"
   ]
  },
  {
   "cell_type": "code",
   "execution_count": 6,
   "metadata": {
    "collapsed": true
   },
   "outputs": [],
   "source": [
    "def rand_gradi(parameters, x, y):\n",
    "    kfold = model_selection.KFold(n_splits=10, shuffle = True, random_state=11)\n",
    "    gbr = GradientBoostingRegressor()\n",
    "    reg = RandomizedSearchCV(gbr, parameters, n_jobs =-1, cv = kfold, scoring='neg_mean_squared_error', n_iter=10, random_state=5)\n",
    "    reg.fit(x, y)\n",
    "    \n",
    "    print reg.best_estimator_\n",
    "    print reg.best_score_"
   ]
  },
  {
   "cell_type": "code",
   "execution_count": 7,
   "metadata": {
    "collapsed": true
   },
   "outputs": [],
   "source": [
    "def grid_gradi(parameters, x, y):\n",
    "    kfold = model_selection.KFold(n_splits=10, shuffle = True, random_state=11)\n",
    "    gbr = GradientBoostingRegressor()\n",
    "    reg = GridSearchCV(gbr, parameters, n_jobs =-1, cv = kfold, scoring='neg_mean_squared_error')\n",
    "    reg.fit(x, y)\n",
    "    \n",
    "    print reg.best_estimator_\n",
    "    print reg.best_score_"
   ]
  },
  {
   "cell_type": "code",
   "execution_count": 8,
   "metadata": {
    "collapsed": true
   },
   "outputs": [],
   "source": [
    "def rand_rf(parameters, x, y):\n",
    "    kfold = model_selection.KFold(n_splits=10, shuffle = True, random_state=11)\n",
    "    rf = RandomForestRegressor()\n",
    "    reg = RandomizedSearchCV(rf, parameters, n_jobs =-1, cv = kfold, scoring='neg_mean_squared_error',  n_iter=10, random_state=5)\n",
    "    reg.fit(x, y)\n",
    "    \n",
    "    print reg.best_estimator_\n",
    "    print reg.best_score_"
   ]
  },
  {
   "cell_type": "code",
   "execution_count": 9,
   "metadata": {
    "collapsed": true
   },
   "outputs": [],
   "source": [
    "def grid_rf(parameters, x, y):\n",
    "    kfold = model_selection.KFold(n_splits=10, shuffle = True, random_state=11)\n",
    "    rf = RandomForestRegressor()\n",
    "    reg = GridSearchCV(rf, parameters, n_jobs =-1, cv = kfold, scoring='neg_mean_squared_error')\n",
    "    reg.fit(x, y)\n",
    "    \n",
    "    print reg.best_estimator_\n",
    "    print reg.best_score_"
   ]
  },
  {
   "cell_type": "markdown",
   "metadata": {},
   "source": [
    "# Contraceptive Use as the Dependent Variable\n",
    "### Independent Variables: GDP, Spending on Health, Spending on Education"
   ]
  },
  {
   "cell_type": "code",
   "execution_count": 4,
   "metadata": {
    "collapsed": true
   },
   "outputs": [],
   "source": [
    "#break \"cause\" data into training and testing sets\n",
    "xcause, xCtest, ycause, yCtest = train_test_split(cause[['gdp','healthspend', 'eduspend']].values, cause.bc.values, random_state = 10)"
   ]
  },
  {
   "cell_type": "code",
   "execution_count": 21,
   "metadata": {
    "scrolled": true
   },
   "outputs": [
    {
     "name": "stdout",
     "output_type": "stream",
     "text": [
      "SGDR: -55710622587464384559884729969541120.000000 (96446027018403728340955949730627584.000000)\n",
      "GaussianPR: -2730.725384 (247.353779)\n",
      "KNN: -394.511996 (49.295327)\n",
      "DTree: -619.002370 (149.645396)\n",
      "GradientBR: -355.405851 (38.130423)\n",
      "SVR: -549.321570 (73.052767)\n",
      "RF: -344.779866 (38.164682)\n"
     ]
    },
    {
     "data": {
      "image/png": "[encoded data removed]",
      "text/plain": [
       "<matplotlib.figure.Figure at 0xaeb0510c>"
      ]
     },
     "metadata": {},
     "output_type": "display_data"
    }
   ],
   "source": [
    "# use \"cause\" training sets to evaluate model fitting\n",
    "run_models(xcause, ycause)"
   ]
  },
  {
   "cell_type": "markdown",
   "metadata": {
    "collapsed": true
   },
   "source": [
    "#### KNN, SVR, Gradient Boosting Regressor and Random Forest appear to be the best performing models\n",
    "## Tuning the models:"
   ]
  },
  {
   "cell_type": "markdown",
   "metadata": {
    "collapsed": true
   },
   "source": [
    "### SVM"
   ]
  },
  {
   "cell_type": "code",
   "execution_count": 70,
   "metadata": {
    "scrolled": false
   },
   "outputs": [
    {
     "name": "stdout",
     "output_type": "stream",
     "text": [
      "SVR(C=1250, cache_size=200, coef0=0.0, degree=3, epsilon=10, gamma=7e-08,\n",
      "  kernel='rbf', max_iter=-1, shrinking=True, tol=0.001, verbose=False)\n",
      "-340.73986383\n"
     ]
    }
   ],
   "source": [
    "param_grid = {'C': [0.001, 0.1, 1, 10,50, 100, 150, 500,750,900, 1000,1100,1250, 1500], 'epsilon': [0.00001, 0.0001, 0.001, 0.1, 1, 5, 8,10,15,20, 50, 100], 'gamma': [1e-9, 1e-8, 5e-8,7e-8, 1e-7, 5e-7, 1e-6, 1e-5, .0001, .001, .01, .1, 1, 10]}\n",
    "run_svr(param_grid, xcause, ycause)"
   ]
  },
  {
   "cell_type": "code",
   "execution_count": 45,
   "metadata": {},
   "outputs": [
    {
     "data": {
      "text/plain": [
       "341.66895418756087"
      ]
     },
     "execution_count": 45,
     "metadata": {},
     "output_type": "execute_result"
    }
   ],
   "source": [
    "#Validate with test set data (xCtest, yCtest)\n",
    "svr_final = SVR(C=1250, cache_size=200, coef0=0.0, degree=3, epsilon=10, gamma=7e-08,\n",
    "  kernel='rbf', max_iter=-1, shrinking=True, tol=0.001, verbose=False)\n",
    "\n",
    "svr_final.fit(xcause, ycause)\n",
    "mean_squared_error(svr_final.predict(xCtest), yCtest)"
   ]
  },
  {
   "cell_type": "markdown",
   "metadata": {},
   "source": [
    "### KNN"
   ]
  },
  {
   "cell_type": "code",
   "execution_count": 11,
   "metadata": {
    "scrolled": true
   },
   "outputs": [
    {
     "name": "stdout",
     "output_type": "stream",
     "text": [
      "KNeighborsRegressor(algorithm='auto', leaf_size=1, metric='minkowski',\n",
      "          metric_params=None, n_jobs=1, n_neighbors=19, p=2,\n",
      "          weights='uniform')\n",
      "-353.937164213\n"
     ]
    }
   ],
   "source": [
    "param_knn = { 'n_neighbors': [1,2,3,4,5,6,7,8,9,10,11,12,13,14,15,16,17,18,19,20], 'weights':['uniform', 'distance'], 'leaf_size': [1,5,10,15,20,25,30,35,40,45,50]}\n",
    "run_knn(param_knn, xcause, ycause)"
   ]
  },
  {
   "cell_type": "code",
   "execution_count": 16,
   "metadata": {},
   "outputs": [
    {
     "data": {
      "text/plain": [
       "349.00778679808928"
      ]
     },
     "execution_count": 16,
     "metadata": {},
     "output_type": "execute_result"
    }
   ],
   "source": [
    "#Validate with testing data\n",
    "knn_final = KNeighborsRegressor(algorithm='auto', leaf_size=1, metric='minkowski',\n",
    "          metric_params=None, n_jobs=1, n_neighbors=19, p=2,\n",
    "          weights='uniform')\n",
    "knn_final.fit(xcause, ycause)\n",
    "mean_squared_error(knn_final.predict(xCtest), yCtest)"
   ]
  },
  {
   "cell_type": "markdown",
   "metadata": {},
   "source": [
    "### Gradient Boosting Regressor"
   ]
  },
  {
   "cell_type": "code",
   "execution_count": 22,
   "metadata": {},
   "outputs": [
    {
     "name": "stdout",
     "output_type": "stream",
     "text": [
      "GradientBoostingRegressor(alpha=0.9, criterion='friedman_mse', init=None,\n",
      "             learning_rate=0.1, loss='ls', max_depth=2, max_features=None,\n",
      "             max_leaf_nodes=None, min_impurity_split=1e-07,\n",
      "             min_samples_leaf=1, min_samples_split=2,\n",
      "             min_weight_fraction_leaf=0.0, n_estimators=100,\n",
      "             presort='auto', random_state=None, subsample=1.0, verbose=0,\n",
      "             warm_start=False)\n",
      "-345.282333241\n"
     ]
    }
   ],
   "source": [
    "param_gbr = {'n_estimators': [50, 100, 150, 200, 250, 300, 350, 400, 450], 'max_depth':[1,2,3,4,5,10,15,20,25,50,100,150, None]}\n",
    "rand_gradi(param_gbr, xcause, ycause)"
   ]
  },
  {
   "cell_type": "code",
   "execution_count": 15,
   "metadata": {},
   "outputs": [
    {
     "name": "stdout",
     "output_type": "stream",
     "text": [
      "GradientBoostingRegressor(alpha=0.9, criterion='friedman_mse', init=None,\n",
      "             learning_rate=0.1, loss='ls', max_depth=2, max_features=None,\n",
      "             max_leaf_nodes=None, min_impurity_split=1e-07,\n",
      "             min_samples_leaf=1, min_samples_split=2,\n",
      "             min_weight_fraction_leaf=0.0, n_estimators=50, presort='auto',\n",
      "             random_state=None, subsample=1.0, verbose=0, warm_start=False)\n",
      "-335.98372412\n"
     ]
    }
   ],
   "source": [
    "paramgrid_gbr = {'n_estimators': [50, 100, 150, 200, 250, 300, 350, 400, 450], 'max_depth':[1,2,3,4,5,10,15,20,25,50,100,150]}\n",
    "grid_gradi(paramgrid_gbr, xcause, ycause)"
   ]
  },
  {
   "cell_type": "code",
   "execution_count": 14,
   "metadata": {
    "scrolled": true
   },
   "outputs": [
    {
     "data": {
      "text/plain": [
       "327.98620879046996"
      ]
     },
     "execution_count": 14,
     "metadata": {},
     "output_type": "execute_result"
    }
   ],
   "source": [
    "# Vaildate Model with test data, xCtest, yCtest\n",
    "gbr_final =GradientBoostingRegressor(alpha=0.9, criterion='friedman_mse', init=None,\n",
    "             learning_rate=0.1, loss='ls', max_depth=2, max_features=None,\n",
    "             max_leaf_nodes=None, min_impurity_split=1e-07,\n",
    "             min_samples_leaf=1, min_samples_split=2,\n",
    "             min_weight_fraction_leaf=0.0, n_estimators=50, presort='auto',\n",
    "             random_state=None, subsample=1.0, verbose=0, warm_start=False)\n",
    "gbr_final.fit(xcause, ycause)\n",
    "mean_squared_error(gbr_final.predict(xCtest),yCtest)"
   ]
  },
  {
   "cell_type": "markdown",
   "metadata": {},
   "source": [
    "### Random Forest"
   ]
  },
  {
   "cell_type": "code",
   "execution_count": 13,
   "metadata": {
    "scrolled": true
   },
   "outputs": [
    {
     "name": "stdout",
     "output_type": "stream",
     "text": [
      "RandomForestRegressor(bootstrap=True, criterion='mse', max_depth=5,\n",
      "           max_features='auto', max_leaf_nodes=None,\n",
      "           min_impurity_split=1e-07, min_samples_leaf=1,\n",
      "           min_samples_split=2, min_weight_fraction_leaf=0.0,\n",
      "           n_estimators=750, n_jobs=1, oob_score=False, random_state=None,\n",
      "           verbose=0, warm_start=False)\n",
      "-329.287565245\n"
     ]
    }
   ],
   "source": [
    "param_dist_rf = {'n_estimators': [10, 100, 250, 500, 750, 1000, 1250, 1500], 'max_depth': [1,3,4,5,6,7,8,9,10,20,50,100]}\n",
    "rand_rf(param_dist_rf, xcause,ycause)"
   ]
  },
  {
   "cell_type": "code",
   "execution_count": 71,
   "metadata": {},
   "outputs": [
    {
     "name": "stdout",
     "output_type": "stream",
     "text": [
      "RandomForestRegressor(bootstrap=True, criterion='mse', max_depth=4,\n",
      "           max_features='auto', max_leaf_nodes=None,\n",
      "           min_impurity_split=1e-07, min_samples_leaf=1,\n",
      "           min_samples_split=2, min_weight_fraction_leaf=0.0,\n",
      "           n_estimators=150, n_jobs=-1, oob_score=False, random_state=None,\n",
      "           verbose=0, warm_start=False)\n",
      "-326.851922116\n"
     ]
    }
   ],
   "source": [
    "#Full Grid Search CV\n",
    "paramgrid_rf = {'n_estimators': [5, 10, 50, 75, 100, 150, 250, 500, 750, 1000, 1250, 1500], 'max_depth': [1,2,3,4,5,6,7,8,9,10,20,25,50,75,100, None], 'n_jobs': [-1]}\n",
    "grid_rf(paramgrid_rf, xcause,ycause)"
   ]
  },
  {
   "cell_type": "code",
   "execution_count": 72,
   "metadata": {},
   "outputs": [
    {
     "data": {
      "text/plain": [
       "323.2377311606383"
      ]
     },
     "execution_count": 72,
     "metadata": {},
     "output_type": "execute_result"
    }
   ],
   "source": [
    "# Validate with test data:  xCtest, yCtest\n",
    "rf_final= RandomForestRegressor(bootstrap=True, criterion='mse', max_depth=4,\n",
    "           max_features='auto', max_leaf_nodes=None,\n",
    "           min_impurity_split=1e-07, min_samples_leaf=1,\n",
    "           min_samples_split=2, min_weight_fraction_leaf=0.0,\n",
    "           n_estimators=150, n_jobs=-1, oob_score=False, random_state=None,\n",
    "           verbose=0, warm_start=False)\n",
    "rf_final.fit(xcause, ycause)\n",
    "mean_squared_error(rf_final.predict(xCtest),yCtest)"
   ]
  },
  {
   "cell_type": "markdown",
   "metadata": {
    "collapsed": true
   },
   "source": [
    "# Contraceptive Use as the Independent Variable"
   ]
  },
  {
   "cell_type": "markdown",
   "metadata": {},
   "source": [
    "## Life Expectancy"
   ]
  },
  {
   "cell_type": "code",
   "execution_count": 23,
   "metadata": {
    "collapsed": true
   },
   "outputs": [],
   "source": [
    "# Make train and test sets out of Contraceptive Use and Life Expectancy\n",
    "xlife, xLtest, ylife, yLtest = train_test_split(effect[['life']].values, effect.bc.values, random_state = 10)"
   ]
  },
  {
   "cell_type": "code",
   "execution_count": 24,
   "metadata": {
    "scrolled": true
   },
   "outputs": [
    {
     "name": "stdout",
     "output_type": "stream",
     "text": [
      "SGDR: -12804693494393793417314304.000000 (10590588231455721673195520.000000)\n",
      "GaussianPR: -1568351.678645 (4650492.489236)\n",
      "KNN: -232.139862 (53.909149)\n",
      "DTree: -428.298147 (94.433701)\n",
      "GradientBR: -229.623654 (52.544546)\n",
      "SVR: -272.038214 (43.263374)\n",
      "RF: -304.840092 (71.789719)\n"
     ]
    },
    {
     "data": {
      "image/png": "[encoded data removed]",
      "text/plain": [
       "<matplotlib.figure.Figure at 0xa70a728c>"
      ]
     },
     "metadata": {},
     "output_type": "display_data"
    }
   ],
   "source": [
    "# use \"effect\" training set to evaluate model fitting\n",
    "run_models(xlife, ylife)"
   ]
  },
  {
   "cell_type": "markdown",
   "metadata": {},
   "source": [
    "### SVR"
   ]
  },
  {
   "cell_type": "code",
   "execution_count": 12,
   "metadata": {},
   "outputs": [
    {
     "name": "stdout",
     "output_type": "stream",
     "text": [
      "SVR(C=2, cache_size=200, coef0=0.0, degree=3, epsilon=6, gamma=0.005,\n",
      "  kernel='rbf', max_iter=-1, shrinking=True, tol=0.001, verbose=False)\n",
      "-193.014404395\n"
     ]
    }
   ],
   "source": [
    "param_life = {'C': [0.001, 0.1, 0.5,1,2, 3,4,5,10,15,20,50, 100, 1000], 'epsilon': [0.00001, 0.0001, 0.001, 0.1, 1,5,6,7,8,9,10,15,20,50,100], 'gamma': [1e-6, 1e-5, .0001, .001, .005,.008,.01,.015,.05, .1, 1, 10]}\n",
    "run_svr(param_life, xlife,ylife)"
   ]
  },
  {
   "cell_type": "code",
   "execution_count": 9,
   "metadata": {
    "scrolled": true
   },
   "outputs": [
    {
     "data": {
      "text/plain": [
       "225.27613804288893"
      ]
     },
     "execution_count": 9,
     "metadata": {},
     "output_type": "execute_result"
    }
   ],
   "source": [
    "#validate with test data\n",
    "svr_life = SVR(C=2, cache_size=200, coef0=0.0, degree=3, epsilon=6, gamma=0.005,\n",
    "  kernel='rbf', max_iter=-1, shrinking=True, tol=0.001, verbose=False)\n",
    "svr_life.fit(xlife, ylife)\n",
    "mean_squared_error(svr_life.predict(xLtest), yLtest)"
   ]
  },
  {
   "cell_type": "markdown",
   "metadata": {},
   "source": [
    "### KNN"
   ]
  },
  {
   "cell_type": "code",
   "execution_count": 7,
   "metadata": {},
   "outputs": [
    {
     "name": "stdout",
     "output_type": "stream",
     "text": [
      "KNeighborsRegressor(algorithm='auto', leaf_size=30, metric='minkowski',\n",
      "          metric_params=None, n_jobs=1, n_neighbors=20, p=2,\n",
      "          weights='uniform')\n",
      "-201.51451708\n"
     ]
    }
   ],
   "source": [
    "param_knn = { 'n_neighbors': [1,2,3,4,5,6,7,8,9,10,15,20], 'weights':['uniform', 'distance']}\n",
    "run_knn(param_knn, xlife, ylife)"
   ]
  },
  {
   "cell_type": "code",
   "execution_count": 12,
   "metadata": {},
   "outputs": [
    {
     "name": "stdout",
     "output_type": "stream",
     "text": [
      "KNeighborsRegressor(algorithm='auto', leaf_size=30, metric='minkowski',\n",
      "          metric_params=None, n_jobs=1, n_neighbors=40, p=2,\n",
      "          weights='uniform')\n",
      "-191.663243999\n"
     ]
    }
   ],
   "source": [
    "param_knn = { 'n_neighbors': [1,2,3,4,5,6,7,8,9,10,15,20,25,30,35,40,45], 'weights':['uniform', 'distance']}\n",
    "run_knn(param_knn, xlife, ylife)"
   ]
  },
  {
   "cell_type": "code",
   "execution_count": 13,
   "metadata": {},
   "outputs": [
    {
     "data": {
      "text/plain": [
       "222.83196311124061"
      ]
     },
     "execution_count": 13,
     "metadata": {},
     "output_type": "execute_result"
    }
   ],
   "source": [
    "#validate with test data\n",
    "knn_life = KNeighborsRegressor(algorithm='auto', leaf_size=30, metric='minkowski',\n",
    "          metric_params=None, n_jobs=1, n_neighbors=40, p=2,\n",
    "          weights='uniform')\n",
    "knn_life.fit(xlife, ylife)\n",
    "mean_squared_error(knn_life.predict(xLtest), yLtest)"
   ]
  },
  {
   "cell_type": "markdown",
   "metadata": {},
   "source": [
    "### Gradient Boosting Regressor"
   ]
  },
  {
   "cell_type": "code",
   "execution_count": 15,
   "metadata": {
    "scrolled": true
   },
   "outputs": [
    {
     "name": "stdout",
     "output_type": "stream",
     "text": [
      "GradientBoostingRegressor(alpha=0.9, criterion='friedman_mse', init=None,\n",
      "             learning_rate=0.1, loss='ls', max_depth=2, max_features=None,\n",
      "             max_leaf_nodes=None, min_impurity_split=1e-07,\n",
      "             min_samples_leaf=1, min_samples_split=2,\n",
      "             min_weight_fraction_leaf=0.0, n_estimators=100,\n",
      "             presort='auto', random_state=None, subsample=1.0, verbose=0,\n",
      "             warm_start=False)\n",
      "-208.571582313\n"
     ]
    }
   ],
   "source": [
    "param_gbr = {'n_estimators': [50, 100, 150, 200, 250, 300, 350, 400, 450], 'max_depth':[1,2,3,4,5,10,15,20,25,50,100,150, None]}\n",
    "rand_gradi(param_gbr, xlife, ylife)"
   ]
  },
  {
   "cell_type": "code",
   "execution_count": 18,
   "metadata": {
    "scrolled": true
   },
   "outputs": [
    {
     "name": "stdout",
     "output_type": "stream",
     "text": [
      "GradientBoostingRegressor(alpha=0.9, criterion='friedman_mse', init=None,\n",
      "             learning_rate=0.1, loss='ls', max_depth=2, max_features=None,\n",
      "             max_leaf_nodes=None, min_impurity_split=1e-07,\n",
      "             min_samples_leaf=1, min_samples_split=2,\n",
      "             min_weight_fraction_leaf=0.0, n_estimators=50, presort='auto',\n",
      "             random_state=None, subsample=1.0, verbose=0, warm_start=False)\n",
      "-200.151770331\n"
     ]
    }
   ],
   "source": [
    "param_gbr = {'n_estimators': [10, 25,50,75,100,125, 150, 200], 'max_depth':[1,2,3,4,5,10,15,20, None]}\n",
    "rand_gradi(param_gbr, xlife, ylife)"
   ]
  },
  {
   "cell_type": "code",
   "execution_count": null,
   "metadata": {
    "collapsed": true
   },
   "outputs": [],
   "source": [
    "#Full Gridsearch\n",
    "grid_gradi(param_gbr, xlife, ylife)"
   ]
  },
  {
   "cell_type": "code",
   "execution_count": 19,
   "metadata": {},
   "outputs": [
    {
     "data": {
      "text/plain": [
       "233.81826409215049"
      ]
     },
     "execution_count": 19,
     "metadata": {},
     "output_type": "execute_result"
    }
   ],
   "source": [
    "#validate with test data\n",
    "gbr_life = GradientBoostingRegressor(alpha=0.9, criterion='friedman_mse', init=None,\n",
    "             learning_rate=0.1, loss='ls', max_depth=2, max_features=None,\n",
    "             max_leaf_nodes=None, min_impurity_split=1e-07,\n",
    "             min_samples_leaf=1, min_samples_split=2,\n",
    "             min_weight_fraction_leaf=0.0, n_estimators=50, presort='auto',\n",
    "             random_state=None, subsample=1.0, verbose=0, warm_start=False)\n",
    "gbr_life.fit(xlife, ylife)\n",
    "mean_squared_error(gbr_life.predict(xLtest), yLtest)"
   ]
  },
  {
   "cell_type": "markdown",
   "metadata": {},
   "source": [
    "### Random Forest Regressor"
   ]
  },
  {
   "cell_type": "code",
   "execution_count": 29,
   "metadata": {
    "scrolled": true
   },
   "outputs": [
    {
     "name": "stdout",
     "output_type": "stream",
     "text": [
      "RandomForestRegressor(bootstrap=True, criterion='mse', max_depth=3,\n",
      "           max_features='auto', max_leaf_nodes=None,\n",
      "           min_impurity_split=1e-07, min_samples_leaf=1,\n",
      "           min_samples_split=2, min_weight_fraction_leaf=0.0,\n",
      "           n_estimators=1000, n_jobs=1, oob_score=False, random_state=None,\n",
      "           verbose=0, warm_start=False)\n",
      "-197.037953371\n"
     ]
    }
   ],
   "source": [
    "param_dist_rf = {'n_estimators': [25,50,100,200,250,300,400,500,600,750,900, 1000, 1250, 1500, 1750], 'max_depth': [1,3,4,5,6,7,8,9,10,20,50,100, None]}\n",
    "rand_rf(param_dist_rf, xlife,ylife)"
   ]
  },
  {
   "cell_type": "code",
   "execution_count": 8,
   "metadata": {},
   "outputs": [
    {
     "name": "stdout",
     "output_type": "stream",
     "text": [
      "RandomForestRegressor(bootstrap=True, criterion='mse', max_depth=3,\n",
      "           max_features='auto', max_leaf_nodes=None,\n",
      "           min_impurity_split=1e-07, min_samples_leaf=1,\n",
      "           min_samples_split=2, min_weight_fraction_leaf=0.0,\n",
      "           n_estimators=100, n_jobs=1, oob_score=False, random_state=None,\n",
      "           verbose=0, warm_start=False)\n",
      "-196.581474044\n"
     ]
    }
   ],
   "source": [
    "#Full Grid CV\n",
    "grid_rf(param_dist_rf, xlife,ylife)"
   ]
  },
  {
   "cell_type": "code",
   "execution_count": 13,
   "metadata": {},
   "outputs": [
    {
     "data": {
      "text/plain": [
       "239.79020854702082"
      ]
     },
     "execution_count": 13,
     "metadata": {},
     "output_type": "execute_result"
    }
   ],
   "source": [
    "#Validate with test data\n",
    "rf_life = RandomForestRegressor(bootstrap=True, criterion='mse', max_depth=3,\n",
    "           max_features='auto', max_leaf_nodes=None,\n",
    "           min_impurity_split=1e-07, min_samples_leaf=1,\n",
    "           min_samples_split=2, min_weight_fraction_leaf=0.0,\n",
    "           n_estimators=100, n_jobs=1, oob_score=False, random_state=None,\n",
    "           verbose=0, warm_start=False)\n",
    "rf_life.fit(xlife, ylife)\n",
    "mean_squared_error(rf_life.predict(xLtest), yLtest)"
   ]
  },
  {
   "cell_type": "markdown",
   "metadata": {},
   "source": [
    "## Maternal Death Rate"
   ]
  },
  {
   "cell_type": "code",
   "execution_count": 25,
   "metadata": {
    "collapsed": true
   },
   "outputs": [],
   "source": [
    "# Make train and test sets out of Contraceptive Use and Maternal Death Rate\n",
    "xmat, xMtest, ymat, yMtest = train_test_split(effect[['matdeath']].values, effect.bc.values, random_state = 10)"
   ]
  },
  {
   "cell_type": "code",
   "execution_count": 26,
   "metadata": {},
   "outputs": [
    {
     "name": "stdout",
     "output_type": "stream",
     "text": [
      "SGDR: -71326816252619052475131887616.000000 (93319225678023242636890996736.000000)\n",
      "GaussianPR: -575.991370 (83.749061)\n",
      "KNN: -250.437533 (54.483379)\n",
      "DTree: -350.080495 (69.626539)\n",
      "GradientBR: -232.837089 (52.417803)\n",
      "SVR: -493.738410 (55.055903)\n",
      "RF: -276.452538 (60.259194)\n"
     ]
    },
    {
     "data": {
      "image/png": "[encoded data removed]",
      "text/plain": [
       "<matplotlib.figure.Figure at 0xa7059eac>"
      ]
     },
     "metadata": {},
     "output_type": "display_data"
    }
   ],
   "source": [
    "# use \"effect\" training set to evaluate model fitting\n",
    "run_models(xmat, ymat)"
   ]
  },
  {
   "cell_type": "markdown",
   "metadata": {},
   "source": [
    "### SVR"
   ]
  },
  {
   "cell_type": "code",
   "execution_count": 19,
   "metadata": {},
   "outputs": [
    {
     "name": "stdout",
     "output_type": "stream",
     "text": [
      "SVR(C=100, cache_size=200, coef0=0.0, degree=3, epsilon=13, gamma=5e-07,\n",
      "  kernel='rbf', max_iter=-1, shrinking=True, tol=0.001, verbose=False)\n",
      "-223.489027708\n"
     ]
    }
   ],
   "source": [
    "param_mat = {'C': [0.001, 0.1,1,5,8,10,15,30,40,50,60,70,80,90,100,110,120,130,140,150,500,1000], 'epsilon': [0.00001, 0.0001, 0.001, 0.01, 0.1, 1,5,10,13,15,17,20,30,50,100], 'gamma': [1e-7,5e-7,1e-6,2e-5,5e-6, 1e-5,3e-5, 5e-5, .0001, .001, .01, .1, 1, 10]}\n",
    "run_svr(param_mat, xmat,ymat)"
   ]
  },
  {
   "cell_type": "code",
   "execution_count": 21,
   "metadata": {},
   "outputs": [
    {
     "data": {
      "text/plain": [
       "220.41213896719375"
      ]
     },
     "execution_count": 21,
     "metadata": {},
     "output_type": "execute_result"
    }
   ],
   "source": [
    "#validate with test data\n",
    "svr_mat = SVR(C=100, cache_size=200, coef0=0.0, degree=3, epsilon=13, gamma=5e-07,\n",
    "  kernel='rbf', max_iter=-1, shrinking=True, tol=0.001, verbose=False)\n",
    "svr_mat.fit(xmat, ymat)\n",
    "mean_squared_error(svr_mat.predict(xMtest), yMtest)"
   ]
  },
  {
   "cell_type": "markdown",
   "metadata": {},
   "source": [
    "### KNN"
   ]
  },
  {
   "cell_type": "code",
   "execution_count": 18,
   "metadata": {},
   "outputs": [
    {
     "name": "stdout",
     "output_type": "stream",
     "text": [
      "KNeighborsRegressor(algorithm='auto', leaf_size=30, metric='minkowski',\n",
      "          metric_params=None, n_jobs=1, n_neighbors=13, p=2,\n",
      "          weights='uniform')\n",
      "-220.684355972\n"
     ]
    }
   ],
   "source": [
    "paramknn_mat = { 'n_neighbors': [1,2,3,4,5,6,7,8,9,10,11,12,13,14,15,16,17,18,19,20]}\n",
    "run_knn(paramknn_mat, xmat, ymat)"
   ]
  },
  {
   "cell_type": "code",
   "execution_count": 22,
   "metadata": {},
   "outputs": [
    {
     "data": {
      "text/plain": [
       "225.74045468850721"
      ]
     },
     "execution_count": 22,
     "metadata": {},
     "output_type": "execute_result"
    }
   ],
   "source": [
    "#validate with test data\n",
    "knn_mat = KNeighborsRegressor(algorithm='auto', leaf_size=30, metric='minkowski',\n",
    "          metric_params=None, n_jobs=1, n_neighbors=13, p=2,\n",
    "          weights='uniform')\n",
    "knn_mat.fit(xmat, ymat)\n",
    "mean_squared_error(knn_mat.predict(xMtest), yMtest)"
   ]
  },
  {
   "cell_type": "markdown",
   "metadata": {},
   "source": [
    "### Gradient Boosting Regressor"
   ]
  },
  {
   "cell_type": "code",
   "execution_count": 26,
   "metadata": {},
   "outputs": [
    {
     "name": "stdout",
     "output_type": "stream",
     "text": [
      "GradientBoostingRegressor(alpha=0.9, criterion='friedman_mse', init=None,\n",
      "             learning_rate=0.1, loss='lad', max_depth=3, max_features=None,\n",
      "             max_leaf_nodes=None, min_impurity_split=1e-07,\n",
      "             min_samples_leaf=2, min_samples_split=2,\n",
      "             min_weight_fraction_leaf=0.0, n_estimators=600,\n",
      "             presort='auto', random_state=None, subsample=1.0, verbose=0,\n",
      "             warm_start=False)\n",
      "-238.676329002\n"
     ]
    }
   ],
   "source": [
    "param_gbr_mat = {'loss':['ls', 'lad', 'huber', 'quantile'], 'max_depth':[1,3,5,10,20,30,50,75,100], 'min_samples_leaf':[1, 2, 3, 4, 5,6,7,8,9,10,11,12,13,14,15, 20,25, 50, 100],'n_estimators': [10, 100,400,450,500,550,600,750, 1000]}\n",
    "rand_gradi(param_gbr_mat, xmat, ymat)"
   ]
  },
  {
   "cell_type": "code",
   "execution_count": 27,
   "metadata": {},
   "outputs": [
    {
     "name": "stdout",
     "output_type": "stream",
     "text": [
      "GradientBoostingRegressor(alpha=0.9, criterion='friedman_mse', init=None,\n",
      "             learning_rate=0.1, loss='ls', max_depth=1, max_features=None,\n",
      "             max_leaf_nodes=None, min_impurity_split=1e-07,\n",
      "             min_samples_leaf=20, min_samples_split=2,\n",
      "             min_weight_fraction_leaf=0.0, n_estimators=1000,\n",
      "             presort='auto', random_state=None, subsample=1.0, verbose=0,\n",
      "             warm_start=False)\n",
      "-221.74463557\n"
     ]
    }
   ],
   "source": [
    "#Full Gridsearch\n",
    "grid_gradi(param_gbr_mat, xmat,ymat)"
   ]
  },
  {
   "cell_type": "code",
   "execution_count": 28,
   "metadata": {},
   "outputs": [
    {
     "data": {
      "text/plain": [
       "221.36404730871104"
      ]
     },
     "execution_count": 28,
     "metadata": {},
     "output_type": "execute_result"
    }
   ],
   "source": [
    "#validate with test data\n",
    "gbr_mat = GradientBoostingRegressor(alpha=0.9, criterion='friedman_mse', init=None,\n",
    "             learning_rate=0.1, loss='ls', max_depth=1, max_features=None,\n",
    "             max_leaf_nodes=None, min_impurity_split=1e-07,\n",
    "             min_samples_leaf=20, min_samples_split=2,\n",
    "             min_weight_fraction_leaf=0.0, n_estimators=1000,\n",
    "             presort='auto', random_state=None, subsample=1.0, verbose=0,\n",
    "             warm_start=False)\n",
    "gbr_mat.fit(xmat, ymat)\n",
    "mean_squared_error(gbr_mat.predict(xMtest), yMtest)"
   ]
  },
  {
   "cell_type": "markdown",
   "metadata": {},
   "source": [
    "### Random Forest"
   ]
  },
  {
   "cell_type": "code",
   "execution_count": 37,
   "metadata": {},
   "outputs": [
    {
     "name": "stdout",
     "output_type": "stream",
     "text": [
      "RandomForestRegressor(bootstrap=True, criterion='mse', max_depth=5,\n",
      "           max_features='auto', max_leaf_nodes=None,\n",
      "           min_impurity_split=1e-07, min_samples_leaf=1,\n",
      "           min_samples_split=2, min_weight_fraction_leaf=0.0,\n",
      "           n_estimators=600, n_jobs=1, oob_score=False, random_state=None,\n",
      "           verbose=0, warm_start=False)\n",
      "-226.364560745\n"
     ]
    }
   ],
   "source": [
    "param_rf_mat = {'n_estimators': [10, 100, 250, 500,600, 750, 900,1000, 1250, 1500, 1750, 2000], 'max_depth': [1,3,4,5,6,7,8,9,10,20,50,100]}\n",
    "rand_rf(param_rf_mat, xmat, ymat)"
   ]
  },
  {
   "cell_type": "code",
   "execution_count": 38,
   "metadata": {},
   "outputs": [
    {
     "name": "stdout",
     "output_type": "stream",
     "text": [
      "RandomForestRegressor(bootstrap=True, criterion='mse', max_depth=5,\n",
      "           max_features='auto', max_leaf_nodes=None,\n",
      "           min_impurity_split=1e-07, min_samples_leaf=1,\n",
      "           min_samples_split=2, min_weight_fraction_leaf=0.0,\n",
      "           n_estimators=100, n_jobs=1, oob_score=False, random_state=None,\n",
      "           verbose=0, warm_start=False)\n",
      "-223.601777109\n"
     ]
    }
   ],
   "source": [
    "#Full Gridsearch CV\n",
    "grid_rf(param_rf_mat, xmat, ymat)"
   ]
  },
  {
   "cell_type": "code",
   "execution_count": 39,
   "metadata": {},
   "outputs": [
    {
     "data": {
      "text/plain": [
       "234.30917193256718"
      ]
     },
     "execution_count": 39,
     "metadata": {},
     "output_type": "execute_result"
    }
   ],
   "source": [
    "#validate with test data\n",
    "rf_mat = RandomForestRegressor(bootstrap=True, criterion='mse', max_depth=5,\n",
    "           max_features='auto', max_leaf_nodes=None,\n",
    "           min_impurity_split=1e-07, min_samples_leaf=1,\n",
    "           min_samples_split=2, min_weight_fraction_leaf=0.0,\n",
    "           n_estimators=100, n_jobs=1, oob_score=False, random_state=None,\n",
    "           verbose=0, warm_start=False)\n",
    "rf_mat.fit(xmat, ymat)\n",
    "mean_squared_error(rf_mat.predict(xMtest), yMtest)"
   ]
  },
  {
   "cell_type": "markdown",
   "metadata": {},
   "source": [
    "## Teen Fertility Rate"
   ]
  },
  {
   "cell_type": "code",
   "execution_count": 27,
   "metadata": {
    "collapsed": true
   },
   "outputs": [],
   "source": [
    "# Make train and test sets out of Contraceptive Use and Teen Pregnancy Rate\n",
    "xteen, xTtest, yteen, yTtest = train_test_split(effect[['teen']].values, effect.bc.values, random_state = 10)"
   ]
  },
  {
   "cell_type": "code",
   "execution_count": 28,
   "metadata": {},
   "outputs": [
    {
     "name": "stdout",
     "output_type": "stream",
     "text": [
      "SGDR: -27693161199820063903842304.000000 (41663300796880078061436928.000000)\n",
      "GaussianPR: -90670170.251695 (125975190.459328)\n",
      "KNN: -370.315242 (66.435124)\n",
      "DTree: -578.382639 (96.034763)\n",
      "GradientBR: -367.394936 (78.407684)\n",
      "SVR: -483.662031 (54.238509)\n",
      "RF: -438.126014 (80.394611)\n"
     ]
    },
    {
     "data": {
      "image/png": "[encoded data removed]",
      "text/plain": [
       "<matplotlib.figure.Figure at 0xa96732ac>"
      ]
     },
     "metadata": {},
     "output_type": "display_data"
    }
   ],
   "source": [
    "# use \"effect\" training set to evaluate model fitting\n",
    "run_models(xteen, yteen)"
   ]
  },
  {
   "cell_type": "markdown",
   "metadata": {},
   "source": [
    "### SVR"
   ]
  },
  {
   "cell_type": "code",
   "execution_count": 45,
   "metadata": {},
   "outputs": [
    {
     "name": "stdout",
     "output_type": "stream",
     "text": [
      "SVR(C=2, cache_size=200, coef0=0.0, degree=3, epsilon=7, gamma=0.0001,\n",
      "  kernel='rbf', max_iter=-1, shrinking=True, tol=0.001, verbose=False)\n",
      "-341.721172173\n"
     ]
    }
   ],
   "source": [
    "param_teen = {'C': [0.001, 0.1,0.5,1,2,3,4,5,10,50,100,500,1000], 'epsilon': [0.00001, 0.0001, 0.001, 0.01, 0.1,0.5, 1,2,3,4,5,6,7,8,9,10,50,100], 'gamma': [1e-7,1e-6,1e-5,5e-5, .0001,.0005, .001, .01, .1, 1, 10]}\n",
    "run_svr(param_teen, xteen,yteen)"
   ]
  },
  {
   "cell_type": "code",
   "execution_count": 46,
   "metadata": {},
   "outputs": [
    {
     "data": {
      "text/plain": [
       "334.95649070311248"
      ]
     },
     "execution_count": 46,
     "metadata": {},
     "output_type": "execute_result"
    }
   ],
   "source": [
    "#validate with test data\n",
    "svr_teen = SVR(C=2, cache_size=200, coef0=0.0, degree=3, epsilon=7, gamma=0.0001,\n",
    "  kernel='rbf', max_iter=-1, shrinking=True, tol=0.001, verbose=False)\n",
    "svr_teen.fit(xteen, yteen)\n",
    "mean_squared_error(svr_teen.predict(xTtest), yTtest)"
   ]
  },
  {
   "cell_type": "markdown",
   "metadata": {},
   "source": [
    "### KNN"
   ]
  },
  {
   "cell_type": "code",
   "execution_count": 49,
   "metadata": {
    "scrolled": true
   },
   "outputs": [
    {
     "name": "stdout",
     "output_type": "stream",
     "text": [
      "KNeighborsRegressor(algorithm='auto', leaf_size=30, metric='minkowski',\n",
      "          metric_params=None, n_jobs=1, n_neighbors=23, p=2,\n",
      "          weights='uniform')\n",
      "-328.929050825\n"
     ]
    }
   ],
   "source": [
    "paramknn_teen = { 'n_neighbors': [1,2,3,4,5,6,7,8,9,10,15,16,17,18,19,20,21,22,23,24,25]}\n",
    "run_knn(paramknn_teen, xteen, yteen)"
   ]
  },
  {
   "cell_type": "code",
   "execution_count": 50,
   "metadata": {},
   "outputs": [
    {
     "data": {
      "text/plain": [
       "347.97135808612069"
      ]
     },
     "execution_count": 50,
     "metadata": {},
     "output_type": "execute_result"
    }
   ],
   "source": [
    "#validate with test data\n",
    "svr_teen = KNeighborsRegressor(algorithm='auto', leaf_size=30, metric='minkowski',\n",
    "          metric_params=None, n_jobs=1, n_neighbors=23, p=2,\n",
    "          weights='uniform')\n",
    "svr_teen.fit(xteen, yteen)\n",
    "mean_squared_error(svr_teen.predict(xTtest), yTtest)"
   ]
  },
  {
   "cell_type": "markdown",
   "metadata": {},
   "source": [
    "### Gradient Boosting Regressor"
   ]
  },
  {
   "cell_type": "code",
   "execution_count": 61,
   "metadata": {
    "scrolled": true
   },
   "outputs": [
    {
     "name": "stdout",
     "output_type": "stream",
     "text": [
      "GradientBoostingRegressor(alpha=0.9, criterion='friedman_mse', init=None,\n",
      "             learning_rate=0.1, loss='lad', max_depth=1, max_features=None,\n",
      "             max_leaf_nodes=None, min_impurity_split=1e-07,\n",
      "             min_samples_leaf=20, min_samples_split=2,\n",
      "             min_weight_fraction_leaf=0.0, n_estimators=1000,\n",
      "             presort='auto', random_state=None, subsample=1.0, verbose=0,\n",
      "             warm_start=False)\n",
      "-340.854730282\n"
     ]
    }
   ],
   "source": [
    "param_gbr_teen = {'loss':['ls', 'lad', 'huber', 'quantile'], 'n_estimators': [5, 10, 20,50,75,100,250,400,500,600,700, 1000], 'max_depth':[1,2,3,4,5,8,9,10,15,20,50,100,150], 'min_samples_leaf':[1, 2, 3, 4, 5,8,9, 10,15,20, 25, 50,75,100, 125]}\n",
    "rand_gradi(param_gbr_teen, xteen, yteen)"
   ]
  },
  {
   "cell_type": "code",
   "execution_count": 62,
   "metadata": {},
   "outputs": [
    {
     "name": "stdout",
     "output_type": "stream",
     "text": [
      "GradientBoostingRegressor(alpha=0.9, criterion='friedman_mse', init=None,\n",
      "             learning_rate=0.1, loss='lad', max_depth=2, max_features=None,\n",
      "             max_leaf_nodes=None, min_impurity_split=1e-07,\n",
      "             min_samples_leaf=15, min_samples_split=2,\n",
      "             min_weight_fraction_leaf=0.0, n_estimators=50, presort='auto',\n",
      "             random_state=None, subsample=1.0, verbose=0, warm_start=False)\n",
      "-330.003679829\n"
     ]
    }
   ],
   "source": [
    "#Full Grid CV\n",
    "grid_gradi(param_gbr_teen, xteen, yteen)"
   ]
  },
  {
   "cell_type": "code",
   "execution_count": 63,
   "metadata": {},
   "outputs": [
    {
     "data": {
      "text/plain": [
       "332.82153872505177"
      ]
     },
     "execution_count": 63,
     "metadata": {},
     "output_type": "execute_result"
    }
   ],
   "source": [
    "#validate with test data\n",
    "gbr_teen = GradientBoostingRegressor(alpha=0.9, criterion='friedman_mse', init=None,\n",
    "             learning_rate=0.1, loss='lad', max_depth=2, max_features=None,\n",
    "             max_leaf_nodes=None, min_impurity_split=1e-07,\n",
    "             min_samples_leaf=15, min_samples_split=2,\n",
    "             min_weight_fraction_leaf=0.0, n_estimators=50, presort='auto',\n",
    "             random_state=None, subsample=1.0, verbose=0, warm_start=False)\n",
    "gbr_teen.fit(xteen, yteen)\n",
    "mean_squared_error(gbr_teen.predict(xTtest), yTtest)"
   ]
  },
  {
   "cell_type": "markdown",
   "metadata": {},
   "source": [
    "### Random Forest"
   ]
  },
  {
   "cell_type": "code",
   "execution_count": 65,
   "metadata": {},
   "outputs": [
    {
     "name": "stdout",
     "output_type": "stream",
     "text": [
      "RandomForestRegressor(bootstrap=True, criterion='mse', max_depth=3,\n",
      "           max_features='auto', max_leaf_nodes=None,\n",
      "           min_impurity_split=1e-07, min_samples_leaf=1,\n",
      "           min_samples_split=2, min_weight_fraction_leaf=0.0,\n",
      "           n_estimators=900, n_jobs=1, oob_score=False, random_state=None,\n",
      "           verbose=0, warm_start=False)\n",
      "-335.725744463\n"
     ]
    }
   ],
   "source": [
    "param_rf_teen = {'n_estimators': [10, 100, 250, 500, 600,700,800,900, 1000, 1250,1300, 1500, 1700, 2000], 'max_depth': [1,3,4,5,6,7,8,9,10,20,50,100]}\n",
    "rand_rf(param_rf_teen, xteen, yteen)"
   ]
  },
  {
   "cell_type": "code",
   "execution_count": 66,
   "metadata": {},
   "outputs": [
    {
     "name": "stdout",
     "output_type": "stream",
     "text": [
      "RandomForestRegressor(bootstrap=True, criterion='mse', max_depth=4,\n",
      "           max_features='auto', max_leaf_nodes=None,\n",
      "           min_impurity_split=1e-07, min_samples_leaf=1,\n",
      "           min_samples_split=2, min_weight_fraction_leaf=0.0,\n",
      "           n_estimators=900, n_jobs=1, oob_score=False, random_state=None,\n",
      "           verbose=0, warm_start=False)\n",
      "-333.427243338\n"
     ]
    }
   ],
   "source": [
    "#Full Grid CV\n",
    "grid_rf(param_rf_teen, xteen, yteen)"
   ]
  },
  {
   "cell_type": "code",
   "execution_count": 67,
   "metadata": {},
   "outputs": [
    {
     "data": {
      "text/plain": [
       "316.54408636943674"
      ]
     },
     "execution_count": 67,
     "metadata": {},
     "output_type": "execute_result"
    }
   ],
   "source": [
    "#validate with test data\n",
    "rf_teen = RandomForestRegressor(bootstrap=True, criterion='mse', max_depth=4,\n",
    "           max_features='auto', max_leaf_nodes=None,\n",
    "           min_impurity_split=1e-07, min_samples_leaf=1,\n",
    "           min_samples_split=2, min_weight_fraction_leaf=0.0,\n",
    "           n_estimators=900, n_jobs=1, oob_score=False, random_state=None,\n",
    "           verbose=0, warm_start=False)\n",
    "rf_teen.fit(xteen, yteen)\n",
    "mean_squared_error(rf_teen.predict(xTtest), yTtest)"
   ]
  },
  {
   "cell_type": "code",
   "execution_count": null,
   "metadata": {
    "collapsed": true
   },
   "outputs": [],
   "source": []
  }
 ],
 "metadata": {
  "kernelspec": {
   "display_name": "Python 2",
   "language": "python",
   "name": "python2"
  },
  "language_info": {
   "codemirror_mode": {
    "name": "ipython",
    "version": 2
   },
   "file_extension": ".py",
   "mimetype": "text/x-python",
   "name": "python",
   "nbconvert_exporter": "python",
   "pygments_lexer": "ipython2",
   "version": "2.7.13"
  }
 },
 "nbformat": 4,
 "nbformat_minor": 2
}
