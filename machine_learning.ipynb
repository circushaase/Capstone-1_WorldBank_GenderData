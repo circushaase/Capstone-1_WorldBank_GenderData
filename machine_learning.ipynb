{
 "cells": [
  {
   "cell_type": "code",
   "execution_count": 1,
   "metadata": {},
   "outputs": [
    {
     "name": "stdout",
     "output_type": "stream",
     "text": [
      "Populating the interactive namespace from numpy and matplotlib\n"
     ]
    }
   ],
   "source": [
    "import pandas as pd\n",
    "import numpy as np\n",
    "\n",
    "from sklearn import preprocessing as pp\n",
    "%pylab inline\n",
    "\n",
    "cause = pd.read_csv('/home/lara/Documents/Repository/Capstone-1_WorldBank_GenderData/causes.csv')\n",
    "effect = pd.read_csv('/home/lara/Documents/Repository/Capstone-1_WorldBank_GenderData/effects.csv')\n",
    "\n",
    "\n",
    "# Supervised Learning Modules\n",
    "from sklearn.discriminant_analysis import LinearDiscriminantAnalysis\n",
    "from sklearn.model_selection import GridSearchCV\n",
    "from sklearn.model_selection import KFold\n",
    "\n",
    "from sklearn.metrics import mean_squared_error\n",
    "\n",
    "from sklearn import model_selection\n",
    "\n",
    "from sklearn.linear_model import SGDRegressor\n",
    "from sklearn.gaussian_process import GaussianProcessRegressor\n",
    "from sklearn.tree import DecisionTreeRegressor\n",
    "from sklearn.neighbors import KNeighborsRegressor\n",
    "from sklearn.svm import SVR\n",
    "from sklearn.ensemble import RandomForestRegressor, GradientBoostingRegressor\n"
   ]
  },
  {
   "cell_type": "markdown",
   "metadata": {},
   "source": [
    "# Looping through various models"
   ]
  },
  {
   "cell_type": "code",
   "execution_count": 2,
   "metadata": {
    "collapsed": true
   },
   "outputs": [],
   "source": [
    "models = []\n",
    "models.append(('SGDR', SGDRegressor()))\n",
    "models.append(('GaussianPR', GaussianProcessRegressor()))\n",
    "models.append(('KNN', KNeighborsRegressor()))\n",
    "models.append(('DTree', DecisionTreeRegressor()))\n",
    "models.append(('GradientBR', GradientBoostingRegressor()))\n",
    "models.append(('SVR', SVR()))\n",
    "models.append(('RF', RandomForestRegressor(n_jobs = -1, n_estimators = 500)))"
   ]
  },
  {
   "cell_type": "code",
   "execution_count": 3,
   "metadata": {
    "collapsed": true
   },
   "outputs": [],
   "source": [
    "Y = cause.pop('bc')\n",
    "X = cause"
   ]
  },
  {
   "cell_type": "code",
   "execution_count": 6,
   "metadata": {},
   "outputs": [],
   "source": [
    "#a function to evaluate each model\n",
    "def run_models(x,y):\n",
    "    results = []\n",
    "    names = []\n",
    "\n",
    "    for name, model in models:\n",
    "        kfold = model_selection.KFold(n_splits=10, random_state=11)\n",
    "        cv_results = model_selection.cross_val_score(model, x, y, cv=kfold, scoring='neg_mean_squared_error')\n",
    "        results.append(cv_results)\n",
    "        names.append(name)\n",
    "        msg = \"%s: %f (%f)\" % (name, cv_results.mean(), cv_results.std())\n",
    "        print(msg)\n",
    "\n",
    "    # boxplot algorithm comparison\n",
    "    fig = pyplot.figure()\n",
    "    fig.suptitle(title)\n",
    "    ax = fig.add_subplot(111)\n",
    "    pyplot.boxplot(results)\n",
    "    ax.set_xticklabels(names)\n",
    "    pyplot.ylim(0,1)\n",
    "    pyplot.show()"
   ]
  },
  {
   "cell_type": "code",
   "execution_count": 7,
   "metadata": {
    "scrolled": true
   },
   "outputs": [
    {
     "name": "stdout",
     "output_type": "stream",
     "text": [
      "SGDR: -50209635795624562898703503515975680.000000 (82410922603076284618955227089862656.000000)\n",
      "GaussianPR: -2890.099663 (670.839100)\n",
      "KNN: -441.747520 (169.068798)\n",
      "DTree: -619.891892 (134.627174)\n",
      "GradientBR: -355.193181 (101.923484)\n",
      "SVR: -552.623442 (133.903470)\n",
      "RF: -361.634698 (125.645989)\n"
     ]
    },
    {
     "data": {
      "image/png": "[encoded data removed]",
      "text/plain": [
       "<matplotlib.figure.Figure at 0xa99650cc>"
      ]
     },
     "metadata": {},
     "output_type": "display_data"
    }
   ],
   "source": [
    "run_models(X, Y)"
   ]
  },
  {
   "cell_type": "code",
   "execution_count": null,
   "metadata": {
    "collapsed": true
   },
   "outputs": [],
   "source": []
  },
  {
   "cell_type": "markdown",
   "metadata": {
    "collapsed": true
   },
   "source": [
    "## Tuning the SVM"
   ]
  },
  {
   "cell_type": "code",
   "execution_count": 9,
   "metadata": {},
   "outputs": [
    {
     "name": "stdout",
     "output_type": "stream",
     "text": [
      "C= 0.001  and Epsilon = 0.0001 has score = -0.0120480715893\n",
      "C= 0.001  and Epsilon = 0.001 has score = -0.0120480715893\n",
      "C= 0.001  and Epsilon = 0.1 has score = -0.0125365138055\n",
      "C= 0.001  and Epsilon = 1 has score = -0.0161813608176\n",
      "C= 0.001  and Epsilon = 10 has score = -0.00328371827356\n",
      "C= 0.1  and Epsilon = 0.0001 has score = -0.00450976480201\n",
      "C= 0.1  and Epsilon = 0.001 has score = -0.00451838228018\n",
      "C= 0.1  and Epsilon = 0.1 has score = -0.00548500773786\n",
      "C= 0.1  and Epsilon = 1 has score = -0.00864692738303\n",
      "C= 0.1  and Epsilon = 10 has score = 0.00381446425582\n",
      "C= 1  and Epsilon = 0.0001 has score = 0.0597049598355\n",
      "C= 1  and Epsilon = 0.001 has score = 0.0597022568614\n",
      "C= 1  and Epsilon = 0.1 has score = 0.0593331434604\n",
      "C= 1  and Epsilon = 1 has score = 0.0595884078689\n",
      "C= 1  and Epsilon = 10 has score = 0.0673958766356\n",
      "C= 10  and Epsilon = 0.0001 has score = 0.575783678784\n",
      "C= 10  and Epsilon = 0.001 has score = 0.575784748037\n",
      "C= 10  and Epsilon = 0.1 has score = 0.575912154282\n",
      "C= 10  and Epsilon = 1 has score = 0.576739066576\n",
      "C= 10  and Epsilon = 10 has score = 0.533798894217\n",
      "C= 100  and Epsilon = 0.0001 has score = 0.999999999881\n",
      "C= 100  and Epsilon = 0.001 has score = 0.999999997981\n",
      "C= 100  and Epsilon = 0.1 has score = 0.999981118793\n",
      "C= 100  and Epsilon = 1 has score = 0.998139360179\n",
      "C= 100  and Epsilon = 10 has score = 0.840333914708\n"
     ]
    }
   ],
   "source": [
    "Cs = [0.001, 0.1, 1, 10, 100]\n",
    "Es = [0.0001, 0.001, 0.1, 1, 10]\n",
    "\n",
    "for i in Cs:\n",
    "    for e in Es:\n",
    "        regsvr = SVR(C=i, epsilon = e )\n",
    "        regsvr.fit(X,Y)\n",
    "        score = regsvr.score(X,Y)\n",
    "        \n",
    "        print \"C=\", i, \" and Epsilon =\", e, \"has score =\",score\n",
    "\n"
   ]
  },
  {
   "cell_type": "code",
   "execution_count": null,
   "metadata": {
    "collapsed": true
   },
   "outputs": [],
   "source": []
  },
  {
   "cell_type": "markdown",
   "metadata": {},
   "source": [
    "## Tuning Gradient Boosting Regressor"
   ]
  },
  {
   "cell_type": "code",
   "execution_count": null,
   "metadata": {
    "collapsed": true
   },
   "outputs": [],
   "source": [
    "GradientBoostingRegressor"
   ]
  }
 ],
 "metadata": {
  "kernelspec": {
   "display_name": "Python 2",
   "language": "python",
   "name": "python2"
  },
  "language_info": {
   "codemirror_mode": {
    "name": "ipython",
    "version": 2
   },
   "file_extension": ".py",
   "mimetype": "text/x-python",
   "name": "python",
   "nbconvert_exporter": "python",
   "pygments_lexer": "ipython2",
   "version": "2.7.13"
  }
 },
 "nbformat": 4,
 "nbformat_minor": 2
}
