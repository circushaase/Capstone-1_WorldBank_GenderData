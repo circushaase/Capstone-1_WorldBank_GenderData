{
 "cells": [
  {
   "cell_type": "code",
   "execution_count": 10,
   "metadata": {},
   "outputs": [
    {
     "name": "stdout",
     "output_type": "stream",
     "text": [
      "Populating the interactive namespace from numpy and matplotlib\n"
     ]
    }
   ],
   "source": [
    "import pandas as pd\n",
    "import numpy as np\n",
    "\n",
    "from sklearn import preprocessing as pp\n",
    "%pylab inline\n",
    "\n",
    "cause = pd.read_csv('/home/lara/Documents/Repository/Capstone-1_WorldBank_GenderData/causes.csv')\n",
    "effect = pd.read_csv('/home/lara/Documents/Repository/Capstone-1_WorldBank_GenderData/effects.csv')\n",
    "\n",
    "\n",
    "# Supervised Learning Modules\n",
    "from sklearn.discriminant_analysis import LinearDiscriminantAnalysis\n",
    "from sklearn.model_selection import GridSearchCV\n",
    "from sklearn.model_selection import KFold\n",
    "\n",
    "from sklearn.metrics import mean_squared_error\n",
    "\n",
    "from sklearn import model_selection\n",
    "\n",
    "from sklearn.linear_model import SGDRegressor\n",
    "from sklearn.gaussian_process import GaussianProcessRegressor\n",
    "from sklearn.tree import DecisionTreeRegressor\n",
    "from sklearn.neighbors import KNeighborsRegressor\n",
    "from sklearn.svm import SVR\n",
    "from sklearn.ensemble import RandomForestRegressor, GradientBoostingRegressor\n"
   ]
  },
  {
   "cell_type": "markdown",
   "metadata": {},
   "source": [
    "# Looping through various models"
   ]
  },
  {
   "cell_type": "code",
   "execution_count": 17,
   "metadata": {
    "collapsed": true
   },
   "outputs": [],
   "source": [
    "models = []\n",
    "models.append(('SGDR', SGDRegressor()))\n",
    "models.append(('GaussianPR', GaussianProcessRegressor()))\n",
    "models.append(('KNN', KNeighborsRegressor()))\n",
    "models.append(('DTree', DecisionTreeRegressor()))\n",
    "models.append(('GradientBR', GradientBoostingRegressor()))\n",
    "models.append(('SVR', SVR()))\n",
    "models.append(('RF', RandomForestRegressor(n_jobs = -1, n_estimators = 500)))"
   ]
  },
  {
   "cell_type": "code",
   "execution_count": 12,
   "metadata": {
    "collapsed": true
   },
   "outputs": [],
   "source": [
    "Y = cause.pop('bc')\n",
    "X = cause"
   ]
  },
  {
   "cell_type": "code",
   "execution_count": 18,
   "metadata": {},
   "outputs": [
    {
     "data": {
      "text/plain": [
       "'\\n    # boxplot algorithm comparison\\n    fig = pyplot.figure()\\n    fig.suptitle(title)\\n    ax = fig.add_subplot(111)\\n    pyplot.boxplot(results)\\n    ax.set_xticklabels(names)\\n    pyplot.ylim(0,1)\\n    pyplot.show()\\n'"
      ]
     },
     "execution_count": 18,
     "metadata": {},
     "output_type": "execute_result"
    }
   ],
   "source": [
    "#a function to evaluate each model\n",
    "def run_models(x,y):\n",
    "    results = []\n",
    "    names = []\n",
    "\n",
    "    for name, model in models:\n",
    "        kfold = model_selection.KFold(n_splits=10, random_state=11)\n",
    "\n",
    "        cv_results = model_selection.cross_val_score(model, x, y, cv=kfold, scoring='neg_mean_squared_error')\n",
    "        results.append(cv_results)\n",
    "        names.append(name)\n",
    "        msg = \"%s: %f (%f)\" % (name, cv_results.mean(), cv_results.std())\n",
    "        print(msg)\n",
    "'''\n",
    "    # boxplot algorithm comparison\n",
    "    fig = pyplot.figure()\n",
    "    fig.suptitle(title)\n",
    "    ax = fig.add_subplot(111)\n",
    "    pyplot.boxplot(results)\n",
    "    ax.set_xticklabels(names)\n",
    "    pyplot.ylim(0,1)\n",
    "    pyplot.show()\n",
    "'''  "
   ]
  },
  {
   "cell_type": "code",
   "execution_count": null,
   "metadata": {
    "scrolled": true
   },
   "outputs": [
    {
     "name": "stdout",
     "output_type": "stream",
     "text": [
      "SGDR: -41320650703447881367464074704584704.000000 (87682441237100035983685529320292352.000000)\n",
      "GaussianPR: -2890.099663 (670.839100)\n",
      "KNN: -441.747520 (169.068798)\n",
      "DTree: -598.274136 (134.188698)\n",
      "GradientBR: -351.965276 (93.916262)\n",
      "SVR: -552.623442 (133.903470)\n"
     ]
    }
   ],
   "source": [
    "run_models(X, Y)"
   ]
  },
  {
   "cell_type": "code",
   "execution_count": null,
   "metadata": {
    "collapsed": true
   },
   "outputs": [],
   "source": []
  },
  {
   "cell_type": "code",
   "execution_count": null,
   "metadata": {
    "collapsed": true
   },
   "outputs": [],
   "source": []
  }
 ],
 "metadata": {
  "kernelspec": {
   "display_name": "Python 2",
   "language": "python",
   "name": "python2"
  },
  "language_info": {
   "codemirror_mode": {
    "name": "ipython",
    "version": 2
   },
   "file_extension": ".py",
   "mimetype": "text/x-python",
   "name": "python",
   "nbconvert_exporter": "python",
   "pygments_lexer": "ipython2",
   "version": "2.7.13"
  }
 },
 "nbformat": 4,
 "nbformat_minor": 2
}
