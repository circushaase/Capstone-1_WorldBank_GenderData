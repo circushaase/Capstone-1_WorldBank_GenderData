{
 "cells": [
  {
   "cell_type": "code",
   "execution_count": 35,
   "metadata": {
    "collapsed": true
   },
   "outputs": [],
   "source": [
    "import pandas as pd\n",
    "import numpy as np\n",
    "from scipy import stats\n",
    "import scipy\n",
    "df = pd.read_csv('~/Documents/Repository/Capstone-1_WorldBank_GenderData/wrangled_data.csv')"
   ]
  },
  {
   "cell_type": "code",
   "execution_count": 53,
   "metadata": {
    "collapsed": true
   },
   "outputs": [],
   "source": [
    "#create a new df with smaller number of variables to focus on and run correlations on\n",
    "focus = pd.DataFrame()\n",
    "#focus['country'] = df['Country.Name']\n",
    "focus['life'] = df['Life expectancy at birth, total (years)']\n",
    "focus['bc'] = df['Contraceptive prevalence, any methods (% of women ages 15-49)']\n",
    "focus['matdeath'] = df['Maternal mortality ratio (modeled estimate, per 100,000 live births)']\n",
    "focus['teen'] = df['Adolescent fertility rate (births per 1,000 women ages 15-19)']\n",
    "\n",
    "focus['gdp'] = df['GDP per capita (Current US$)']\n",
    "focus['healthspend'] = df['Health expenditure, public (% of GDP)']\n",
    "focus['wifehealth'] = df['Decision maker about a woman\\'s own health care: mainly wife (% of women age 15-49)']\n",
    "focus['hushealth'] = df['Decision maker about a woman\\'s own health care: mainly husband (% of women age 15-49)']\n",
    "focus['bothhealth'] = df['Decision maker about a woman\\'s own health care: wife and husband jointly (% of women age 15-49)']\n",
    "\n",
    "focus['eduspend'] = df['Public spending on education, total (% of GDP)']\n",
    "focus['noschool'] = df['Educational attainment, no schooling, population 25+ years, total (%)']\n",
    "focus['malenoschool'] = df['Educational attainment, no schooling, population 25+ years, male (%)']\n",
    "focus['malesomeschool'] = df['Educational attainment, at least competed lower secondary, population 25+, male (%) (cumulative)']\n",
    "focus['malelit'] = df['Literacy rate, adult male (% of males ages 15 and above)']\n",
    "focus['femalelit'] = df['Literacy rate, adult female (% of females ages 15 and above)']\n",
    "focus['lit'] = df['Literacy rate, youth (ages 15-24), gender parity index (GPI)']\n",
    "focus['bach'] = df['Educational attainment, completed Bachelor\\'s or equivalent, population 25+ years, total (%)']\n",
    "focus['fembach'] = df['Educational attainment, completed Bachelor\\'s or equivalent, population 25+ years, female (%)']\n",
    "\n",
    "focus['abuse'] = df['Proportion of women subjected to physical and/or sexual violence in the last 12 months (% of women age 15-49)']\n",
    "focus['legis'] = df['Female legislators, senior officials and managers (% of total)']\n",
    "\n",
    "#focus[''] = df['']\n",
    "\n",
    "focus.to_csv('focus.csv')"
   ]
  },
  {
   "cell_type": "code",
   "execution_count": null,
   "metadata": {
    "collapsed": true
   },
   "outputs": [],
   "source": []
  },
  {
   "cell_type": "code",
   "execution_count": 29,
   "metadata": {},
   "outputs": [
    {
     "data": {
      "text/plain": [
       "NormaltestResult(statistic=11.967032622933143, pvalue=0.0025199497668011049)"
      ]
     },
     "execution_count": 29,
     "metadata": {},
     "output_type": "execute_result"
    }
   ],
   "source": [
    "#test to verify that the variable distribution is normal\n",
    "scipy.stats.normaltest(focus['wifehealth'].dropna(), axis=0)"
   ]
  },
  {
   "cell_type": "code",
   "execution_count": 10,
   "metadata": {},
   "outputs": [
    {
     "data": {
      "text/plain": [
       "NormaltestResult(statistic=12.613914561600758, pvalue=0.0018235734281981482)"
      ]
     },
     "execution_count": 10,
     "metadata": {},
     "output_type": "execute_result"
    }
   ],
   "source": [
    "#test to verify that the variable distribution is normal\n",
    "scipy.stats.normaltest(focus['hushealth'].dropna(), axis=0)"
   ]
  },
  {
   "cell_type": "code",
   "execution_count": 11,
   "metadata": {
    "collapsed": true
   },
   "outputs": [],
   "source": [
    "#create small df with only \n",
    "wifehushealth = focus.dropna(subset= ['wifehealth','hushealth'])"
   ]
  },
  {
   "cell_type": "code",
   "execution_count": 12,
   "metadata": {},
   "outputs": [
    {
     "data": {
      "text/plain": [
       "(-0.69441999455934034, 7.116859133714127e-20)"
      ]
     },
     "execution_count": 12,
     "metadata": {},
     "output_type": "execute_result"
    }
   ],
   "source": [
    "#Pearson's R Statistic\n",
    "scipy.stats.pearsonr(wifehushealth.wifehealth,wifehushealth.hushealth)"
   ]
  },
  {
   "cell_type": "markdown",
   "metadata": {},
   "source": [
    "### Wife as Health Decision Maker and Husband as Health decision maker are negatively correlated"
   ]
  },
  {
   "cell_type": "code",
   "execution_count": 13,
   "metadata": {},
   "outputs": [
    {
     "data": {
      "text/plain": [
       "NormaltestResult(statistic=8.4459857845394009, pvalue=0.014654718810611766)"
      ]
     },
     "execution_count": 13,
     "metadata": {},
     "output_type": "execute_result"
    }
   ],
   "source": [
    "#test to verify that the variable distribution is normal\n",
    "scipy.stats.normaltest(focus['bothhealth'].dropna(), axis=0)"
   ]
  },
  {
   "cell_type": "code",
   "execution_count": 14,
   "metadata": {
    "collapsed": true
   },
   "outputs": [],
   "source": [
    "#create small df with only \n",
    "wifebothhealth = focus.dropna(subset= ['wifehealth','bothhealth'])"
   ]
  },
  {
   "cell_type": "code",
   "execution_count": 15,
   "metadata": {},
   "outputs": [
    {
     "data": {
      "text/plain": [
       "(-0.092190754972016994, 0.29875415582739473)"
      ]
     },
     "execution_count": 15,
     "metadata": {},
     "output_type": "execute_result"
    }
   ],
   "source": [
    "#Pearson's R Statistic\n",
    "scipy.stats.pearsonr(wifebothhealth.wifehealth,wifebothhealth.bothhealth)"
   ]
  },
  {
   "cell_type": "markdown",
   "metadata": {},
   "source": [
    "### Wife as Health Decision Maker does not have a strong correlation with Both Wife and Husband as the decision makers"
   ]
  },
  {
   "cell_type": "code",
   "execution_count": 16,
   "metadata": {
    "collapsed": true
   },
   "outputs": [],
   "source": [
    "#create small df with only \n",
    "husbothhealth = focus.dropna(subset= ['hushealth','bothhealth'])"
   ]
  },
  {
   "cell_type": "code",
   "execution_count": 17,
   "metadata": {},
   "outputs": [
    {
     "data": {
      "text/plain": [
       "(-0.60433545201612904, 3.3787274372941918e-14)"
      ]
     },
     "execution_count": 17,
     "metadata": {},
     "output_type": "execute_result"
    }
   ],
   "source": [
    "#Pearson's R Statistic\n",
    "scipy.stats.pearsonr(husbothhealth.hushealth,husbothhealth.bothhealth)"
   ]
  },
  {
   "cell_type": "markdown",
   "metadata": {},
   "source": [
    "### Husband as the Decision makers seems to be negatively correlated with Both wife and husband being "
   ]
  },
  {
   "cell_type": "code",
   "execution_count": 18,
   "metadata": {
    "collapsed": true
   },
   "outputs": [],
   "source": [
    "#create small df with only \n",
    "bchushealth = focus.dropna(subset= ['hushealth','bc'])"
   ]
  },
  {
   "cell_type": "code",
   "execution_count": 19,
   "metadata": {},
   "outputs": [
    {
     "data": {
      "text/plain": [
       "(-0.70116661662693947, 2.1984700692798062e-20)"
      ]
     },
     "execution_count": 19,
     "metadata": {},
     "output_type": "execute_result"
    }
   ],
   "source": [
    "#Pearson's R Statistic\n",
    "scipy.stats.pearsonr(bchushealth.hushealth,bchushealth.bc)"
   ]
  },
  {
   "cell_type": "markdown",
   "metadata": {},
   "source": [
    "### Husband as the decision maker is more strongly (negatively) correlated with Birth Control use"
   ]
  },
  {
   "cell_type": "code",
   "execution_count": 20,
   "metadata": {
    "collapsed": true
   },
   "outputs": [],
   "source": [
    "#create small df with only \n",
    "bcwifehealth = focus.dropna(subset= ['wifehealth','bc'])"
   ]
  },
  {
   "cell_type": "code",
   "execution_count": 21,
   "metadata": {},
   "outputs": [
    {
     "data": {
      "text/plain": [
       "(0.60353672049451701, 3.7255176292788522e-14)"
      ]
     },
     "execution_count": 21,
     "metadata": {},
     "output_type": "execute_result"
    }
   ],
   "source": [
    "#Pearson's R Statistic\n",
    "scipy.stats.pearsonr(bcwifehealth.wifehealth,bcwifehealth.bc)"
   ]
  },
  {
   "cell_type": "code",
   "execution_count": null,
   "metadata": {
    "collapsed": true
   },
   "outputs": [],
   "source": []
  },
  {
   "cell_type": "code",
   "execution_count": 22,
   "metadata": {
    "collapsed": true
   },
   "outputs": [],
   "source": [
    "#create small df with only \n",
    "husmatdeath = focus.dropna(subset= ['hushealth','matdeath'])"
   ]
  },
  {
   "cell_type": "code",
   "execution_count": 23,
   "metadata": {},
   "outputs": [
    {
     "data": {
      "text/plain": [
       "(0.5866829524920254, 2.7523176539567527e-13)"
      ]
     },
     "execution_count": 23,
     "metadata": {},
     "output_type": "execute_result"
    }
   ],
   "source": [
    "#Pearson's R Statistic\n",
    "scipy.stats.pearsonr(husmatdeath.hushealth,husmatdeath.matdeath)"
   ]
  },
  {
   "cell_type": "markdown",
   "metadata": {},
   "source": [
    "### Appears to be some correlation between Maternal Death and Husband as Health Decision maker"
   ]
  },
  {
   "cell_type": "code",
   "execution_count": 24,
   "metadata": {
    "collapsed": true
   },
   "outputs": [],
   "source": [
    "#create small df with only \n",
    "wifematdeath = focus.dropna(subset= ['wifehealth','matdeath'])"
   ]
  },
  {
   "cell_type": "code",
   "execution_count": 25,
   "metadata": {},
   "outputs": [
    {
     "data": {
      "text/plain": [
       "(-0.4538177103394147, 6.6142538638919682e-08)"
      ]
     },
     "execution_count": 25,
     "metadata": {},
     "output_type": "execute_result"
    }
   ],
   "source": [
    "#Pearson's R Statistic\n",
    "scipy.stats.pearsonr(wifematdeath.wifehealth,wifematdeath.matdeath)"
   ]
  },
  {
   "cell_type": "markdown",
   "metadata": {},
   "source": [
    "Slightly less strong of a correlation"
   ]
  },
  {
   "cell_type": "markdown",
   "metadata": {},
   "source": [
    "# All Variables are normally distributed"
   ]
  },
  {
   "cell_type": "code",
   "execution_count": null,
   "metadata": {
    "collapsed": true
   },
   "outputs": [],
   "source": [
    "#test to verify that the variable distribution is normal\n",
    "scipy.stats.normaltest(focus['eduspend'].dropna(), axis=0)"
   ]
  },
  {
   "cell_type": "code",
   "execution_count": null,
   "metadata": {
    "collapsed": true
   },
   "outputs": [],
   "source": [
    "#test to verify that the variable distribution is normal\n",
    "scipy.stats.normaltest(focus['noschool'].dropna(), axis=0)"
   ]
  },
  {
   "cell_type": "code",
   "execution_count": null,
   "metadata": {
    "collapsed": true
   },
   "outputs": [],
   "source": [
    "#test to verify that the variable distribution is normal\n",
    "scipy.stats.normaltest(focus['malenoschool'].dropna(), axis=0)"
   ]
  },
  {
   "cell_type": "code",
   "execution_count": null,
   "metadata": {
    "collapsed": true
   },
   "outputs": [],
   "source": [
    "#test to verify that the variable distribution is normal\n",
    "scipy.stats.normaltest(focus['malesomeschool'].dropna(), axis=0)"
   ]
  },
  {
   "cell_type": "code",
   "execution_count": null,
   "metadata": {
    "collapsed": true
   },
   "outputs": [],
   "source": [
    "#test to verify that the variable distribution is normal\n",
    "scipy.stats.normaltest(focus['malelit'].dropna(), axis=0)"
   ]
  },
  {
   "cell_type": "code",
   "execution_count": null,
   "metadata": {
    "collapsed": true
   },
   "outputs": [],
   "source": [
    "#test to verify that the variable distribution is normal\n",
    "scipy.stats.normaltest(focus['femalelit'].dropna(), axis=0)"
   ]
  },
  {
   "cell_type": "code",
   "execution_count": null,
   "metadata": {
    "collapsed": true
   },
   "outputs": [],
   "source": [
    "#test to verify that the variable distribution is normal\n",
    "scipy.stats.normaltest(focus['bach'].dropna(), axis=0)"
   ]
  },
  {
   "cell_type": "code",
   "execution_count": null,
   "metadata": {
    "collapsed": true
   },
   "outputs": [],
   "source": [
    "#test to verify that the variable distribution is normal\n",
    "scipy.stats.normaltest(focus['fembach'].dropna(), axis=0)"
   ]
  },
  {
   "cell_type": "code",
   "execution_count": null,
   "metadata": {
    "collapsed": true
   },
   "outputs": [],
   "source": [
    "#test to verify that the variable distribution is normal\n",
    "scipy.stats.normaltest(focus['abuse'].dropna(), axis=0)"
   ]
  },
  {
   "cell_type": "code",
   "execution_count": null,
   "metadata": {
    "collapsed": true
   },
   "outputs": [],
   "source": [
    "#test to verify that the variable distribution is normal\n",
    "scipy.stats.normaltest(focus['legis'].dropna(), axis=0)"
   ]
  },
  {
   "cell_type": "code",
   "execution_count": null,
   "metadata": {
    "collapsed": true
   },
   "outputs": [],
   "source": [
    "#test to verify that the variable distribution is normal\n",
    "scipy.stats.normaltest(focus['gdp'].dropna(), axis=0)"
   ]
  },
  {
   "cell_type": "code",
   "execution_count": null,
   "metadata": {
    "collapsed": true
   },
   "outputs": [],
   "source": [
    "#test to verify that the variable distribution is normal\n",
    "scipy.stats.normaltest(focus['healthspend'].dropna(), axis=0)"
   ]
  },
  {
   "cell_type": "code",
   "execution_count": null,
   "metadata": {
    "collapsed": true
   },
   "outputs": [],
   "source": []
  },
  {
   "cell_type": "markdown",
   "metadata": {},
   "source": [
    "# Education variables"
   ]
  },
  {
   "cell_type": "markdown",
   "metadata": {},
   "source": [
    "### Small neg correlation between spending and rate of no education"
   ]
  },
  {
   "cell_type": "code",
   "execution_count": 17,
   "metadata": {
    "collapsed": true
   },
   "outputs": [],
   "source": [
    "#create small df with only \n",
    "smalldf = focus.dropna(subset= ['eduspend','noschool'])"
   ]
  },
  {
   "cell_type": "code",
   "execution_count": 18,
   "metadata": {},
   "outputs": [
    {
     "data": {
      "text/plain": [
       "(-0.17112712755808449, 0.0013748549638932443)"
      ]
     },
     "execution_count": 18,
     "metadata": {},
     "output_type": "execute_result"
    }
   ],
   "source": [
    "#Pearson's R Statistic\n",
    "scipy.stats.pearsonr(smalldf.eduspend, smalldf.noschool)"
   ]
  },
  {
   "cell_type": "markdown",
   "metadata": {},
   "source": [
    "## Pick either 'no school' or 'male no school'"
   ]
  },
  {
   "cell_type": "code",
   "execution_count": null,
   "metadata": {
    "collapsed": true
   },
   "outputs": [],
   "source": [
    "#create small df with only \n",
    "no = focus.dropna(subset= ['malenoschool','noschool'])"
   ]
  },
  {
   "cell_type": "code",
   "execution_count": null,
   "metadata": {
    "collapsed": true
   },
   "outputs": [],
   "source": [
    "#Pearson's R Statistic\n",
    "scipy.stats.pearsonr(no.malenoschool, no.noschool)"
   ]
  },
  {
   "cell_type": "code",
   "execution_count": 15,
   "metadata": {
    "collapsed": true
   },
   "outputs": [],
   "source": [
    "#create small df with only \n",
    "smalldf = focus.dropna(subset= ['eduspend','malenoschool'])"
   ]
  },
  {
   "cell_type": "code",
   "execution_count": 16,
   "metadata": {},
   "outputs": [
    {
     "data": {
      "text/plain": [
       "(-0.11594582836594974, 0.030824901437262756)"
      ]
     },
     "execution_count": 16,
     "metadata": {},
     "output_type": "execute_result"
    }
   ],
   "source": [
    "#Pearson's R Statistic\n",
    "scipy.stats.pearsonr(smalldf.eduspend, smalldf.malenoschool)"
   ]
  },
  {
   "cell_type": "code",
   "execution_count": 2,
   "metadata": {
    "collapsed": true
   },
   "outputs": [],
   "source": [
    "#create small df with only \n",
    "noabuse = focus.dropna(subset= ['abuse','noschool'])"
   ]
  },
  {
   "cell_type": "code",
   "execution_count": 3,
   "metadata": {},
   "outputs": [
    {
     "data": {
      "text/plain": [
       "(0.66241305984388299, 0.00016705660992929168)"
      ]
     },
     "execution_count": 3,
     "metadata": {},
     "output_type": "execute_result"
    }
   ],
   "source": [
    "#Pearson's R Statistic\n",
    "scipy.stats.pearsonr(noabuse.abuse, noabuse.noschool)"
   ]
  },
  {
   "cell_type": "code",
   "execution_count": 5,
   "metadata": {
    "collapsed": true
   },
   "outputs": [],
   "source": [
    "#create small df with only \n",
    "maleabuse = focus.dropna(subset= ['abuse','malenoschool'])"
   ]
  },
  {
   "cell_type": "code",
   "execution_count": 6,
   "metadata": {},
   "outputs": [
    {
     "data": {
      "text/plain": [
       "(0.52390891235775972, 0.0050340473229299508)"
      ]
     },
     "execution_count": 6,
     "metadata": {},
     "output_type": "execute_result"
    }
   ],
   "source": [
    "#Pearson's R Statistic\n",
    "scipy.stats.pearsonr(maleabuse.abuse, maleabuse.malenoschool)"
   ]
  },
  {
   "cell_type": "markdown",
   "metadata": {},
   "source": [
    "### Use 'noschool' vs no male school, because it more highly correslated with abuse"
   ]
  },
  {
   "cell_type": "code",
   "execution_count": 26,
   "metadata": {
    "collapsed": true
   },
   "outputs": [],
   "source": [
    "#create small df with only \n",
    "lit = focus.dropna(subset= ['femalelit','malelit'])"
   ]
  },
  {
   "cell_type": "code",
   "execution_count": 27,
   "metadata": {},
   "outputs": [
    {
     "data": {
      "text/plain": [
       "(0.95848372352395417, 2.998507103542602e-312)"
      ]
     },
     "execution_count": 27,
     "metadata": {},
     "output_type": "execute_result"
    }
   ],
   "source": [
    "#Pearson's R Statistic\n",
    "scipy.stats.pearsonr(lit.femalelit, lit.malelit)"
   ]
  },
  {
   "cell_type": "markdown",
   "metadata": {},
   "source": [
    "## Female and male Lit are highly correlated, so maybe just look at overall lit?"
   ]
  },
  {
   "cell_type": "code",
   "execution_count": 30,
   "metadata": {
    "collapsed": true
   },
   "outputs": [],
   "source": [
    "#create small df with only \n",
    "litbc = focus.dropna(subset= ['lit','bc'])"
   ]
  },
  {
   "cell_type": "code",
   "execution_count": 31,
   "metadata": {},
   "outputs": [
    {
     "data": {
      "text/plain": [
       "(0.68466893409644536, 2.8408984711188049e-20)"
      ]
     },
     "execution_count": 31,
     "metadata": {},
     "output_type": "execute_result"
    }
   ],
   "source": [
    "#Pearson's R Statistic\n",
    "scipy.stats.pearsonr(litbc.lit, litbc.bc)"
   ]
  },
  {
   "cell_type": "code",
   "execution_count": 32,
   "metadata": {
    "collapsed": true
   },
   "outputs": [],
   "source": [
    "#create small df with only \n",
    "litmat = focus.dropna(subset= ['lit','matdeath'])"
   ]
  },
  {
   "cell_type": "code",
   "execution_count": 34,
   "metadata": {},
   "outputs": [
    {
     "data": {
      "text/plain": [
       "(-0.72054209307625705, 7.1877777926508144e-78)"
      ]
     },
     "execution_count": 34,
     "metadata": {},
     "output_type": "execute_result"
    }
   ],
   "source": [
    "#Pearson's R Statistic\n",
    "scipy.stats.pearsonr(litmat.lit, litmat.matdeath)"
   ]
  },
  {
   "cell_type": "code",
   "execution_count": null,
   "metadata": {
    "collapsed": true
   },
   "outputs": [],
   "source": []
  },
  {
   "cell_type": "code",
   "execution_count": 37,
   "metadata": {
    "collapsed": true
   },
   "outputs": [],
   "source": [
    "#create small df with only \n",
    "bd = focus.dropna(subset= ['bach','fembach'])"
   ]
  },
  {
   "cell_type": "code",
   "execution_count": 38,
   "metadata": {},
   "outputs": [
    {
     "data": {
      "text/plain": [
       "(0.96960759186938761, 0.0)"
      ]
     },
     "execution_count": 38,
     "metadata": {},
     "output_type": "execute_result"
    }
   ],
   "source": [
    "#Pearson's R Statistic\n",
    "scipy.stats.pearsonr(bd.bach, bd.fembach)"
   ]
  },
  {
   "cell_type": "code",
   "execution_count": 40,
   "metadata": {
    "collapsed": true
   },
   "outputs": [],
   "source": [
    "#create small df with only \n",
    "bbc = focus.dropna(subset= ['bach','bc'])"
   ]
  },
  {
   "cell_type": "code",
   "execution_count": 41,
   "metadata": {},
   "outputs": [
    {
     "data": {
      "text/plain": [
       "(0.51153829292854502, 2.5696189724395469e-07)"
      ]
     },
     "execution_count": 41,
     "metadata": {},
     "output_type": "execute_result"
    }
   ],
   "source": [
    "#Pearson's R Statistic\n",
    "scipy.stats.pearsonr(bbc.bach, bbc.bc)"
   ]
  },
  {
   "cell_type": "code",
   "execution_count": 42,
   "metadata": {
    "collapsed": true
   },
   "outputs": [],
   "source": [
    "#create small df with only \n",
    "fbbc = focus.dropna(subset= ['fembach','bc'])"
   ]
  },
  {
   "cell_type": "code",
   "execution_count": 43,
   "metadata": {},
   "outputs": [
    {
     "data": {
      "text/plain": [
       "(0.49327628649141292, 7.8264406043178403e-07)"
      ]
     },
     "execution_count": 43,
     "metadata": {},
     "output_type": "execute_result"
    }
   ],
   "source": [
    "#Pearson's R Statistic\n",
    "scipy.stats.pearsonr(fbbc.fembach, fbbc.bc)"
   ]
  },
  {
   "cell_type": "markdown",
   "metadata": {},
   "source": [
    "### Use overall Bachelors degree earnings vs female earnings"
   ]
  },
  {
   "cell_type": "code",
   "execution_count": 45,
   "metadata": {
    "collapsed": true
   },
   "outputs": [],
   "source": [
    "#create small df with only \n",
    "edu = focus.dropna(subset= ['youthlit','bach'])"
   ]
  },
  {
   "cell_type": "code",
   "execution_count": 46,
   "metadata": {},
   "outputs": [
    {
     "data": {
      "text/plain": [
       "(0.36183139699915134, 1.4842938511097737e-09)"
      ]
     },
     "execution_count": 46,
     "metadata": {},
     "output_type": "execute_result"
    }
   ],
   "source": [
    "#Pearson's R Statistic\n",
    "scipy.stats.pearsonr(edu.bach, edu.youthlit)"
   ]
  },
  {
   "cell_type": "markdown",
   "metadata": {},
   "source": [
    "### Literacy and Bachelors degree earning are NOT collinear"
   ]
  },
  {
   "cell_type": "code",
   "execution_count": 49,
   "metadata": {
    "collapsed": true
   },
   "outputs": [],
   "source": [
    "#create small df with only \n",
    "sch = focus.dropna(subset= ['malesomeschool','bach'])"
   ]
  },
  {
   "cell_type": "code",
   "execution_count": 50,
   "metadata": {},
   "outputs": [
    {
     "data": {
      "text/plain": [
       "(0.61543316077909582, 2.4988673363309432e-61)"
      ]
     },
     "execution_count": 50,
     "metadata": {},
     "output_type": "execute_result"
    }
   ],
   "source": [
    "#Pearson's R Statistic\n",
    "scipy.stats.pearsonr(sch.bach, sch.malesomeschool)"
   ]
  },
  {
   "cell_type": "markdown",
   "metadata": {},
   "source": [
    "### No School and Literacy rate are fairly highly negatively correlated. Are they collinear?"
   ]
  },
  {
   "cell_type": "code",
   "execution_count": 54,
   "metadata": {},
   "outputs": [],
   "source": [
    "#create small df with only \n",
    "nolit = focus.dropna(subset= ['lit','noschool'])"
   ]
  },
  {
   "cell_type": "code",
   "execution_count": 55,
   "metadata": {},
   "outputs": [
    {
     "data": {
      "text/plain": [
       "(-0.86502890538415456, 5.948010624119447e-82)"
      ]
     },
     "execution_count": 55,
     "metadata": {},
     "output_type": "execute_result"
    }
   ],
   "source": [
    "#Pearson's R Statistic\n",
    "scipy.stats.pearsonr(nolit.lit, nolit.noschool)"
   ]
  },
  {
   "cell_type": "markdown",
   "metadata": {},
   "source": [
    "### Include Bachelor degree achievement?"
   ]
  },
  {
   "cell_type": "code",
   "execution_count": 56,
   "metadata": {
    "collapsed": true
   },
   "outputs": [],
   "source": [
    "#create small df with only \n",
    "bachspend = focus.dropna(subset= ['bach','eduspend'])"
   ]
  },
  {
   "cell_type": "code",
   "execution_count": 57,
   "metadata": {},
   "outputs": [
    {
     "data": {
      "text/plain": [
       "(0.25741730437003979, 1.0123294922572891e-07)"
      ]
     },
     "execution_count": 57,
     "metadata": {},
     "output_type": "execute_result"
    }
   ],
   "source": [
    "#Pearson's R Statistic\n",
    "scipy.stats.pearsonr(bachspend.bach, bachspend.eduspend)"
   ]
  },
  {
   "cell_type": "code",
   "execution_count": 58,
   "metadata": {
    "collapsed": true
   },
   "outputs": [],
   "source": [
    "#create small df with only \n",
    "nobach = focus.dropna(subset= ['bach','noschool'])"
   ]
  },
  {
   "cell_type": "code",
   "execution_count": 59,
   "metadata": {},
   "outputs": [
    {
     "data": {
      "text/plain": [
       "(-0.43600360694765422, 1.0813086523474163e-23)"
      ]
     },
     "execution_count": 59,
     "metadata": {},
     "output_type": "execute_result"
    }
   ],
   "source": [
    "#Pearson's R Statistic\n",
    "scipy.stats.pearsonr(nobach.bach, nobach.noschool)"
   ]
  },
  {
   "cell_type": "code",
   "execution_count": 61,
   "metadata": {
    "collapsed": true
   },
   "outputs": [],
   "source": [
    "#create small df with only \n",
    "bcbach = focus.dropna(subset= ['bach','bc'])"
   ]
  },
  {
   "cell_type": "code",
   "execution_count": 62,
   "metadata": {},
   "outputs": [
    {
     "data": {
      "text/plain": [
       "(0.51153829292854502, 2.5696189724395469e-07)"
      ]
     },
     "execution_count": 62,
     "metadata": {},
     "output_type": "execute_result"
    }
   ],
   "source": [
    "#Pearson's R Statistic\n",
    "scipy.stats.pearsonr(bcbach.bach, bcbach.bc)"
   ]
  },
  {
   "cell_type": "markdown",
   "metadata": {},
   "source": [
    "## No"
   ]
  },
  {
   "cell_type": "code",
   "execution_count": 63,
   "metadata": {
    "collapsed": true
   },
   "outputs": [],
   "source": [
    "#create small df with only \n",
    "bachlegis = focus.dropna(subset= ['bach','legis'])"
   ]
  },
  {
   "cell_type": "code",
   "execution_count": 64,
   "metadata": {},
   "outputs": [
    {
     "data": {
      "text/plain": [
       "(0.2294480803489963, 2.7199802340949764e-05)"
      ]
     },
     "execution_count": 64,
     "metadata": {},
     "output_type": "execute_result"
    }
   ],
   "source": [
    "#Pearson's R Statistic\n",
    "scipy.stats.pearsonr(bachlegis.bach, bachlegis.legis)"
   ]
  },
  {
   "cell_type": "markdown",
   "metadata": {},
   "source": [
    "## Bachelor degree achievement is not highly correlated with Female legislators, managers etc"
   ]
  },
  {
   "cell_type": "code",
   "execution_count": null,
   "metadata": {
    "collapsed": true
   },
   "outputs": [],
   "source": []
  },
  {
   "cell_type": "code",
   "execution_count": null,
   "metadata": {
    "collapsed": true
   },
   "outputs": [],
   "source": [
    "#create small df with only \n",
    "maleabuse = focus.dropna(subset= ['malesomeschool','abuse'])"
   ]
  },
  {
   "cell_type": "code",
   "execution_count": 66,
   "metadata": {},
   "outputs": [
    {
     "data": {
      "text/plain": [
       "(-0.6662345041279264, 0.00014838047970525351)"
      ]
     },
     "execution_count": 66,
     "metadata": {},
     "output_type": "execute_result"
    }
   ],
   "source": [
    "#Pearson's R Statistic\n",
    "scipy.stats.pearsonr(maleabuse.malesomeschool, maleabuse.abuse)"
   ]
  },
  {
   "cell_type": "markdown",
   "metadata": {},
   "source": [
    "### Male Some school seems redundant with No school"
   ]
  },
  {
   "cell_type": "code",
   "execution_count": 67,
   "metadata": {
    "collapsed": true
   },
   "outputs": [],
   "source": [
    "#create small df with only \n",
    "bcabuse = focus.dropna(subset= ['bc','abuse'])"
   ]
  },
  {
   "cell_type": "code",
   "execution_count": 68,
   "metadata": {},
   "outputs": [
    {
     "data": {
      "text/plain": [
       "(-0.38829324863935871, 0.0033960907138041382)"
      ]
     },
     "execution_count": 68,
     "metadata": {},
     "output_type": "execute_result"
    }
   ],
   "source": [
    "#Pearson's R Statistic\n",
    "scipy.stats.pearsonr(bcabuse.bc, bcabuse.abuse)"
   ]
  },
  {
   "cell_type": "code",
   "execution_count": null,
   "metadata": {
    "collapsed": true
   },
   "outputs": [],
   "source": []
  }
 ],
 "metadata": {
  "kernelspec": {
   "display_name": "Python 2",
   "language": "python",
   "name": "python2"
  },
  "language_info": {
   "codemirror_mode": {
    "name": "ipython",
    "version": 2
   },
   "file_extension": ".py",
   "mimetype": "text/x-python",
   "name": "python",
   "nbconvert_exporter": "python",
   "pygments_lexer": "ipython2",
   "version": "2.7.13"
  }
 },
 "nbformat": 4,
 "nbformat_minor": 2
}
