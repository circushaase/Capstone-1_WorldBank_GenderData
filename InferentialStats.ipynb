{
 "cells": [
  {
   "cell_type": "markdown",
   "metadata": {},
   "source": [
    "# Inferential Stats Exploration"
   ]
  },
  {
   "cell_type": "code",
   "execution_count": 23,
   "metadata": {},
   "outputs": [
    {
     "name": "stdout",
     "output_type": "stream",
     "text": [
      "Populating the interactive namespace from numpy and matplotlib\n"
     ]
    }
   ],
   "source": [
    "import pandas as pd\n",
    "import numpy as np\n",
    "import matplotlib.pyplot as plt\n",
    "import bokeh.plotting as bkp\n",
    "from mpl_toolkits.axes_grid1 import make_axes_locatable\n",
    "import scipy\n",
    "from scipy import stats\n",
    "import statsmodels\n",
    "import statsmodels.stats.weightstats\n",
    "import statsmodels.formula.api as smf\n",
    "import seaborn as sns\n",
    "import posthocs as ph\n",
    "from sklearn import preprocessing as pp\n",
    "from sklearn import linear_model as lm\n",
    "from fancyimpute import MICE\n",
    "\n",
    "%pylab inline\n",
    "\n",
    "#wrangled data imported into a pandas dataframe\n",
    "df = pd.read_csv('~/Documents/Repository/Capstone-1_WorldBank_GenderData/wrangled_data.csv')"
   ]
  },
  {
   "cell_type": "code",
   "execution_count": 24,
   "metadata": {
    "collapsed": true
   },
   "outputs": [],
   "source": [
    "#create a new df with fewer variables to build models with\n",
    "focus = pd.DataFrame()\n",
    "focus['life'] = df['Life expectancy at birth, total (years)']\n",
    "focus['bc'] = df['Contraceptive prevalence, any methods (% of women ages 15-49)']\n",
    "focus['matdeath'] = df['Maternal mortality ratio (modeled estimate, per 100,000 live births)']\n",
    "focus['teen'] = df['Adolescent fertility rate (births per 1,000 women ages 15-19)']\n",
    "#focus['abuse'] = df['Proportion of women subjected to physical and/or sexual violence in the last 12 months (% of women age 15-49)']\n",
    "\n",
    "focus['gdp'] = df['GDP per capita (Current US$)']\n",
    "#focus['legis'] = df['Female legislators, senior officials and managers (% of total)']\n",
    "focus['healthspend'] = df['Health expenditure, public (% of GDP)']\n",
    "#focus['wifehealth'] = df['Decision maker about a woman\\'s own health care: mainly wife (% of women age 15-49)']\n",
    "#focus['hushealth'] = df['Decision maker about a woman\\'s own health care: mainly husband (% of women age 15-49)']\n",
    "#focus['bothhealth'] = df['Decision maker about a woman\\'s own health care: wife and husband jointly (% of women age 15-49)']\n",
    "\n",
    "focus['eduspend'] = df['Public spending on education, total (% of GDP)']\n",
    "#focus['lit'] = df['Literacy rate, youth (ages 15-24), gender parity index (GPI)']\n",
    "#focus['noschool'] = df['Educational attainment, no schooling, population 25+ years, total (%)']\n",
    "#focus['bach'] = df['Educational attainment, completed Bachelor\\'s or equivalent, population 25+ years, total (%)']\n",
    "\n",
    "focus.to_csv('finalvars.csv')"
   ]
  },
  {
   "cell_type": "code",
   "execution_count": 18,
   "metadata": {
    "collapsed": true
   },
   "outputs": [
    {
     "name": "stdout",
     "output_type": "stream",
     "text": [
      "bc\n",
      "        life  matdeath      teen       gdp  healthspend  eduspend\n",
      "10  0.467943  0.219494  0.450212  0.004822     0.214419  0.276804\n",
      "11  0.476183  0.201360  0.422924  0.005378     0.142159  0.241864\n",
      "15  0.820981  0.015111  0.079746  0.011247     0.158779  0.175740\n",
      "17  0.841356  0.012845  0.079571  0.014194     0.158584  0.156729\n",
      "20  0.862745  0.010200  0.077814  0.027509     0.200539  0.171761\n",
      "life\n",
      "          bc  matdeath      teen       gdp  healthspend  eduspend\n",
      "10  0.190840  0.219494  0.450212  0.004822     0.214419  0.276804\n",
      "11  0.184297  0.201360  0.422924  0.005378     0.142159  0.241864\n",
      "15  0.580153  0.015111  0.079746  0.011247     0.158779  0.175740\n",
      "17  0.772083  0.012845  0.079571  0.014194     0.158584  0.156729\n",
      "20  0.608506  0.010200  0.077814  0.027509     0.200539  0.171761\n",
      "matdeath\n",
      "        life        bc      teen       gdp  healthspend  eduspend\n",
      "10  0.467943  0.190840  0.450212  0.004822     0.214419  0.276804\n",
      "11  0.476183  0.184297  0.422924  0.005378     0.142159  0.241864\n",
      "15  0.820981  0.580153  0.079746  0.011247     0.158779  0.175740\n",
      "17  0.841356  0.772083  0.079571  0.014194     0.158584  0.156729\n",
      "20  0.862745  0.608506  0.077814  0.027509     0.200539  0.171761\n",
      "teen\n",
      "        life        bc  matdeath       gdp  healthspend  eduspend\n",
      "10  0.467943  0.190840  0.219494  0.004822     0.214419  0.276804\n",
      "11  0.476183  0.184297  0.201360  0.005378     0.142159  0.241864\n",
      "15  0.820981  0.580153  0.015111  0.011247     0.158779  0.175740\n",
      "17  0.841356  0.772083  0.012845  0.014194     0.158584  0.156729\n",
      "20  0.862745  0.608506  0.010200  0.027509     0.200539  0.171761\n"
     ]
    },
    {
     "data": {
      "text/plain": [
       "0.61232923942648076"
      ]
     },
     "execution_count": 18,
     "metadata": {},
     "output_type": "execute_result"
    }
   ],
   "source": [
    "#change scale of data to range of 0 to 1\n",
    "focdrop= focus.copy().dropna()\n",
    "scaler = pp.MinMaxScaler()\n",
    "scale = pd.DataFrame(scaler.fit_transform(focdrop), columns= focdrop.columns, index = focdrop.index)\n",
    "#Set up IV matrix and DV array to test model accuracy\n",
    "dv = ['bc', 'life', 'matdeath', 'teen']\n",
    "for var in dv:\n",
    "    print(var)\n",
    "    y = pd.DataFrame()\n",
    "    y = scale[var]\n",
    "    X = scale.copy()\n",
    "    del X[var]\n",
    "    print(X.head())\n",
    "\n",
    "sgdr = lm.SGDRegressor(n_iter=1000)  # or any sklearn regressor that you like\n",
    "sgdr.fit(X,y)\n",
    "sgdr.score(X, y)"
   ]
  },
  {
   "cell_type": "code",
   "execution_count": 19,
   "metadata": {},
   "outputs": [
    {
     "data": {
      "text/plain": [
       "array([-0.29899676, -0.09511517,  0.50963904, -0.17926297,  0.08215957,\n",
       "       -0.13425141])"
      ]
     },
     "execution_count": 19,
     "metadata": {},
     "output_type": "execute_result"
    }
   ],
   "source": [
    "sgdr.coef_"
   ]
  },
  {
   "cell_type": "code",
   "execution_count": 20,
   "metadata": {},
   "outputs": [
    {
     "data": {
      "text/plain": [
       "(368, 6)"
      ]
     },
     "execution_count": 20,
     "metadata": {},
     "output_type": "execute_result"
    }
   ],
   "source": [
    "X.shape"
   ]
  },
  {
   "cell_type": "code",
   "execution_count": 21,
   "metadata": {},
   "outputs": [
    {
     "data": {
      "text/plain": [
       "life            246\n",
       "gdp             301\n",
       "teen            345\n",
       "healthspend     422\n",
       "matdeath        510\n",
       "eduspend       1845\n",
       "bc             3306\n",
       "dtype: int64"
      ]
     },
     "execution_count": 21,
     "metadata": {},
     "output_type": "execute_result"
    }
   ],
   "source": [
    "focus.isnull().sum().sort_values()"
   ]
  },
  {
   "cell_type": "code",
   "execution_count": null,
   "metadata": {
    "collapsed": true
   },
   "outputs": [],
   "source": [
    "''' Contraceptive Use only has about 600 values. To find which variables correlate most, \n",
    "do a for loop comparing each variable, one at a time to BC, \n",
    "doing dropna and see what df has the most rows.\n",
    "Then maybe add a third variable to the df with highest # of rows\n",
    "'''"
   ]
  },
  {
   "cell_type": "code",
   "execution_count": 22,
   "metadata": {},
   "outputs": [
    {
     "name": "stdout",
     "output_type": "stream",
     "text": [
      "bc      629\n",
      "life    629\n",
      "dtype: int64\n",
      "bc          624\n",
      "matdeath    624\n",
      "dtype: int64\n",
      "bc      628\n",
      "teen    628\n",
      "dtype: int64\n",
      "bc     623\n",
      "gdp    623\n",
      "dtype: int64\n",
      "bc             622\n",
      "healthspend    622\n",
      "dtype: int64\n",
      "bc          373\n",
      "eduspend    373\n",
      "dtype: int64\n"
     ]
    }
   ],
   "source": [
    "dv = ['life', 'matdeath', 'teen', 'gdp', 'healthspend', 'eduspend']\n",
    "for var in dv:\n",
    "    compare = pd.DataFrame()\n",
    "    compare['bc'] = focus['bc']\n",
    "    compare[var]= focus[var]\n",
    "    compare = compare.dropna()\n",
    "    print compare.count()"
   ]
  },
  {
   "cell_type": "code",
   "execution_count": null,
   "metadata": {
    "collapsed": true
   },
   "outputs": [],
   "source": []
  },
  {
   "cell_type": "code",
   "execution_count": 63,
   "metadata": {},
   "outputs": [
    {
     "data": {
      "text/plain": [
       "0.557514119257565"
      ]
     },
     "execution_count": 63,
     "metadata": {},
     "output_type": "execute_result"
    }
   ],
   "source": [
    "bclife = pd.DataFrame()\n",
    "bclife['bc'] = focus['bc']\n",
    "bclife['life'] = focus['life']\n",
    "bclife = bclife.dropna()\n",
    "blmodel = lm.SGDRegressor(n_iter=100000, eta0=.001)\n",
    "blmodel.fit(bclife[['bc']], bclife.life)\n",
    "blmodel.score(bclife[['bc']], bclife.life)"
   ]
  },
  {
   "cell_type": "code",
   "execution_count": 64,
   "metadata": {
    "collapsed": true
   },
   "outputs": [
    {
     "name": "stdout",
     "output_type": "stream",
     "text": [
      "Help on method score in module sklearn.base:\n",
      "\n",
      "score(self, X, y, sample_weight=None) method of sklearn.linear_model.stochastic_gradient.SGDRegressor instance\n",
      "    Returns the coefficient of determination R^2 of the prediction.\n",
      "    \n",
      "    The coefficient R^2 is defined as (1 - u/v), where u is the regression\n",
      "    sum of squares ((y_true - y_pred) ** 2).sum() and v is the residual\n",
      "    sum of squares ((y_true - y_true.mean()) ** 2).sum().\n",
      "    Best possible score is 1.0 and it can be negative (because the\n",
      "    model can be arbitrarily worse). A constant model that always\n",
      "    predicts the expected value of y, disregarding the input features,\n",
      "    would get a R^2 score of 0.0.\n",
      "    \n",
      "    Parameters\n",
      "    ----------\n",
      "    X : array-like, shape = (n_samples, n_features)\n",
      "        Test samples.\n",
      "    \n",
      "    y : array-like, shape = (n_samples) or (n_samples, n_outputs)\n",
      "        True values for X.\n",
      "    \n",
      "    sample_weight : array-like, shape = [n_samples], optional\n",
      "        Sample weights.\n",
      "    \n",
      "    Returns\n",
      "    -------\n",
      "    score : float\n",
      "        R^2 of self.predict(X) wrt. y.\n",
      "\n"
     ]
    }
   ],
   "source": [
    "help(blmodel.score)"
   ]
  },
  {
   "cell_type": "code",
   "execution_count": null,
   "metadata": {
    "collapsed": true
   },
   "outputs": [],
   "source": []
  },
  {
   "cell_type": "code",
   "execution_count": 25,
   "metadata": {},
   "outputs": [
    {
     "name": "stdout",
     "output_type": "stream",
     "text": [
      "[MICE] Completing matrix with shape (3945, 7)\n",
      "[MICE] Starting imputation round 1/110, elapsed time 0.001\n",
      "[MICE] Starting imputation round 2/110, elapsed time 0.036\n",
      "[MICE] Starting imputation round 3/110, elapsed time 0.043\n",
      "[MICE] Starting imputation round 4/110, elapsed time 0.051\n",
      "[MICE] Starting imputation round 5/110, elapsed time 0.058\n",
      "[MICE] Starting imputation round 6/110, elapsed time 0.066\n",
      "[MICE] Starting imputation round 7/110, elapsed time 0.072\n",
      "[MICE] Starting imputation round 8/110, elapsed time 0.079\n",
      "[MICE] Starting imputation round 9/110, elapsed time 0.086\n",
      "[MICE] Starting imputation round 10/110, elapsed time 0.094\n",
      "[MICE] Starting imputation round 11/110, elapsed time 0.102\n",
      "[MICE] Starting imputation round 12/110, elapsed time 0.109\n",
      "[MICE] Starting imputation round 13/110, elapsed time 0.117\n",
      "[MICE] Starting imputation round 14/110, elapsed time 0.177\n",
      "[MICE] Starting imputation round 15/110, elapsed time 0.201\n",
      "[MICE] Starting imputation round 16/110, elapsed time 0.267\n",
      "[MICE] Starting imputation round 17/110, elapsed time 0.303\n",
      "[MICE] Starting imputation round 18/110, elapsed time 0.336\n",
      "[MICE] Starting imputation round 19/110, elapsed time 0.353\n",
      "[MICE] Starting imputation round 20/110, elapsed time 0.371\n",
      "[MICE] Starting imputation round 21/110, elapsed time 0.380\n",
      "[MICE] Starting imputation round 22/110, elapsed time 0.398\n",
      "[MICE] Starting imputation round 23/110, elapsed time 0.418\n",
      "[MICE] Starting imputation round 24/110, elapsed time 0.425\n",
      "[MICE] Starting imputation round 25/110, elapsed time 0.433\n",
      "[MICE] Starting imputation round 26/110, elapsed time 0.440\n",
      "[MICE] Starting imputation round 27/110, elapsed time 0.446\n",
      "[MICE] Starting imputation round 28/110, elapsed time 0.453\n",
      "[MICE] Starting imputation round 29/110, elapsed time 0.460\n",
      "[MICE] Starting imputation round 30/110, elapsed time 0.467\n",
      "[MICE] Starting imputation round 31/110, elapsed time 0.543\n",
      "[MICE] Starting imputation round 32/110, elapsed time 0.554\n",
      "[MICE] Starting imputation round 33/110, elapsed time 0.585\n",
      "[MICE] Starting imputation round 34/110, elapsed time 0.596\n",
      "[MICE] Starting imputation round 35/110, elapsed time 0.603\n",
      "[MICE] Starting imputation round 36/110, elapsed time 0.610\n",
      "[MICE] Starting imputation round 37/110, elapsed time 0.617\n",
      "[MICE] Starting imputation round 38/110, elapsed time 0.623\n",
      "[MICE] Starting imputation round 39/110, elapsed time 0.630\n",
      "[MICE] Starting imputation round 40/110, elapsed time 0.637\n",
      "[MICE] Starting imputation round 41/110, elapsed time 0.644\n",
      "[MICE] Starting imputation round 42/110, elapsed time 0.650\n",
      "[MICE] Starting imputation round 43/110, elapsed time 0.657\n",
      "[MICE] Starting imputation round 44/110, elapsed time 0.663\n",
      "[MICE] Starting imputation round 45/110, elapsed time 0.684\n",
      "[MICE] Starting imputation round 46/110, elapsed time 0.707\n",
      "[MICE] Starting imputation round 47/110, elapsed time 0.756\n",
      "[MICE] Starting imputation round 48/110, elapsed time 0.786\n",
      "[MICE] Starting imputation round 49/110, elapsed time 0.804\n",
      "[MICE] Starting imputation round 50/110, elapsed time 0.864\n",
      "[MICE] Starting imputation round 51/110, elapsed time 0.873\n",
      "[MICE] Starting imputation round 52/110, elapsed time 0.882\n",
      "[MICE] Starting imputation round 53/110, elapsed time 0.903\n",
      "[MICE] Starting imputation round 54/110, elapsed time 0.949\n",
      "[MICE] Starting imputation round 55/110, elapsed time 0.956\n",
      "[MICE] Starting imputation round 56/110, elapsed time 0.977\n",
      "[MICE] Starting imputation round 57/110, elapsed time 1.019\n",
      "[MICE] Starting imputation round 58/110, elapsed time 1.046\n",
      "[MICE] Starting imputation round 59/110, elapsed time 1.056\n",
      "[MICE] Starting imputation round 60/110, elapsed time 1.154\n",
      "[MICE] Starting imputation round 61/110, elapsed time 1.203\n",
      "[MICE] Starting imputation round 62/110, elapsed time 1.232\n",
      "[MICE] Starting imputation round 63/110, elapsed time 1.265\n",
      "[MICE] Starting imputation round 64/110, elapsed time 1.273\n",
      "[MICE] Starting imputation round 65/110, elapsed time 1.282\n",
      "[MICE] Starting imputation round 66/110, elapsed time 1.290\n",
      "[MICE] Starting imputation round 67/110, elapsed time 1.297\n",
      "[MICE] Starting imputation round 68/110, elapsed time 1.305\n",
      "[MICE] Starting imputation round 69/110, elapsed time 1.315\n",
      "[MICE] Starting imputation round 70/110, elapsed time 1.325\n",
      "[MICE] Starting imputation round 71/110, elapsed time 1.334\n",
      "[MICE] Starting imputation round 72/110, elapsed time 1.347\n",
      "[MICE] Starting imputation round 73/110, elapsed time 1.395\n",
      "[MICE] Starting imputation round 74/110, elapsed time 1.439\n",
      "[MICE] Starting imputation round 75/110, elapsed time 1.465\n",
      "[MICE] Starting imputation round 76/110, elapsed time 1.485\n",
      "[MICE] Starting imputation round 77/110, elapsed time 1.493\n",
      "[MICE] Starting imputation round 78/110, elapsed time 1.501\n",
      "[MICE] Starting imputation round 79/110, elapsed time 1.511\n",
      "[MICE] Starting imputation round 80/110, elapsed time 1.520\n",
      "[MICE] Starting imputation round 81/110, elapsed time 1.529\n",
      "[MICE] Starting imputation round 82/110, elapsed time 1.538\n",
      "[MICE] Starting imputation round 83/110, elapsed time 1.547\n",
      "[MICE] Starting imputation round 84/110, elapsed time 1.556\n",
      "[MICE] Starting imputation round 85/110, elapsed time 1.567\n",
      "[MICE] Starting imputation round 86/110, elapsed time 1.578\n",
      "[MICE] Starting imputation round 87/110, elapsed time 1.585\n",
      "[MICE] Starting imputation round 88/110, elapsed time 1.591\n",
      "[MICE] Starting imputation round 89/110, elapsed time 1.626\n",
      "[MICE] Starting imputation round 90/110, elapsed time 1.668\n",
      "[MICE] Starting imputation round 91/110, elapsed time 1.694\n",
      "[MICE] Starting imputation round 92/110, elapsed time 1.710\n",
      "[MICE] Starting imputation round 93/110, elapsed time 1.717\n",
      "[MICE] Starting imputation round 94/110, elapsed time 1.723\n",
      "[MICE] Starting imputation round 95/110, elapsed time 1.730\n",
      "[MICE] Starting imputation round 96/110, elapsed time 1.738\n",
      "[MICE] Starting imputation round 97/110, elapsed time 1.747\n",
      "[MICE] Starting imputation round 98/110, elapsed time 1.756\n",
      "[MICE] Starting imputation round 99/110, elapsed time 1.766\n",
      "[MICE] Starting imputation round 100/110, elapsed time 1.775\n",
      "[MICE] Starting imputation round 101/110, elapsed time 1.784\n",
      "[MICE] Starting imputation round 102/110, elapsed time 1.793\n",
      "[MICE] Starting imputation round 103/110, elapsed time 1.802\n",
      "[MICE] Starting imputation round 104/110, elapsed time 1.816\n",
      "[MICE] Starting imputation round 105/110, elapsed time 1.825\n",
      "[MICE] Starting imputation round 106/110, elapsed time 1.860\n",
      "[MICE] Starting imputation round 107/110, elapsed time 1.911\n",
      "[MICE] Starting imputation round 108/110, elapsed time 1.933\n",
      "[MICE] Starting imputation round 109/110, elapsed time 1.954\n",
      "[MICE] Starting imputation round 110/110, elapsed time 1.963\n"
     ]
    },
    {
     "ename": "ValueError",
     "evalue": "shape mismatch: value array of shape (6975,) could not be broadcast to indexing result of shape (6975,7)",
     "output_type": "error",
     "traceback": [
      "\u001b[0;31m---------------------------------------------------------------------------\u001b[0m",
      "\u001b[0;31mValueError\u001b[0m                                Traceback (most recent call last)",
      "\u001b[0;32m<ipython-input-25-f1b4c430afdf>\u001b[0m in \u001b[0;36m<module>\u001b[0;34m()\u001b[0m\n\u001b[0;32m----> 1\u001b[0;31m \u001b[0mmicefilled\u001b[0m \u001b[0;34m=\u001b[0m \u001b[0mMICE\u001b[0m\u001b[0;34m(\u001b[0m\u001b[0;34m)\u001b[0m\u001b[0;34m.\u001b[0m\u001b[0mcomplete\u001b[0m\u001b[0;34m(\u001b[0m\u001b[0mfocus\u001b[0m\u001b[0;34m)\u001b[0m\u001b[0;34m\u001b[0m\u001b[0m\n\u001b[0m",
      "\u001b[0;32m/home/lara/anaconda2/lib/python2.7/site-packages/fancyimpute/mice.pyc\u001b[0m in \u001b[0;36mcomplete\u001b[0;34m(self, X)\u001b[0m\n\u001b[1;32m    335\u001b[0m         \u001b[0;31m# average the imputed values for each feature\u001b[0m\u001b[0;34m\u001b[0m\u001b[0;34m\u001b[0m\u001b[0m\n\u001b[1;32m    336\u001b[0m         \u001b[0maverage_imputated_values\u001b[0m \u001b[0;34m=\u001b[0m \u001b[0mimputed_arrays\u001b[0m\u001b[0;34m.\u001b[0m\u001b[0mmean\u001b[0m\u001b[0;34m(\u001b[0m\u001b[0maxis\u001b[0m\u001b[0;34m=\u001b[0m\u001b[0;36m0\u001b[0m\u001b[0;34m)\u001b[0m\u001b[0;34m\u001b[0m\u001b[0m\n\u001b[0;32m--> 337\u001b[0;31m         \u001b[0mX_completed\u001b[0m\u001b[0;34m[\u001b[0m\u001b[0mmissing_mask\u001b[0m\u001b[0;34m]\u001b[0m \u001b[0;34m=\u001b[0m \u001b[0maverage_imputated_values\u001b[0m\u001b[0;34m\u001b[0m\u001b[0m\n\u001b[0m\u001b[1;32m    338\u001b[0m         \u001b[0;32mreturn\u001b[0m \u001b[0mX_completed\u001b[0m\u001b[0;34m\u001b[0m\u001b[0m\n",
      "\u001b[0;32m/home/lara/anaconda2/lib/python2.7/site-packages/pandas/core/frame.pyc\u001b[0m in \u001b[0;36m__setitem__\u001b[0;34m(self, key, value)\u001b[0m\n\u001b[1;32m   2422\u001b[0m \u001b[0;34m\u001b[0m\u001b[0m\n\u001b[1;32m   2423\u001b[0m         \u001b[0;32mif\u001b[0m \u001b[0misinstance\u001b[0m\u001b[0;34m(\u001b[0m\u001b[0mkey\u001b[0m\u001b[0;34m,\u001b[0m \u001b[0;34m(\u001b[0m\u001b[0mSeries\u001b[0m\u001b[0;34m,\u001b[0m \u001b[0mnp\u001b[0m\u001b[0;34m.\u001b[0m\u001b[0mndarray\u001b[0m\u001b[0;34m,\u001b[0m \u001b[0mlist\u001b[0m\u001b[0;34m,\u001b[0m \u001b[0mIndex\u001b[0m\u001b[0;34m)\u001b[0m\u001b[0;34m)\u001b[0m\u001b[0;34m:\u001b[0m\u001b[0;34m\u001b[0m\u001b[0m\n\u001b[0;32m-> 2424\u001b[0;31m             \u001b[0mself\u001b[0m\u001b[0;34m.\u001b[0m\u001b[0m_setitem_array\u001b[0m\u001b[0;34m(\u001b[0m\u001b[0mkey\u001b[0m\u001b[0;34m,\u001b[0m \u001b[0mvalue\u001b[0m\u001b[0;34m)\u001b[0m\u001b[0;34m\u001b[0m\u001b[0m\n\u001b[0m\u001b[1;32m   2425\u001b[0m         \u001b[0;32melif\u001b[0m \u001b[0misinstance\u001b[0m\u001b[0;34m(\u001b[0m\u001b[0mkey\u001b[0m\u001b[0;34m,\u001b[0m \u001b[0mDataFrame\u001b[0m\u001b[0;34m)\u001b[0m\u001b[0;34m:\u001b[0m\u001b[0;34m\u001b[0m\u001b[0m\n\u001b[1;32m   2426\u001b[0m             \u001b[0mself\u001b[0m\u001b[0;34m.\u001b[0m\u001b[0m_setitem_frame\u001b[0m\u001b[0;34m(\u001b[0m\u001b[0mkey\u001b[0m\u001b[0;34m,\u001b[0m \u001b[0mvalue\u001b[0m\u001b[0;34m)\u001b[0m\u001b[0;34m\u001b[0m\u001b[0m\n",
      "\u001b[0;32m/home/lara/anaconda2/lib/python2.7/site-packages/pandas/core/frame.pyc\u001b[0m in \u001b[0;36m_setitem_array\u001b[0;34m(self, key, value)\u001b[0m\n\u001b[1;32m   2442\u001b[0m             \u001b[0mindexer\u001b[0m \u001b[0;34m=\u001b[0m \u001b[0mkey\u001b[0m\u001b[0;34m.\u001b[0m\u001b[0mnonzero\u001b[0m\u001b[0;34m(\u001b[0m\u001b[0;34m)\u001b[0m\u001b[0;34m[\u001b[0m\u001b[0;36m0\u001b[0m\u001b[0;34m]\u001b[0m\u001b[0;34m\u001b[0m\u001b[0m\n\u001b[1;32m   2443\u001b[0m             \u001b[0mself\u001b[0m\u001b[0;34m.\u001b[0m\u001b[0m_check_setitem_copy\u001b[0m\u001b[0;34m(\u001b[0m\u001b[0;34m)\u001b[0m\u001b[0;34m\u001b[0m\u001b[0m\n\u001b[0;32m-> 2444\u001b[0;31m             \u001b[0mself\u001b[0m\u001b[0;34m.\u001b[0m\u001b[0mloc\u001b[0m\u001b[0;34m.\u001b[0m\u001b[0m_setitem_with_indexer\u001b[0m\u001b[0;34m(\u001b[0m\u001b[0mindexer\u001b[0m\u001b[0;34m,\u001b[0m \u001b[0mvalue\u001b[0m\u001b[0;34m)\u001b[0m\u001b[0;34m\u001b[0m\u001b[0m\n\u001b[0m\u001b[1;32m   2445\u001b[0m         \u001b[0;32melse\u001b[0m\u001b[0;34m:\u001b[0m\u001b[0;34m\u001b[0m\u001b[0m\n\u001b[1;32m   2446\u001b[0m             \u001b[0;32mif\u001b[0m \u001b[0misinstance\u001b[0m\u001b[0;34m(\u001b[0m\u001b[0mvalue\u001b[0m\u001b[0;34m,\u001b[0m \u001b[0mDataFrame\u001b[0m\u001b[0;34m)\u001b[0m\u001b[0;34m:\u001b[0m\u001b[0;34m\u001b[0m\u001b[0m\n",
      "\u001b[0;32m/home/lara/anaconda2/lib/python2.7/site-packages/pandas/core/indexing.pyc\u001b[0m in \u001b[0;36m_setitem_with_indexer\u001b[0;34m(self, indexer, value)\u001b[0m\n\u001b[1;32m    617\u001b[0m             \u001b[0mself\u001b[0m\u001b[0;34m.\u001b[0m\u001b[0mobj\u001b[0m\u001b[0;34m.\u001b[0m\u001b[0m_consolidate_inplace\u001b[0m\u001b[0;34m(\u001b[0m\u001b[0;34m)\u001b[0m\u001b[0;34m\u001b[0m\u001b[0m\n\u001b[1;32m    618\u001b[0m             self.obj._data = self.obj._data.setitem(indexer=indexer,\n\u001b[0;32m--> 619\u001b[0;31m                                                     value=value)\n\u001b[0m\u001b[1;32m    620\u001b[0m             \u001b[0mself\u001b[0m\u001b[0;34m.\u001b[0m\u001b[0mobj\u001b[0m\u001b[0;34m.\u001b[0m\u001b[0m_maybe_update_cacher\u001b[0m\u001b[0;34m(\u001b[0m\u001b[0mclear\u001b[0m\u001b[0;34m=\u001b[0m\u001b[0mTrue\u001b[0m\u001b[0;34m)\u001b[0m\u001b[0;34m\u001b[0m\u001b[0m\n\u001b[1;32m    621\u001b[0m \u001b[0;34m\u001b[0m\u001b[0m\n",
      "\u001b[0;32m/home/lara/anaconda2/lib/python2.7/site-packages/pandas/core/internals.pyc\u001b[0m in \u001b[0;36msetitem\u001b[0;34m(self, **kwargs)\u001b[0m\n\u001b[1;32m   3201\u001b[0m \u001b[0;34m\u001b[0m\u001b[0m\n\u001b[1;32m   3202\u001b[0m     \u001b[0;32mdef\u001b[0m \u001b[0msetitem\u001b[0m\u001b[0;34m(\u001b[0m\u001b[0mself\u001b[0m\u001b[0;34m,\u001b[0m \u001b[0;34m**\u001b[0m\u001b[0mkwargs\u001b[0m\u001b[0;34m)\u001b[0m\u001b[0;34m:\u001b[0m\u001b[0;34m\u001b[0m\u001b[0m\n\u001b[0;32m-> 3203\u001b[0;31m         \u001b[0;32mreturn\u001b[0m \u001b[0mself\u001b[0m\u001b[0;34m.\u001b[0m\u001b[0mapply\u001b[0m\u001b[0;34m(\u001b[0m\u001b[0;34m'setitem'\u001b[0m\u001b[0;34m,\u001b[0m \u001b[0;34m**\u001b[0m\u001b[0mkwargs\u001b[0m\u001b[0;34m)\u001b[0m\u001b[0;34m\u001b[0m\u001b[0m\n\u001b[0m\u001b[1;32m   3204\u001b[0m \u001b[0;34m\u001b[0m\u001b[0m\n\u001b[1;32m   3205\u001b[0m     \u001b[0;32mdef\u001b[0m \u001b[0mputmask\u001b[0m\u001b[0;34m(\u001b[0m\u001b[0mself\u001b[0m\u001b[0;34m,\u001b[0m \u001b[0;34m**\u001b[0m\u001b[0mkwargs\u001b[0m\u001b[0;34m)\u001b[0m\u001b[0;34m:\u001b[0m\u001b[0;34m\u001b[0m\u001b[0m\n",
      "\u001b[0;32m/home/lara/anaconda2/lib/python2.7/site-packages/pandas/core/internals.pyc\u001b[0m in \u001b[0;36mapply\u001b[0;34m(self, f, axes, filter, do_integrity_check, consolidate, **kwargs)\u001b[0m\n\u001b[1;32m   3089\u001b[0m \u001b[0;34m\u001b[0m\u001b[0m\n\u001b[1;32m   3090\u001b[0m             \u001b[0mkwargs\u001b[0m\u001b[0;34m[\u001b[0m\u001b[0;34m'mgr'\u001b[0m\u001b[0;34m]\u001b[0m \u001b[0;34m=\u001b[0m \u001b[0mself\u001b[0m\u001b[0;34m\u001b[0m\u001b[0m\n\u001b[0;32m-> 3091\u001b[0;31m             \u001b[0mapplied\u001b[0m \u001b[0;34m=\u001b[0m \u001b[0mgetattr\u001b[0m\u001b[0;34m(\u001b[0m\u001b[0mb\u001b[0m\u001b[0;34m,\u001b[0m \u001b[0mf\u001b[0m\u001b[0;34m)\u001b[0m\u001b[0;34m(\u001b[0m\u001b[0;34m**\u001b[0m\u001b[0mkwargs\u001b[0m\u001b[0;34m)\u001b[0m\u001b[0;34m\u001b[0m\u001b[0m\n\u001b[0m\u001b[1;32m   3092\u001b[0m             \u001b[0mresult_blocks\u001b[0m \u001b[0;34m=\u001b[0m \u001b[0m_extend_blocks\u001b[0m\u001b[0;34m(\u001b[0m\u001b[0mapplied\u001b[0m\u001b[0;34m,\u001b[0m \u001b[0mresult_blocks\u001b[0m\u001b[0;34m)\u001b[0m\u001b[0;34m\u001b[0m\u001b[0m\n\u001b[1;32m   3093\u001b[0m \u001b[0;34m\u001b[0m\u001b[0m\n",
      "\u001b[0;32m/home/lara/anaconda2/lib/python2.7/site-packages/pandas/core/internals.pyc\u001b[0m in \u001b[0;36msetitem\u001b[0;34m(self, indexer, value, mgr)\u001b[0m\n\u001b[1;32m    756\u001b[0m             \u001b[0;31m# set\u001b[0m\u001b[0;34m\u001b[0m\u001b[0;34m\u001b[0m\u001b[0m\n\u001b[1;32m    757\u001b[0m             \u001b[0;32melse\u001b[0m\u001b[0;34m:\u001b[0m\u001b[0;34m\u001b[0m\u001b[0m\n\u001b[0;32m--> 758\u001b[0;31m                 \u001b[0mvalues\u001b[0m\u001b[0;34m[\u001b[0m\u001b[0mindexer\u001b[0m\u001b[0;34m]\u001b[0m \u001b[0;34m=\u001b[0m \u001b[0mvalue\u001b[0m\u001b[0;34m\u001b[0m\u001b[0m\n\u001b[0m\u001b[1;32m    759\u001b[0m \u001b[0;34m\u001b[0m\u001b[0m\n\u001b[1;32m    760\u001b[0m             \u001b[0;31m# coerce and try to infer the dtypes of the result\u001b[0m\u001b[0;34m\u001b[0m\u001b[0;34m\u001b[0m\u001b[0m\n",
      "\u001b[0;31mValueError\u001b[0m: shape mismatch: value array of shape (6975,) could not be broadcast to indexing result of shape (6975,7)"
     ]
    }
   ],
   "source": [
    "micefilled = MICE().complete(focus)"
   ]
  },
  {
   "cell_type": "code",
   "execution_count": null,
   "metadata": {
    "collapsed": true
   },
   "outputs": [],
   "source": []
  },
  {
   "cell_type": "code",
   "execution_count": null,
   "metadata": {
    "collapsed": true
   },
   "outputs": [],
   "source": []
  },
  {
   "cell_type": "code",
   "execution_count": null,
   "metadata": {
    "collapsed": true
   },
   "outputs": [],
   "source": []
  },
  {
   "cell_type": "code",
   "execution_count": null,
   "metadata": {
    "collapsed": true
   },
   "outputs": [],
   "source": []
  },
  {
   "cell_type": "raw",
   "metadata": {},
   "source": [
    "corrmat= focus.corr()\n",
    "sns.heatmap(corrmat, vmax=.8, square=True"
   ]
  },
  {
   "cell_type": "code",
   "execution_count": 68,
   "metadata": {
    "collapsed": true
   },
   "outputs": [],
   "source": [
    "\n",
    "#Needs to be run on bigger df\n",
    "# Kruskal-Wallis H test: Non-parametric\n",
    "#kw = stats.kruskal(focus['bc'],  focus['matdeath'], focus['teen'], focus['gdp'], focus['legis'],focus['healthspend'], focus['wifehealth'], focus['eduspend'], focus['noschool'], focus['lit'], focus['bach'], nan_policy='omit')\n",
    "#kw\n",
    "\n",
    "# Posthoc tests:\n",
    "# https://pypi.python.org/pypi/posthocs/0.2.8\n",
    "# https://github.com/maximtrp/posthocs/blob/master/posthocs/_posthocs.py#L149\n",
    "\n",
    "# https://github.com/gapatino/Doing-frequentist-statistics-with-Scipy/blob/master/PyData%20DC%202016%20-%20Doing%20frequentist%20statistics%20with%20Scipy.ipynb "
   ]
  },
  {
   "cell_type": "code",
   "execution_count": null,
   "metadata": {
    "collapsed": true
   },
   "outputs": [],
   "source": []
  },
  {
   "cell_type": "markdown",
   "metadata": {
    "collapsed": true
   },
   "source": [
    "## Contraceptive Use at the Dependent Variable"
   ]
  },
  {
   "cell_type": "code",
   "execution_count": 70,
   "metadata": {
    "collapsed": true
   },
   "outputs": [],
   "source": [
    "#create a new df with smaller number of variables to run correlations on with Contraceptive Use as the Dependent Variable\n",
    "contra = pd.DataFrame()\n",
    "\n",
    "contra['bc'] = df['Contraceptive prevalence, any methods (% of women ages 15-49)']\n",
    "contra['matdeath'] = df['Maternal mortality ratio (modeled estimate, per 100,000 live births)']\n",
    "contra['teen'] = df['Adolescent fertility rate (births per 1,000 women ages 15-19)']\n",
    "contra['abuse'] = df['Proportion of women subjected to physical and/or sexual violence in the last 12 months (% of women age 15-49)']\n",
    "\n",
    "contra['gdp'] = df['GDP per capita (Current US$)']\n",
    "contra['legis'] = df['Female legislators, senior officials and managers (% of total)']\n",
    "contra['healthspend'] = df['Health expenditure, public (% of GDP)']\n",
    "contra['wifehealth'] = df['Decision maker about a woman\\'s own health care: mainly wife (% of women age 15-49)']\n",
    "contra['hushealth'] = df['Decision maker about a woman\\'s own health care: mainly husband (% of women age 15-49)']\n",
    "contra['bothhealth'] = df['Decision maker about a woman\\'s own health care: wife and husband jointly (% of women age 15-49)']\n",
    "\n",
    "contra['eduspend'] = df['Public spending on education, total (% of GDP)']\n",
    "contra['lit'] = df['Literacy rate, youth (ages 15-24), gender parity index (GPI)']\n"
   ]
  },
  {
   "cell_type": "code",
   "execution_count": null,
   "metadata": {
    "collapsed": true,
    "scrolled": false
   },
   "outputs": [],
   "source": []
  },
  {
   "cell_type": "code",
   "execution_count": 71,
   "metadata": {
    "collapsed": true
   },
   "outputs": [],
   "source": [
    "#Function for a stepwise function\n",
    "#code borrowed from http://planspace.org/20150423-forward_selection_with_statsmodels/\n",
    "def forward_selected(data, response):\n",
    "    \"\"\"Linear model designed by forward selection.\n",
    "\n",
    "    Parameters:\n",
    "    -----------\n",
    "    data : pandas DataFrame with all possible predictors and response\n",
    "\n",
    "    response: string, name of response column in data\n",
    "\n",
    "    Returns:\n",
    "    --------\n",
    "    model: an \"optimal\" fitted statsmodels linear model\n",
    "           with an intercept\n",
    "           selected by forward selection\n",
    "           evaluated by adjusted R-squared\n",
    "    \"\"\"\n",
    "    remaining = set(data.columns)\n",
    "    remaining.remove(response)\n",
    "    selected = []\n",
    "    current_score, best_new_score = 0.0, 0.0\n",
    "    while remaining and current_score == best_new_score:\n",
    "        scores_with_candidates = []\n",
    "        for candidate in remaining:\n",
    "            formula = \"{} ~ {} + 1\".format(response,\n",
    "                                           ' + '.join(selected + [candidate]))\n",
    "            score = smf.ols(formula, data).fit().rsquared_adj\n",
    "            scores_with_candidates.append((score, candidate))\n",
    "        scores_with_candidates.sort()\n",
    "        best_new_score, best_candidate = scores_with_candidates.pop()\n",
    "        if current_score < best_new_score:\n",
    "            remaining.remove(best_candidate)\n",
    "            selected.append(best_candidate)\n",
    "            current_score = best_new_score\n",
    "    formula = \"{} ~ {} + 1\".format(response,\n",
    "                                   ' + '.join(selected))\n",
    "    model = smf.ols(formula, data).fit()\n",
    "    return model"
   ]
  },
  {
   "cell_type": "code",
   "execution_count": 72,
   "metadata": {
    "collapsed": true
   },
   "outputs": [],
   "source": [
    "stepwise= forward_selected(contra.dropna(subset= ['bc']), 'bc')"
   ]
  },
  {
   "cell_type": "code",
   "execution_count": 73,
   "metadata": {},
   "outputs": [
    {
     "data": {
      "text/plain": [
       "'bc ~ matdeath + lit + hushealth + eduspend + gdp + legis + healthspend + 1'"
      ]
     },
     "execution_count": 73,
     "metadata": {},
     "output_type": "execute_result"
    }
   ],
   "source": [
    "stepwise.model.formula"
   ]
  },
  {
   "cell_type": "code",
   "execution_count": 74,
   "metadata": {},
   "outputs": [
    {
     "data": {
      "text/plain": [
       "0.99993919631196881"
      ]
     },
     "execution_count": 74,
     "metadata": {},
     "output_type": "execute_result"
    }
   ],
   "source": [
    "stepwise.rsquared_adj"
   ]
  },
  {
   "cell_type": "code",
   "execution_count": null,
   "metadata": {
    "collapsed": true
   },
   "outputs": [],
   "source": []
  },
  {
   "cell_type": "markdown",
   "metadata": {
    "collapsed": true
   },
   "source": [
    "## Life Expectancy as the Dependent Variable"
   ]
  },
  {
   "cell_type": "code",
   "execution_count": 78,
   "metadata": {
    "collapsed": true
   },
   "outputs": [],
   "source": [
    "lestep= forward_selected(focus.dropna(subset= ['life']), 'life')"
   ]
  },
  {
   "cell_type": "code",
   "execution_count": 79,
   "metadata": {},
   "outputs": [
    {
     "data": {
      "text/plain": [
       "'life ~ matdeath + abuse + gdp + bach + hushealth + 1'"
      ]
     },
     "execution_count": 79,
     "metadata": {},
     "output_type": "execute_result"
    }
   ],
   "source": [
    "lestep.model.formula"
   ]
  },
  {
   "cell_type": "code",
   "execution_count": 80,
   "metadata": {},
   "outputs": [
    {
     "data": {
      "text/plain": [
       "0.99912501143659194"
      ]
     },
     "execution_count": 80,
     "metadata": {},
     "output_type": "execute_result"
    }
   ],
   "source": [
    "lestep.rsquared_adj"
   ]
  },
  {
   "cell_type": "code",
   "execution_count": null,
   "metadata": {
    "collapsed": true
   },
   "outputs": [],
   "source": []
  },
  {
   "cell_type": "markdown",
   "metadata": {},
   "source": [
    "# Teen fertility as DV"
   ]
  },
  {
   "cell_type": "code",
   "execution_count": 81,
   "metadata": {
    "collapsed": true
   },
   "outputs": [],
   "source": [
    "teenstep= forward_selected(focus.dropna(subset= ['teen']), 'teen')"
   ]
  },
  {
   "cell_type": "code",
   "execution_count": 82,
   "metadata": {},
   "outputs": [
    {
     "data": {
      "text/plain": [
       "'teen ~ life + abuse + bach + matdeath + healthspend + 1'"
      ]
     },
     "execution_count": 82,
     "metadata": {},
     "output_type": "execute_result"
    }
   ],
   "source": [
    "teenstep.model.formula"
   ]
  },
  {
   "cell_type": "code",
   "execution_count": 83,
   "metadata": {},
   "outputs": [
    {
     "data": {
      "text/plain": [
       "0.81293176641259668"
      ]
     },
     "execution_count": 83,
     "metadata": {},
     "output_type": "execute_result"
    }
   ],
   "source": [
    "teenstep.rsquared_adj"
   ]
  },
  {
   "cell_type": "code",
   "execution_count": null,
   "metadata": {
    "collapsed": true
   },
   "outputs": [],
   "source": []
  },
  {
   "cell_type": "markdown",
   "metadata": {},
   "source": [
    "## Maternal Death at DV"
   ]
  },
  {
   "cell_type": "code",
   "execution_count": 84,
   "metadata": {
    "collapsed": true
   },
   "outputs": [],
   "source": [
    "matstep= forward_selected(focus.dropna(subset= ['matdeath']), 'matdeath')"
   ]
  },
  {
   "cell_type": "code",
   "execution_count": 85,
   "metadata": {},
   "outputs": [
    {
     "data": {
      "text/plain": [
       "'matdeath ~ life + lit + bc + teen + gdp + bach + 1'"
      ]
     },
     "execution_count": 85,
     "metadata": {},
     "output_type": "execute_result"
    }
   ],
   "source": [
    "matstep.model.formula"
   ]
  },
  {
   "cell_type": "code",
   "execution_count": 86,
   "metadata": {},
   "outputs": [
    {
     "data": {
      "text/plain": [
       "0.8586268302459813"
      ]
     },
     "execution_count": 86,
     "metadata": {},
     "output_type": "execute_result"
    }
   ],
   "source": [
    "matstep.rsquared_adj"
   ]
  },
  {
   "cell_type": "code",
   "execution_count": null,
   "metadata": {
    "collapsed": true
   },
   "outputs": [],
   "source": []
  },
  {
   "cell_type": "markdown",
   "metadata": {},
   "source": [
    "# Abuse as DV"
   ]
  },
  {
   "cell_type": "code",
   "execution_count": 87,
   "metadata": {
    "collapsed": true
   },
   "outputs": [],
   "source": [
    "abusestep= forward_selected(focus.dropna(subset= ['abuse']), 'abuse')"
   ]
  },
  {
   "cell_type": "code",
   "execution_count": 88,
   "metadata": {},
   "outputs": [
    {
     "data": {
      "text/plain": [
       "'abuse ~ life + noschool + bothhealth + 1'"
      ]
     },
     "execution_count": 88,
     "metadata": {},
     "output_type": "execute_result"
    }
   ],
   "source": [
    "abusestep.model.formula"
   ]
  },
  {
   "cell_type": "code",
   "execution_count": 89,
   "metadata": {},
   "outputs": [
    {
     "data": {
      "text/plain": [
       "0.82044094116578159"
      ]
     },
     "execution_count": 89,
     "metadata": {},
     "output_type": "execute_result"
    }
   ],
   "source": [
    "abusestep.rsquared_adj"
   ]
  },
  {
   "cell_type": "code",
   "execution_count": null,
   "metadata": {
    "collapsed": true
   },
   "outputs": [],
   "source": []
  },
  {
   "cell_type": "code",
   "execution_count": null,
   "metadata": {
    "collapsed": true
   },
   "outputs": [],
   "source": []
  },
  {
   "cell_type": "code",
   "execution_count": null,
   "metadata": {
    "collapsed": true
   },
   "outputs": [],
   "source": []
  },
  {
   "cell_type": "code",
   "execution_count": null,
   "metadata": {
    "collapsed": true
   },
   "outputs": [],
   "source": []
  },
  {
   "cell_type": "markdown",
   "metadata": {
    "collapsed": true
   },
   "source": [
    "### The following is initial exploratory stats that may have been misguided and need to be scrapped"
   ]
  },
  {
   "cell_type": "code",
   "execution_count": 90,
   "metadata": {
    "scrolled": true
   },
   "outputs": [
    {
     "data": {
      "text/plain": [
       "Intercept    78.186157\n",
       "teen         -0.169281\n",
       "dtype: float64"
      ]
     },
     "execution_count": 90,
     "metadata": {},
     "output_type": "execute_result"
    }
   ],
   "source": [
    "adole = smf.ols(formula='life ~ teen', data=focus).fit()\n",
    "adole.params"
   ]
  },
  {
   "cell_type": "code",
   "execution_count": 91,
   "metadata": {},
   "outputs": [
    {
     "data": {
      "text/plain": [
       "Intercept    74.567809\n",
       "matdeath     -0.027309\n",
       "dtype: float64"
      ]
     },
     "execution_count": 91,
     "metadata": {},
     "output_type": "execute_result"
    }
   ],
   "source": [
    "momdead = smf.ols(formula='life ~ matdeath', data=focus).fit()\n",
    "momdead.params"
   ]
  },
  {
   "cell_type": "code",
   "execution_count": 92,
   "metadata": {},
   "outputs": [
    {
     "data": {
      "text/plain": [
       "Intercept    65.161661\n",
       "eduspend      0.964530\n",
       "dtype: float64"
      ]
     },
     "execution_count": 92,
     "metadata": {},
     "output_type": "execute_result"
    }
   ],
   "source": [
    "edu = smf.ols(formula='life ~ eduspend', data=focus).fit()\n",
    "edu.params"
   ]
  },
  {
   "cell_type": "code",
   "execution_count": 93,
   "metadata": {},
   "outputs": [
    {
     "data": {
      "text/html": [
       "<table class=\"simpletable\">\n",
       "<caption>OLS Regression Results</caption>\n",
       "<tr>\n",
       "  <th>Dep. Variable:</th>          <td>life</td>       <th>  R-squared:         </th> <td>   0.823</td> \n",
       "</tr>\n",
       "<tr>\n",
       "  <th>Model:</th>                   <td>OLS</td>       <th>  Adj. R-squared:    </th> <td>   0.821</td> \n",
       "</tr>\n",
       "<tr>\n",
       "  <th>Method:</th>             <td>Least Squares</td>  <th>  F-statistic:       </th> <td>   423.8</td> \n",
       "</tr>\n",
       "<tr>\n",
       "  <th>Date:</th>             <td>Wed, 16 Aug 2017</td> <th>  Prob (F-statistic):</th> <td>1.58e-135</td>\n",
       "</tr>\n",
       "<tr>\n",
       "  <th>Time:</th>                 <td>14:44:08</td>     <th>  Log-Likelihood:    </th> <td> -1026.9</td> \n",
       "</tr>\n",
       "<tr>\n",
       "  <th>No. Observations:</th>      <td>   369</td>      <th>  AIC:               </th> <td>   2064.</td> \n",
       "</tr>\n",
       "<tr>\n",
       "  <th>Df Residuals:</th>          <td>   364</td>      <th>  BIC:               </th> <td>   2083.</td> \n",
       "</tr>\n",
       "<tr>\n",
       "  <th>Df Model:</th>              <td>     4</td>      <th>                     </th>     <td> </td>    \n",
       "</tr>\n",
       "<tr>\n",
       "  <th>Covariance Type:</th>      <td>nonrobust</td>    <th>                     </th>     <td> </td>    \n",
       "</tr>\n",
       "</table>\n",
       "<table class=\"simpletable\">\n",
       "<tr>\n",
       "      <td></td>         <th>coef</th>     <th>std err</th>      <th>t</th>      <th>P>|t|</th>  <th>[0.025</th>    <th>0.975]</th>  \n",
       "</tr>\n",
       "<tr>\n",
       "  <th>Intercept</th> <td>   66.5941</td> <td>    1.122</td> <td>   59.329</td> <td> 0.000</td> <td>   64.387</td> <td>   68.801</td>\n",
       "</tr>\n",
       "<tr>\n",
       "  <th>bc</th>        <td>    0.1452</td> <td>    0.014</td> <td>   10.662</td> <td> 0.000</td> <td>    0.118</td> <td>    0.172</td>\n",
       "</tr>\n",
       "<tr>\n",
       "  <th>teen</th>      <td>   -0.0358</td> <td>    0.007</td> <td>   -4.971</td> <td> 0.000</td> <td>   -0.050</td> <td>   -0.022</td>\n",
       "</tr>\n",
       "<tr>\n",
       "  <th>matdeath</th>  <td>   -0.0129</td> <td>    0.001</td> <td>  -12.530</td> <td> 0.000</td> <td>   -0.015</td> <td>   -0.011</td>\n",
       "</tr>\n",
       "<tr>\n",
       "  <th>eduspend</th>  <td>   -0.2695</td> <td>    0.109</td> <td>   -2.461</td> <td> 0.014</td> <td>   -0.485</td> <td>   -0.054</td>\n",
       "</tr>\n",
       "</table>\n",
       "<table class=\"simpletable\">\n",
       "<tr>\n",
       "  <th>Omnibus:</th>       <td>48.176</td> <th>  Durbin-Watson:     </th> <td>   1.015</td>\n",
       "</tr>\n",
       "<tr>\n",
       "  <th>Prob(Omnibus):</th> <td> 0.000</td> <th>  Jarque-Bera (JB):  </th> <td> 112.967</td>\n",
       "</tr>\n",
       "<tr>\n",
       "  <th>Skew:</th>          <td>-0.662</td> <th>  Prob(JB):          </th> <td>2.95e-25</td>\n",
       "</tr>\n",
       "<tr>\n",
       "  <th>Kurtosis:</th>      <td> 5.366</td> <th>  Cond. No.          </th> <td>2.44e+03</td>\n",
       "</tr>\n",
       "</table>"
      ],
      "text/plain": [
       "<class 'statsmodels.iolib.summary.Summary'>\n",
       "\"\"\"\n",
       "                            OLS Regression Results                            \n",
       "==============================================================================\n",
       "Dep. Variable:                   life   R-squared:                       0.823\n",
       "Model:                            OLS   Adj. R-squared:                  0.821\n",
       "Method:                 Least Squares   F-statistic:                     423.8\n",
       "Date:                Wed, 16 Aug 2017   Prob (F-statistic):          1.58e-135\n",
       "Time:                        14:44:08   Log-Likelihood:                -1026.9\n",
       "No. Observations:                 369   AIC:                             2064.\n",
       "Df Residuals:                     364   BIC:                             2083.\n",
       "Df Model:                           4                                         \n",
       "Covariance Type:            nonrobust                                         \n",
       "==============================================================================\n",
       "                 coef    std err          t      P>|t|      [0.025      0.975]\n",
       "------------------------------------------------------------------------------\n",
       "Intercept     66.5941      1.122     59.329      0.000      64.387      68.801\n",
       "bc             0.1452      0.014     10.662      0.000       0.118       0.172\n",
       "teen          -0.0358      0.007     -4.971      0.000      -0.050      -0.022\n",
       "matdeath      -0.0129      0.001    -12.530      0.000      -0.015      -0.011\n",
       "eduspend      -0.2695      0.109     -2.461      0.014      -0.485      -0.054\n",
       "==============================================================================\n",
       "Omnibus:                       48.176   Durbin-Watson:                   1.015\n",
       "Prob(Omnibus):                  0.000   Jarque-Bera (JB):              112.967\n",
       "Skew:                          -0.662   Prob(JB):                     2.95e-25\n",
       "Kurtosis:                       5.366   Cond. No.                     2.44e+03\n",
       "==============================================================================\n",
       "\n",
       "Warnings:\n",
       "[1] Standard Errors assume that the covariance matrix of the errors is correctly specified.\n",
       "[2] The condition number is large, 2.44e+03. This might indicate that there are\n",
       "strong multicollinearity or other numerical problems.\n",
       "\"\"\""
      ]
     },
     "execution_count": 93,
     "metadata": {},
     "output_type": "execute_result"
    }
   ],
   "source": [
    "mod = smf.ols(formula='life ~ bc + teen + matdeath + eduspend', data=focus)\n",
    "res = mod.fit()\n",
    "res.summary()"
   ]
  },
  {
   "cell_type": "code",
   "execution_count": null,
   "metadata": {
    "collapsed": true
   },
   "outputs": [],
   "source": []
  },
  {
   "cell_type": "code",
   "execution_count": 94,
   "metadata": {},
   "outputs": [
    {
     "data": {
      "text/html": [
       "<table class=\"simpletable\">\n",
       "<caption>OLS Regression Results</caption>\n",
       "<tr>\n",
       "  <th>Dep. Variable:</th>           <td>bc</td>        <th>  R-squared:         </th> <td>   0.578</td>\n",
       "</tr>\n",
       "<tr>\n",
       "  <th>Model:</th>                   <td>OLS</td>       <th>  Adj. R-squared:    </th> <td>   0.547</td>\n",
       "</tr>\n",
       "<tr>\n",
       "  <th>Method:</th>             <td>Least Squares</td>  <th>  F-statistic:       </th> <td>   18.64</td>\n",
       "</tr>\n",
       "<tr>\n",
       "  <th>Date:</th>             <td>Wed, 16 Aug 2017</td> <th>  Prob (F-statistic):</th> <td>1.29e-11</td>\n",
       "</tr>\n",
       "<tr>\n",
       "  <th>Time:</th>                 <td>14:44:09</td>     <th>  Log-Likelihood:    </th> <td> -301.96</td>\n",
       "</tr>\n",
       "<tr>\n",
       "  <th>No. Observations:</th>      <td>    74</td>      <th>  AIC:               </th> <td>   615.9</td>\n",
       "</tr>\n",
       "<tr>\n",
       "  <th>Df Residuals:</th>          <td>    68</td>      <th>  BIC:               </th> <td>   629.7</td>\n",
       "</tr>\n",
       "<tr>\n",
       "  <th>Df Model:</th>              <td>     5</td>      <th>                     </th>     <td> </td>   \n",
       "</tr>\n",
       "<tr>\n",
       "  <th>Covariance Type:</th>      <td>nonrobust</td>    <th>                     </th>     <td> </td>   \n",
       "</tr>\n",
       "</table>\n",
       "<table class=\"simpletable\">\n",
       "<tr>\n",
       "       <td></td>          <th>coef</th>     <th>std err</th>      <th>t</th>      <th>P>|t|</th>  <th>[0.025</th>    <th>0.975]</th>  \n",
       "</tr>\n",
       "<tr>\n",
       "  <th>Intercept</th>   <td>  106.3689</td> <td>   38.757</td> <td>    2.744</td> <td> 0.008</td> <td>   29.030</td> <td>  183.708</td>\n",
       "</tr>\n",
       "<tr>\n",
       "  <th>healthspend</th> <td>    0.8522</td> <td>    1.481</td> <td>    0.576</td> <td> 0.567</td> <td>   -2.102</td> <td>    3.807</td>\n",
       "</tr>\n",
       "<tr>\n",
       "  <th>eduspend</th>    <td>   -1.2921</td> <td>    0.924</td> <td>   -1.398</td> <td> 0.167</td> <td>   -3.136</td> <td>    0.552</td>\n",
       "</tr>\n",
       "<tr>\n",
       "  <th>wifehealth</th>  <td>   -0.2029</td> <td>    0.404</td> <td>   -0.502</td> <td> 0.617</td> <td>   -1.009</td> <td>    0.604</td>\n",
       "</tr>\n",
       "<tr>\n",
       "  <th>hushealth</th>   <td>   -1.1089</td> <td>    0.429</td> <td>   -2.587</td> <td> 0.012</td> <td>   -1.964</td> <td>   -0.254</td>\n",
       "</tr>\n",
       "<tr>\n",
       "  <th>bothhealth</th>  <td>   -0.6390</td> <td>    0.404</td> <td>   -1.582</td> <td> 0.118</td> <td>   -1.445</td> <td>    0.167</td>\n",
       "</tr>\n",
       "</table>\n",
       "<table class=\"simpletable\">\n",
       "<tr>\n",
       "  <th>Omnibus:</th>       <td>27.599</td> <th>  Durbin-Watson:     </th> <td>   1.580</td>\n",
       "</tr>\n",
       "<tr>\n",
       "  <th>Prob(Omnibus):</th> <td> 0.000</td> <th>  Jarque-Bera (JB):  </th> <td>  59.852</td>\n",
       "</tr>\n",
       "<tr>\n",
       "  <th>Skew:</th>          <td>-1.253</td> <th>  Prob(JB):          </th> <td>1.01e-13</td>\n",
       "</tr>\n",
       "<tr>\n",
       "  <th>Kurtosis:</th>      <td> 6.623</td> <th>  Cond. No.          </th> <td>1.25e+03</td>\n",
       "</tr>\n",
       "</table>"
      ],
      "text/plain": [
       "<class 'statsmodels.iolib.summary.Summary'>\n",
       "\"\"\"\n",
       "                            OLS Regression Results                            \n",
       "==============================================================================\n",
       "Dep. Variable:                     bc   R-squared:                       0.578\n",
       "Model:                            OLS   Adj. R-squared:                  0.547\n",
       "Method:                 Least Squares   F-statistic:                     18.64\n",
       "Date:                Wed, 16 Aug 2017   Prob (F-statistic):           1.29e-11\n",
       "Time:                        14:44:09   Log-Likelihood:                -301.96\n",
       "No. Observations:                  74   AIC:                             615.9\n",
       "Df Residuals:                      68   BIC:                             629.7\n",
       "Df Model:                           5                                         \n",
       "Covariance Type:            nonrobust                                         \n",
       "===============================================================================\n",
       "                  coef    std err          t      P>|t|      [0.025      0.975]\n",
       "-------------------------------------------------------------------------------\n",
       "Intercept     106.3689     38.757      2.744      0.008      29.030     183.708\n",
       "healthspend     0.8522      1.481      0.576      0.567      -2.102       3.807\n",
       "eduspend       -1.2921      0.924     -1.398      0.167      -3.136       0.552\n",
       "wifehealth     -0.2029      0.404     -0.502      0.617      -1.009       0.604\n",
       "hushealth      -1.1089      0.429     -2.587      0.012      -1.964      -0.254\n",
       "bothhealth     -0.6390      0.404     -1.582      0.118      -1.445       0.167\n",
       "==============================================================================\n",
       "Omnibus:                       27.599   Durbin-Watson:                   1.580\n",
       "Prob(Omnibus):                  0.000   Jarque-Bera (JB):               59.852\n",
       "Skew:                          -1.253   Prob(JB):                     1.01e-13\n",
       "Kurtosis:                       6.623   Cond. No.                     1.25e+03\n",
       "==============================================================================\n",
       "\n",
       "Warnings:\n",
       "[1] Standard Errors assume that the covariance matrix of the errors is correctly specified.\n",
       "[2] The condition number is large, 1.25e+03. This might indicate that there are\n",
       "strong multicollinearity or other numerical problems.\n",
       "\"\"\""
      ]
     },
     "execution_count": 94,
     "metadata": {},
     "output_type": "execute_result"
    }
   ],
   "source": [
    "mod = smf.ols(formula='bc ~ healthspend + eduspend + wifehealth + hushealth + bothhealth', data=focus)\n",
    "res = mod.fit()\n",
    "res.summary()"
   ]
  },
  {
   "cell_type": "code",
   "execution_count": null,
   "metadata": {
    "collapsed": true
   },
   "outputs": [],
   "source": []
  },
  {
   "cell_type": "code",
   "execution_count": 95,
   "metadata": {
    "collapsed": true,
    "scrolled": true
   },
   "outputs": [],
   "source": [
    "#visualize the relationship between independent variables and Life Expectancy using scatterplots\n",
    "#fig, axs = plt.subplots(1, 4, sharey=True)\n",
    "#df.plot(kind='scatter', x='Contraceptive prevalence, any methods (% of women ages 15-49)', y='Life expectancy at birth, total (years)', ax=axs[0], figsize=(20, 8))\n",
    "#df.plot(kind='scatter', x='Adolescent fertility rate (births per 1,000 women ages 15-19)', y='Life expectancy at birth, total (years)', ax=axs[1])\n",
    "#df.plot(kind='scatter', x='Materal mortality ratio (modeled estimate, per 100,000 live births)', y='Life expectancy at birth, total (years)', ax=axs[2])\n",
    "#df.plot(kind='scatter', x='Public spending on education, total (% of GDP)', y='Life expectancy at birth, total (years)', ax=axs[3])"
   ]
  },
  {
   "cell_type": "code",
   "execution_count": null,
   "metadata": {
    "collapsed": true
   },
   "outputs": [],
   "source": []
  },
  {
   "cell_type": "code",
   "execution_count": 96,
   "metadata": {},
   "outputs": [
    {
     "data": {
      "text/plain": [
       "(0, 1000)"
      ]
     },
     "execution_count": 96,
     "metadata": {},
     "output_type": "execute_result"
    },
    {
     "data": {
      "image/png": "[encoded data removed]",
      "text/plain": [
       "<matplotlib.figure.Figure at 0xa749550c>"
      ]
     },
     "metadata": {},
     "output_type": "display_data"
    }
   ],
   "source": [
    "#maternal death vs literacy rate\n",
    "death, axis = plt.subplots(1, 4, sharey=True)\n",
    "df.plot(kind='scatter', x='Literacy rate, adult female (% of females ages 15 and above)', y='Maternal mortality ratio (modeled estimate, per 100,000 live births)', ax=axis[0], figsize=(20, 8))\n",
    "df.plot(kind='scatter', x='Literacy rate, adult male (% of males ages 15 and above)', y='Maternal mortality ratio (modeled estimate, per 100,000 live births)', ax=axis[1])\n",
    "df.plot(kind='scatter', x='Literacy rate, youth female (% of females ages 15-24)', y='Maternal mortality ratio (modeled estimate, per 100,000 live births)', ax =axis[2])\n",
    "df.plot(kind='scatter', x='Literacy rate, youth male (% of males ages 15-24)', y='Maternal mortality ratio (modeled estimate, per 100,000 live births)', ax=axis[3])\n",
    "axis[0].set_xlim([0, 100])\n",
    "axis[0].set_ylim([0, 1000])\n",
    "axis[1].set_xlim([0, 100])\n",
    "axis[1].set_ylim([0, 1000])\n",
    "axis[2].set_xlim([0, 100])\n",
    "axis[2].set_ylim([0, 1000])\n",
    "axis[3].set_xlim([0, 100])\n",
    "axis[3].set_ylim([0, 1000])"
   ]
  },
  {
   "cell_type": "code",
   "execution_count": null,
   "metadata": {
    "collapsed": true
   },
   "outputs": [],
   "source": []
  },
  {
   "cell_type": "code",
   "execution_count": 97,
   "metadata": {},
   "outputs": [
    {
     "data": {
      "text/plain": [
       "Intercept    91.282843\n",
       "matdeath     -0.064724\n",
       "dtype: float64"
      ]
     },
     "execution_count": 97,
     "metadata": {},
     "output_type": "execute_result"
    }
   ],
   "source": [
    "focus['litfemale'] = df['Literacy rate, adult female (% of females ages 15 and above)']\n",
    "focus['litmale'] = df['Literacy rate, adult male (% of males ages 15 and above)']\n",
    "focus['youthfemale'] = df['Literacy rate, youth female (% of females ages 15-24)']\n",
    "focus['youthmale'] = df['Literacy rate, youth male (% of males ages 15-24)']\n",
    "\n",
    "femlit = smf.ols(formula='litfemale ~ matdeath', data=focus).fit()\n",
    "femlit.params"
   ]
  },
  {
   "cell_type": "code",
   "execution_count": 98,
   "metadata": {},
   "outputs": [
    {
     "data": {
      "text/plain": [
       "Intercept    95.055042\n",
       "matdeath     -0.043319\n",
       "dtype: float64"
      ]
     },
     "execution_count": 98,
     "metadata": {},
     "output_type": "execute_result"
    }
   ],
   "source": [
    "mlit = smf.ols(formula='litmale ~ matdeath', data=focus).fit()\n",
    "mlit.params"
   ]
  },
  {
   "cell_type": "code",
   "execution_count": 99,
   "metadata": {},
   "outputs": [
    {
     "data": {
      "text/plain": [
       "Intercept    99.075904\n",
       "matdeath     -0.054528\n",
       "dtype: float64"
      ]
     },
     "execution_count": 99,
     "metadata": {},
     "output_type": "execute_result"
    }
   ],
   "source": [
    "yfemlit = smf.ols(formula='youthfemale ~ matdeath', data=focus).fit()\n",
    "yfemlit.params"
   ]
  },
  {
   "cell_type": "code",
   "execution_count": 100,
   "metadata": {},
   "outputs": [
    {
     "data": {
      "text/plain": [
       "Intercept    98.751417\n",
       "matdeath     -0.035708\n",
       "dtype: float64"
      ]
     },
     "execution_count": 100,
     "metadata": {},
     "output_type": "execute_result"
    }
   ],
   "source": [
    "ymlit = smf.ols(formula='youthmale ~ matdeath', data=focus).fit()\n",
    "ymlit.params"
   ]
  },
  {
   "cell_type": "code",
   "execution_count": null,
   "metadata": {
    "collapsed": true
   },
   "outputs": [],
   "source": []
  },
  {
   "cell_type": "code",
   "execution_count": 101,
   "metadata": {},
   "outputs": [
    {
     "data": {
      "text/plain": [
       "<matplotlib.axes._subplots.AxesSubplot at 0xa67b954c>"
      ]
     },
     "execution_count": 101,
     "metadata": {},
     "output_type": "execute_result"
    },
    {
     "data": {
      "image/png": "[encoded data removed]",
      "text/plain": [
       "<matplotlib.figure.Figure at 0xa67fcd8c>"
      ]
     },
     "metadata": {},
     "output_type": "display_data"
    }
   ],
   "source": [
    "# Scatter plots of Adolescent Fertility vs Contraceptive use and Public Education Spending\n",
    "fig, axs = plt.subplots(1, 2, sharey=True)\n",
    "df.plot(kind='scatter', x='Contraceptive prevalence, any methods (% of women ages 15-49)', y='Adolescent fertility rate (births per 1,000 women ages 15-19)', ax=axs[0], figsize=(20, 8))\n",
    "df.plot(kind='scatter', x='Public spending on education, total (% of GDP)', y='Adolescent fertility rate (births per 1,000 women ages 15-19)', ax=axs[1])"
   ]
  },
  {
   "cell_type": "code",
   "execution_count": 102,
   "metadata": {},
   "outputs": [
    {
     "data": {
      "text/plain": [
       "Intercept    120.507345\n",
       "bc            -1.140946\n",
       "dtype: float64"
      ]
     },
     "execution_count": 102,
     "metadata": {},
     "output_type": "execute_result"
    }
   ],
   "source": [
    "#Adolescent Fertility dependence on Contraceptive Prevalence\n",
    "teenbc = smf.ols(formula='teen ~ bc', data=focus).fit()\n",
    "teenbc.params"
   ]
  },
  {
   "cell_type": "code",
   "execution_count": 103,
   "metadata": {},
   "outputs": [
    {
     "data": {
      "text/plain": [
       "Intercept    82.554222\n",
       "eduspend     -6.363880\n",
       "dtype: float64"
      ]
     },
     "execution_count": 103,
     "metadata": {},
     "output_type": "execute_result"
    }
   ],
   "source": [
    "#Adolescent Fertility dependence on Public Education Spending\n",
    "teenedu = smf.ols(formula='teen ~ eduspend', data=focus).fit()\n",
    "teenedu.params"
   ]
  },
  {
   "cell_type": "code",
   "execution_count": 104,
   "metadata": {},
   "outputs": [
    {
     "data": {
      "text/html": [
       "<table class=\"simpletable\">\n",
       "<caption>OLS Regression Results</caption>\n",
       "<tr>\n",
       "  <th>Dep. Variable:</th>          <td>teen</td>       <th>  R-squared:         </th> <td>   0.439</td>\n",
       "</tr>\n",
       "<tr>\n",
       "  <th>Model:</th>                   <td>OLS</td>       <th>  Adj. R-squared:    </th> <td>   0.436</td>\n",
       "</tr>\n",
       "<tr>\n",
       "  <th>Method:</th>             <td>Least Squares</td>  <th>  F-statistic:       </th> <td>   144.2</td>\n",
       "</tr>\n",
       "<tr>\n",
       "  <th>Date:</th>             <td>Wed, 16 Aug 2017</td> <th>  Prob (F-statistic):</th> <td>5.66e-47</td>\n",
       "</tr>\n",
       "<tr>\n",
       "  <th>Time:</th>                 <td>14:44:13</td>     <th>  Log-Likelihood:    </th> <td> -1821.1</td>\n",
       "</tr>\n",
       "<tr>\n",
       "  <th>No. Observations:</th>      <td>   371</td>      <th>  AIC:               </th> <td>   3648.</td>\n",
       "</tr>\n",
       "<tr>\n",
       "  <th>Df Residuals:</th>          <td>   368</td>      <th>  BIC:               </th> <td>   3660.</td>\n",
       "</tr>\n",
       "<tr>\n",
       "  <th>Df Model:</th>              <td>     2</td>      <th>                     </th>     <td> </td>   \n",
       "</tr>\n",
       "<tr>\n",
       "  <th>Covariance Type:</th>      <td>nonrobust</td>    <th>                     </th>     <td> </td>   \n",
       "</tr>\n",
       "</table>\n",
       "<table class=\"simpletable\">\n",
       "<tr>\n",
       "      <td></td>         <th>coef</th>     <th>std err</th>      <th>t</th>      <th>P>|t|</th>  <th>[0.025</th>    <th>0.975]</th>  \n",
       "</tr>\n",
       "<tr>\n",
       "  <th>Intercept</th> <td>  135.3550</td> <td>    5.194</td> <td>   26.060</td> <td> 0.000</td> <td>  125.142</td> <td>  145.568</td>\n",
       "</tr>\n",
       "<tr>\n",
       "  <th>bc</th>        <td>   -1.2059</td> <td>    0.075</td> <td>  -16.101</td> <td> 0.000</td> <td>   -1.353</td> <td>   -1.059</td>\n",
       "</tr>\n",
       "<tr>\n",
       "  <th>eduspend</th>  <td>   -2.1113</td> <td>    0.907</td> <td>   -2.327</td> <td> 0.020</td> <td>   -3.895</td> <td>   -0.327</td>\n",
       "</tr>\n",
       "</table>\n",
       "<table class=\"simpletable\">\n",
       "<tr>\n",
       "  <th>Omnibus:</th>       <td> 7.624</td> <th>  Durbin-Watson:     </th> <td>   0.843</td>\n",
       "</tr>\n",
       "<tr>\n",
       "  <th>Prob(Omnibus):</th> <td> 0.022</td> <th>  Jarque-Bera (JB):  </th> <td>   7.805</td>\n",
       "</tr>\n",
       "<tr>\n",
       "  <th>Skew:</th>          <td> 0.283</td> <th>  Prob(JB):          </th> <td>  0.0202</td>\n",
       "</tr>\n",
       "<tr>\n",
       "  <th>Kurtosis:</th>      <td> 3.429</td> <th>  Cond. No.          </th> <td>    171.</td>\n",
       "</tr>\n",
       "</table>"
      ],
      "text/plain": [
       "<class 'statsmodels.iolib.summary.Summary'>\n",
       "\"\"\"\n",
       "                            OLS Regression Results                            \n",
       "==============================================================================\n",
       "Dep. Variable:                   teen   R-squared:                       0.439\n",
       "Model:                            OLS   Adj. R-squared:                  0.436\n",
       "Method:                 Least Squares   F-statistic:                     144.2\n",
       "Date:                Wed, 16 Aug 2017   Prob (F-statistic):           5.66e-47\n",
       "Time:                        14:44:13   Log-Likelihood:                -1821.1\n",
       "No. Observations:                 371   AIC:                             3648.\n",
       "Df Residuals:                     368   BIC:                             3660.\n",
       "Df Model:                           2                                         \n",
       "Covariance Type:            nonrobust                                         \n",
       "==============================================================================\n",
       "                 coef    std err          t      P>|t|      [0.025      0.975]\n",
       "------------------------------------------------------------------------------\n",
       "Intercept    135.3550      5.194     26.060      0.000     125.142     145.568\n",
       "bc            -1.2059      0.075    -16.101      0.000      -1.353      -1.059\n",
       "eduspend      -2.1113      0.907     -2.327      0.020      -3.895      -0.327\n",
       "==============================================================================\n",
       "Omnibus:                        7.624   Durbin-Watson:                   0.843\n",
       "Prob(Omnibus):                  0.022   Jarque-Bera (JB):                7.805\n",
       "Skew:                           0.283   Prob(JB):                       0.0202\n",
       "Kurtosis:                       3.429   Cond. No.                         171.\n",
       "==============================================================================\n",
       "\n",
       "Warnings:\n",
       "[1] Standard Errors assume that the covariance matrix of the errors is correctly specified.\n",
       "\"\"\""
      ]
     },
     "execution_count": 104,
     "metadata": {},
     "output_type": "execute_result"
    }
   ],
   "source": [
    "teenfert = smf.ols(formula='teen ~ bc + eduspend', data=focus)\n",
    "line = teenfert.fit()\n",
    "line.summary()"
   ]
  },
  {
   "cell_type": "code",
   "execution_count": null,
   "metadata": {
    "collapsed": true
   },
   "outputs": [],
   "source": []
  },
  {
   "cell_type": "code",
   "execution_count": 105,
   "metadata": {},
   "outputs": [
    {
     "data": {
      "text/plain": [
       "<matplotlib.axes._subplots.AxesSubplot at 0xa66ef6ec>"
      ]
     },
     "execution_count": 105,
     "metadata": {},
     "output_type": "execute_result"
    },
    {
     "data": {
      "image/png": "[encoded data removed]",
      "text/plain": [
       "<matplotlib.figure.Figure at 0xa66d146c>"
      ]
     },
     "metadata": {},
     "output_type": "display_data"
    }
   ],
   "source": [
    "# visualize the relationship between Maternal Mortality vs Public Education Spending, Contraceptive use, and Adolescent Fertility using scatterplots\n",
    "fig, axs = plt.subplots(1, 3, sharey=True)\n",
    "df.plot(kind='scatter', x='Public spending on education, total (% of GDP)', y='Maternal mortality ratio (modeled estimate, per 100,000 live births)', ax=axs[0], figsize=(20, 8))\n",
    "df.plot(kind='scatter', x='Contraceptive prevalence, any methods (% of women ages 15-49)', y='Maternal mortality ratio (modeled estimate, per 100,000 live births)', ax=axs[1])\n",
    "df.plot(kind='scatter', x='Adolescent fertility rate (births per 1,000 women ages 15-19)', y='Maternal mortality ratio (modeled estimate, per 100,000 live births)', ax=axs[2])"
   ]
  },
  {
   "cell_type": "code",
   "execution_count": null,
   "metadata": {
    "collapsed": true
   },
   "outputs": [],
   "source": []
  },
  {
   "cell_type": "code",
   "execution_count": 106,
   "metadata": {},
   "outputs": [
    {
     "data": {
      "text/plain": [
       "<matplotlib.axes._subplots.AxesSubplot at 0xa66ef6ec>"
      ]
     },
     "execution_count": 106,
     "metadata": {},
     "output_type": "execute_result"
    }
   ],
   "source": [
    "# visualize the relationship between  using scatterplots\n",
    "Ed_BC = df.plot(kind='scatter', x='Public spending on education, total (% of GDP)', y='Contraceptive prevalence, any methods (% of women ages 15-49)', ax=axs[2])\n",
    "Ed_BC"
   ]
  },
  {
   "cell_type": "code",
   "execution_count": null,
   "metadata": {
    "collapsed": true
   },
   "outputs": [],
   "source": []
  },
  {
   "cell_type": "code",
   "execution_count": 107,
   "metadata": {},
   "outputs": [
    {
     "data": {
      "text/plain": [
       "\"corr = pd.DataFrame()\\ncorr['country'] = df['Country.Name']\\ncorr['life'] = df['Life expectancy at birth, total (years)']\\ncorr['bc'] = df['Contraceptive prevalence, any methods (% of women ages 15-49)']\\ncorr['teen'] = df['Adolescent fertility rate (births per 1,000 women ages 15-19)']\\ncorr['matdeath'] = df['Maternal mortality ratio (modeled estimate, per 100,000 live births)']\\ncorr['eduspend'] = df['Public spending on education, total (% of GDP)']\\n\""
      ]
     },
     "execution_count": 107,
     "metadata": {},
     "output_type": "execute_result"
    }
   ],
   "source": [
    "'''corr = pd.DataFrame()\n",
    "corr['country'] = df['Country.Name']\n",
    "corr['life'] = df['Life expectancy at birth, total (years)']\n",
    "corr['bc'] = df['Contraceptive prevalence, any methods (% of women ages 15-49)']\n",
    "corr['teen'] = df['Adolescent fertility rate (births per 1,000 women ages 15-19)']\n",
    "corr['matdeath'] = df['Maternal mortality ratio (modeled estimate, per 100,000 live births)']\n",
    "corr['eduspend'] = df['Public spending on education, total (% of GDP)']\n",
    "'''\n"
   ]
  },
  {
   "cell_type": "code",
   "execution_count": null,
   "metadata": {
    "collapsed": true
   },
   "outputs": [],
   "source": []
  },
  {
   "cell_type": "code",
   "execution_count": null,
   "metadata": {
    "collapsed": true
   },
   "outputs": [],
   "source": []
  },
  {
   "cell_type": "code",
   "execution_count": null,
   "metadata": {
    "collapsed": true
   },
   "outputs": [],
   "source": []
  },
  {
   "cell_type": "code",
   "execution_count": null,
   "metadata": {
    "collapsed": true
   },
   "outputs": [],
   "source": []
  },
  {
   "cell_type": "code",
   "execution_count": null,
   "metadata": {
    "collapsed": true
   },
   "outputs": [],
   "source": []
  },
  {
   "cell_type": "code",
   "execution_count": null,
   "metadata": {
    "collapsed": true
   },
   "outputs": [],
   "source": []
  }
 ],
 "metadata": {
  "kernelspec": {
   "display_name": "Python 2",
   "language": "python",
   "name": "python2"
  },
  "language_info": {
   "codemirror_mode": {
    "name": "ipython",
    "version": 2
   },
   "file_extension": ".py",
   "mimetype": "text/x-python",
   "name": "python",
   "nbconvert_exporter": "python",
   "pygments_lexer": "ipython2",
   "version": "2.7.13"
  }
 },
 "nbformat": 4,
 "nbformat_minor": 2
}
