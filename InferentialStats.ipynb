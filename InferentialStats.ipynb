{
 "cells": [
  {
   "cell_type": "markdown",
   "metadata": {},
   "source": [
    "# Inferential Stats Exploration"
   ]
  },
  {
   "cell_type": "code",
   "execution_count": 1,
   "metadata": {},
   "outputs": [
    {
     "name": "stdout",
     "output_type": "stream",
     "text": [
      "Populating the interactive namespace from numpy and matplotlib\n"
     ]
    }
   ],
   "source": [
    "import pandas as pd\n",
    "import numpy as np\n",
    "import seaborn as sns\n",
    "from sklearn import preprocessing as pp\n",
    "from sklearn import linear_model as lm\n",
    "%pylab inline\n",
    "\n",
    "#wrangled data imported into a pandas dataframe\n",
    "df = pd.read_csv('~/Documents/Repository/Capstone-1_WorldBank_GenderData/wrangled_data.csv')"
   ]
  },
  {
   "cell_type": "code",
   "execution_count": 2,
   "metadata": {
    "collapsed": true
   },
   "outputs": [],
   "source": [
    "#create a new df with fewer variables to build models with\n",
    "focus = pd.DataFrame()\n",
    "focus['life'] = df['Life expectancy at birth, total (years)']\n",
    "focus['bc'] = df['Contraceptive prevalence, any methods (% of women ages 15-49)']\n",
    "focus['matdeath'] = df['Maternal mortality ratio (modeled estimate, per 100,000 live births)']\n",
    "focus['teen'] = df['Adolescent fertility rate (births per 1,000 women ages 15-19)']\n",
    "focus['gdp'] = df['GDP per capita (Current US$)']\n",
    "focus['healthspend'] = df['Health expenditure, public (% of GDP)']\n",
    "focus['eduspend'] = df['Public spending on education, total (% of GDP)']\n",
    "\n",
    "focus.to_csv('finalvars.csv')"
   ]
  },
  {
   "cell_type": "code",
   "execution_count": 3,
   "metadata": {},
   "outputs": [
    {
     "data": {
      "text/plain": [
       "<matplotlib.axes._subplots.AxesSubplot at 0xa93b298c>"
      ]
     },
     "execution_count": 3,
     "metadata": {},
     "output_type": "execute_result"
    },
    {
     "data": {
      "image/png": "[encoded data removed]",
      "text/plain": [
       "<matplotlib.figure.Figure at 0xa938f3cc>"
      ]
     },
     "metadata": {},
     "output_type": "display_data"
    }
   ],
   "source": [
    "#visualized 'heatmap' of correlations between the variables in the focus df\n",
    "corrmat= focus.corr()\n",
    "sns.heatmap(corrmat, vmax=.8, square=True)"
   ]
  },
  {
   "cell_type": "code",
   "execution_count": 4,
   "metadata": {},
   "outputs": [
    {
     "data": {
      "text/plain": [
       "life            246\n",
       "gdp             301\n",
       "teen            345\n",
       "healthspend     422\n",
       "matdeath        510\n",
       "eduspend       1845\n",
       "bc             3306\n",
       "dtype: int64"
      ]
     },
     "execution_count": 4,
     "metadata": {},
     "output_type": "execute_result"
    }
   ],
   "source": [
    "#find which variable(s) has the most missing value \n",
    "#focus['abuse'] was determined to not have enough date points to be useful\n",
    "focus.isnull().sum().sort_values()"
   ]
  },
  {
   "cell_type": "code",
   "execution_count": null,
   "metadata": {
    "collapsed": true
   },
   "outputs": [],
   "source": []
  },
  {
   "cell_type": "code",
   "execution_count": 5,
   "metadata": {},
   "outputs": [
    {
     "name": "stdout",
     "output_type": "stream",
     "text": [
      "bc      629\n",
      "life    629\n",
      "dtype: int64\n",
      "bc          624\n",
      "matdeath    624\n",
      "dtype: int64\n",
      "bc      628\n",
      "teen    628\n",
      "dtype: int64\n",
      "bc     623\n",
      "gdp    623\n",
      "dtype: int64\n",
      "bc             622\n",
      "healthspend    622\n",
      "dtype: int64\n",
      "bc          373\n",
      "eduspend    373\n",
      "dtype: int64\n"
     ]
    }
   ],
   "source": [
    "#To find which variables will result in the highest number of instances when paired with Contraceptive use, do a for loop comparing each variable, one at a time to BC, doing dropna and see what df has the most rows.\n",
    "dv = ['life', 'matdeath', 'teen', 'gdp', 'healthspend', 'eduspend']\n",
    "for var in dv:\n",
    "    compare = pd.DataFrame()\n",
    "    compare['bc'] = focus['bc']\n",
    "    compare[var]= focus[var]\n",
    "    compare = compare.dropna()\n",
    "    print compare.count()"
   ]
  },
  {
   "cell_type": "code",
   "execution_count": null,
   "metadata": {
    "collapsed": true
   },
   "outputs": [],
   "source": []
  },
  {
   "cell_type": "code",
   "execution_count": 6,
   "metadata": {},
   "outputs": [
    {
     "name": "stdout",
     "output_type": "stream",
     "text": [
      "bc\n",
      "        life  matdeath      teen       gdp  healthspend  eduspend\n",
      "10  0.467943  0.219494  0.450212  0.004822     0.214419  0.276804\n",
      "11  0.476183  0.201360  0.422924  0.005378     0.142159  0.241864\n",
      "15  0.820981  0.015111  0.079746  0.011247     0.158779  0.175740\n",
      "17  0.841356  0.012845  0.079571  0.014194     0.158584  0.156729\n",
      "20  0.862745  0.010200  0.077814  0.027509     0.200539  0.171761\n",
      "life\n",
      "          bc  matdeath      teen       gdp  healthspend  eduspend\n",
      "10  0.190840  0.219494  0.450212  0.004822     0.214419  0.276804\n",
      "11  0.184297  0.201360  0.422924  0.005378     0.142159  0.241864\n",
      "15  0.580153  0.015111  0.079746  0.011247     0.158779  0.175740\n",
      "17  0.772083  0.012845  0.079571  0.014194     0.158584  0.156729\n",
      "20  0.608506  0.010200  0.077814  0.027509     0.200539  0.171761\n",
      "matdeath\n",
      "        life        bc      teen       gdp  healthspend  eduspend\n",
      "10  0.467943  0.190840  0.450212  0.004822     0.214419  0.276804\n",
      "11  0.476183  0.184297  0.422924  0.005378     0.142159  0.241864\n",
      "15  0.820981  0.580153  0.079746  0.011247     0.158779  0.175740\n",
      "17  0.841356  0.772083  0.079571  0.014194     0.158584  0.156729\n",
      "20  0.862745  0.608506  0.077814  0.027509     0.200539  0.171761\n",
      "teen\n",
      "        life        bc  matdeath       gdp  healthspend  eduspend\n",
      "10  0.467943  0.190840  0.219494  0.004822     0.214419  0.276804\n",
      "11  0.476183  0.184297  0.201360  0.005378     0.142159  0.241864\n",
      "15  0.820981  0.580153  0.015111  0.011247     0.158779  0.175740\n",
      "17  0.841356  0.772083  0.012845  0.014194     0.158584  0.156729\n",
      "20  0.862745  0.608506  0.010200  0.027509     0.200539  0.171761\n"
     ]
    },
    {
     "data": {
      "text/plain": [
       "0.61232641328442816"
      ]
     },
     "execution_count": 6,
     "metadata": {},
     "output_type": "execute_result"
    }
   ],
   "source": [
    "#change scale of data to range of 0 to 1\n",
    "focdrop= focus.copy().dropna()\n",
    "scaler = pp.MinMaxScaler()\n",
    "scale = pd.DataFrame(scaler.fit_transform(focdrop), columns= focdrop.columns, index = focdrop.index)\n",
    "#Set up IV matrix and DV array to test model accuracy\n",
    "dv = ['bc', 'life', 'matdeath', 'teen']\n",
    "for var in dv:\n",
    "    print(var)\n",
    "    y = pd.DataFrame()\n",
    "    y = scale[var]\n",
    "    X = scale.copy()\n",
    "    del X[var]\n",
    "    print(X.head())\n",
    "\n",
    "sgdr = lm.SGDRegressor(n_iter=1000)  # or any sklearn regressor that you like\n",
    "sgdr.fit(X,y)\n",
    "sgdr.score(X, y)"
   ]
  },
  {
   "cell_type": "code",
   "execution_count": 7,
   "metadata": {},
   "outputs": [
    {
     "data": {
      "text/plain": [
       "array([-0.29889894, -0.09515745,  0.50962583, -0.17922519,  0.08213524,\n",
       "       -0.13422882])"
      ]
     },
     "execution_count": 7,
     "metadata": {},
     "output_type": "execute_result"
    }
   ],
   "source": [
    "sgdr.coef_"
   ]
  },
  {
   "cell_type": "code",
   "execution_count": 8,
   "metadata": {},
   "outputs": [
    {
     "data": {
      "text/plain": [
       "(368, 6)"
      ]
     },
     "execution_count": 8,
     "metadata": {},
     "output_type": "execute_result"
    }
   ],
   "source": [
    "X.shape"
   ]
  },
  {
   "cell_type": "code",
   "execution_count": 9,
   "metadata": {},
   "outputs": [
    {
     "data": {
      "text/plain": [
       "0.55184903132686758"
      ]
     },
     "execution_count": 9,
     "metadata": {},
     "output_type": "execute_result"
    }
   ],
   "source": [
    "#Create small data frame with only Contraceptive Use ('bc') and Life Expectancy ('life'), drop Nan values and run an SGD Regressor model on the two variables\n",
    "bclife = pd.DataFrame()\n",
    "bclife['bc'] = focus['bc']\n",
    "bclife['life'] = focus['life']\n",
    "bclife = bclife.dropna()\n",
    "blmodel = lm.SGDRegressor(n_iter=100000, eta0=.001)\n",
    "blmodel.fit(bclife[['bc']], bclife.life)\n",
    "blmodel.score(bclife[['bc']], bclife.life)"
   ]
  },
  {
   "cell_type": "markdown",
   "metadata": {
    "collapsed": true
   },
   "source": [
    "### There is a correlation coefficient of 0.558 between Contraceptive Use and Life Expectancy."
   ]
  },
  {
   "cell_type": "code",
   "execution_count": null,
   "metadata": {
    "collapsed": true
   },
   "outputs": [],
   "source": []
  }
 ],
 "metadata": {
  "kernelspec": {
   "display_name": "Python 2",
   "language": "python",
   "name": "python2"
  },
  "language_info": {
   "codemirror_mode": {
    "name": "ipython",
    "version": 2
   },
   "file_extension": ".py",
   "mimetype": "text/x-python",
   "name": "python",
   "nbconvert_exporter": "python",
   "pygments_lexer": "ipython2",
   "version": "2.7.13"
  }
 },
 "nbformat": 4,
 "nbformat_minor": 2
}
